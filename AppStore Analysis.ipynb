{
 "cells": [
  {
   "cell_type": "markdown",
   "metadata": {},
   "source": [
    "## Profitable App Profiled for the Apple App Store and Google Play Store\n",
    "\n",
    "- This project is about analyzing the applications from both the Google play store and the Apple app store in order to know which applications are worth investing in. \n",
    "- My goal in this project is to apply everything I have learnt so far and utilize it in this analysis."
   ]
  },
  {
   "cell_type": "markdown",
   "metadata": {},
   "source": [
    "## Opening and Exploring the Data\n",
    "\n",
    "As of September 2018, there were approximately 2 million iOS apps available on the App Store, and 2.1 million Android apps on Google Play\n",
    "Collecting data for over 4 million apps requires a significant amount of time and money, so we'll try to analyze a sample of data instead. To avoid spending resources on collecting new data ourselves, we should first try to see if we can find any relevant existing data at no cost. Luckily, these data sets that seem suitable for our goals:\n",
    "\n",
    "- [A data set](https://www.kaggle.com/lava18/google-play-store-apps) containing data of about 10,000 Android apps from Google Play; the data set can be downloaded directly from [this link](https://dq-content.s3.amazonaws.com/350/googleplaystore.csv)\n",
    "- [A data set](https://www.kaggle.com/ramamet4/app-store-apple-data-set-10k-apps) containing data of about 7,000 iOS apps from the App Store: the data set can be downloaded directly from [this link](https://dq-content.s3.amazonaws.com/350/AppleStore.csv)"
   ]
  },
  {
   "cell_type": "code",
   "execution_count": 1,
   "metadata": {},
   "outputs": [],
   "source": [
    "from csv import reader\n",
    "\n",
    "# Opening AppleStore Apps\n",
    "open_file = open('AppleStore.csv', encoding='utf-8')\n",
    "read_file = reader(open_file)\n",
    "ios = list(read_file)\n",
    "ios_header = ios[0]\n",
    "ios = ios[1:]\n",
    "\n",
    "# Opening Google PlayStore Apps\n",
    "open_file = open('googleplaystore.csv',encoding='utf-8')\n",
    "read_file = reader(open_file)\n",
    "android = list(read_file)\n",
    "android_header = android[0]\n",
    "android = android[1:]"
   ]
  },
  {
   "cell_type": "markdown",
   "metadata": {},
   "source": [
    "Now we create a function to explore the data sets and make our analysis more understandable and easier. This function `explore_data()` will allow us explore rows and be able to show us the number of rows and columns."
   ]
  },
  {
   "cell_type": "code",
   "execution_count": 2,
   "metadata": {
    "scrolled": true
   },
   "outputs": [
    {
     "name": "stdout",
     "output_type": "stream",
     "text": [
      "['', 'id', 'track_name', 'size_bytes', 'currency', 'price', 'rating_count_tot', 'rating_count_ver', 'user_rating', 'user_rating_ver', 'ver', 'cont_rating', 'prime_genre', 'sup_devices.num', 'ipadSc_urls.num', 'lang.num', 'vpp_lic'] \n",
      "\n",
      "['1', '281656475', 'PAC-MAN Premium', '100788224', 'USD', '3.99', '21292', '26', '4', '4.5', '6.3.5', '4+', 'Games', '38', '5', '10', '1'] \n",
      "\n",
      "['2', '281796108', 'Evernote - stay organized', '158578688', 'USD', '0', '161065', '26', '4', '3.5', '8.2.2', '4+', 'Productivity', '37', '5', '23', '1'] \n",
      "\n",
      "['3', '281940292', 'WeatherBug - Local Weather, Radar, Maps, Alerts', '100524032', 'USD', '0', '188583', '2822', '3.5', '4.5', '5.0.0', '4+', 'Weather', '37', '5', '3', '1'] \n",
      "\n",
      "['4', '282614216', 'eBay: Best App to Buy, Sell, Save! Online Shopping', '128512000', 'USD', '0', '262241', '649', '4', '4.5', '5.10.0', '12+', 'Shopping', '37', '5', '9', '1'] \n",
      "\n",
      "['5', '282935706', 'Bible', '92774400', 'USD', '0', '985920', '5320', '4.5', '5', '7.5.1', '4+', 'Reference', '37', '5', '45', '1'] \n",
      "\n",
      "Number of rows: 7197\n",
      "Number of columns: 17\n"
     ]
    }
   ],
   "source": [
    "def explore_data(dataset, start, end, rows_and_columns = True):\n",
    "    dataset_slice = dataset[start:end]\n",
    "    for row in dataset_slice:\n",
    "        print(row,'\\n') #prints row and adds a linespace after each row\n",
    "        \n",
    "    if rows_and_columns:\n",
    "        print('Number of rows:',len(dataset))\n",
    "        print('Number of columns:',len(dataset[0]))\n",
    "\n",
    "print(ios_header,'\\n')\n",
    "explore_data(ios,0,5)"
   ]
  },
  {
   "cell_type": "markdown",
   "metadata": {},
   "source": [
    "We can see that there are 7197 number of apps in this dataset and the columnn mostly important to us in this project are the 'track_name', 'size_bytes', 'price', rating_count_tot', 'user_rating', and 'prime_genre' columns\n",
    "\n",
    "More information on the ios apps columns can be found [here](https://www.kaggle.com/ramamet4/app-store-apple-data-set-10k-apps)"
   ]
  },
  {
   "cell_type": "code",
   "execution_count": 3,
   "metadata": {},
   "outputs": [
    {
     "name": "stdout",
     "output_type": "stream",
     "text": [
      "['App', 'Category', 'Rating', 'Reviews', 'Size', 'Installs', 'Type', 'Price', 'Content Rating', 'Genres', 'Last Updated', 'Current Ver', 'Android Ver'] \n",
      "\n",
      "['Photo Editor & Candy Camera & Grid & ScrapBook', 'ART_AND_DESIGN', '4.1', '159', '19M', '10,000+', 'Free', '0', 'Everyone', 'Art & Design', 'January 7, 2018', '1.0.0', '4.0.3 and up'] \n",
      "\n",
      "['Coloring book moana', 'ART_AND_DESIGN', '3.9', '967', '14M', '500,000+', 'Free', '0', 'Everyone', 'Art & Design;Pretend Play', 'January 15, 2018', '2.0.0', '4.0.3 and up'] \n",
      "\n",
      "['U Launcher Lite – FREE Live Cool Themes, Hide Apps', 'ART_AND_DESIGN', '4.7', '87510', '8.7M', '5,000,000+', 'Free', '0', 'Everyone', 'Art & Design', 'August 1, 2018', '1.2.4', '4.0.3 and up'] \n",
      "\n",
      "['Sketch - Draw & Paint', 'ART_AND_DESIGN', '4.5', '215644', '25M', '50,000,000+', 'Free', '0', 'Teen', 'Art & Design', 'June 8, 2018', 'Varies with device', '4.2 and up'] \n",
      "\n",
      "['Pixel Draw - Number Art Coloring Book', 'ART_AND_DESIGN', '4.3', '967', '2.8M', '100,000+', 'Free', '0', 'Everyone', 'Art & Design;Creativity', 'June 20, 2018', '1.1', '4.4 and up'] \n",
      "\n",
      "Number of rows: 10841\n",
      "Number of columns: 13\n"
     ]
    }
   ],
   "source": [
    "print(android_header,'\\n')\n",
    "explore_data(android,0,5)"
   ]
  },
  {
   "cell_type": "markdown",
   "metadata": {},
   "source": [
    "We can see that there are 7197 number of apps in this dataset and the columnn mostly important to us in this project are the 'App', 'Category', 'Rating', 'Size', 'Price', 'Content Rating' and 'Genres' columns\n",
    "\n",
    "More information on the android apps columns can be found [here](https://www.kaggle.com/lava18/google-play-store-apps)\n"
   ]
  },
  {
   "cell_type": "markdown",
   "metadata": {},
   "source": [
    "## Data Cleaning\n",
    "\n",
    "This is one of the most important parts of this project and it involves removing or correcting wrong data, removing duplicate data, and modifying the data for the sole purpose of our analysis."
   ]
  },
  {
   "cell_type": "code",
   "execution_count": 4,
   "metadata": {},
   "outputs": [
    {
     "name": "stdout",
     "output_type": "stream",
     "text": [
      "['App', 'Category', 'Rating', 'Reviews', 'Size', 'Installs', 'Type', 'Price', 'Content Rating', 'Genres', 'Last Updated', 'Current Ver', 'Android Ver'] \n",
      "\n",
      "['Life Made WI-Fi Touchscreen Photo Frame', '1.9', '19', '3.0M', '1,000+', 'Free', '0', 'Everyone', '', 'February 11, 2018', '1.0.19', '4.0 and up'] \n",
      "\n",
      "['osmino Wi-Fi: free WiFi', 'TOOLS', '4.2', '134203', '4.1M', '10,000,000+', 'Free', '0', 'Everyone', 'Tools', 'August 7, 2018', '6.06.14', '4.4 and up'] \n",
      "\n",
      "10840\n"
     ]
    }
   ],
   "source": [
    "# Delete this android row with the error and run only ONCE\n",
    "\n",
    "print(android_header,'\\n')\n",
    "print(android[10472],'\\n')\n",
    "# del android[10472]\n",
    "print(android[10472],'\\n')\n",
    "\n",
    "print(len(android)) #the new lenght has been reduced by 1"
   ]
  },
  {
   "cell_type": "markdown",
   "metadata": {},
   "source": [
    "Above, we can see that the row 10472 in the android dataset does not have a category.\n",
    "\n",
    "Now the row with an error has been deleted and we will proceed with the rest of the data cleaning process"
   ]
  },
  {
   "cell_type": "code",
   "execution_count": 5,
   "metadata": {},
   "outputs": [],
   "source": [
    "# To check if there are similar errors let us check the length of each row\n",
    "\n",
    "for app in android:\n",
    "    if len(app) != len(android_header):\n",
    "        print(app)\n",
    "        \n",
    "for App in ios:\n",
    "    if len(App) != len(ios_header):\n",
    "        print(App)\n",
    "        \n",
    "# No output means the rows are now all equal"
   ]
  },
  {
   "cell_type": "markdown",
   "metadata": {},
   "source": [
    "## Removing Duplicate Apps\n",
    "From the [discussion](https://www.kaggle.com/lava18/google-play-store-apps/discussion) section, it can be noticed that some apps were duplicated and this has to be corrected"
   ]
  },
  {
   "cell_type": "code",
   "execution_count": 6,
   "metadata": {},
   "outputs": [
    {
     "name": "stdout",
     "output_type": "stream",
     "text": [
      "['Instagram', 'SOCIAL', '4.5', '66577313', 'Varies with device', '1,000,000,000+', 'Free', '0', 'Teen', 'Social', 'July 31, 2018', 'Varies with device', 'Varies with device']\n",
      "['Instagram', 'SOCIAL', '4.5', '66577446', 'Varies with device', '1,000,000,000+', 'Free', '0', 'Teen', 'Social', 'July 31, 2018', 'Varies with device', 'Varies with device']\n",
      "['Instagram', 'SOCIAL', '4.5', '66577313', 'Varies with device', '1,000,000,000+', 'Free', '0', 'Teen', 'Social', 'July 31, 2018', 'Varies with device', 'Varies with device']\n",
      "['Instagram', 'SOCIAL', '4.5', '66509917', 'Varies with device', '1,000,000,000+', 'Free', '0', 'Teen', 'Social', 'July 31, 2018', 'Varies with device', 'Varies with device']\n"
     ]
    }
   ],
   "source": [
    "# finding out the number of duplicate apps in android\n",
    "\n",
    "for app in android:\n",
    "    name = app[0]\n",
    "    if name == 'Instagram':\n",
    "        print(app)"
   ]
  },
  {
   "cell_type": "markdown",
   "metadata": {},
   "source": [
    "Now let us find the number of duplicate apps in android since ther is no such error for ios(by running the above code for ios)"
   ]
  },
  {
   "cell_type": "code",
   "execution_count": 7,
   "metadata": {},
   "outputs": [
    {
     "name": "stdout",
     "output_type": "stream",
     "text": [
      "Number of duplicate_apps: 1181 \n",
      "\n",
      "Number of unique_apps: 9659 \n",
      "\n",
      "Examples of duplicate apps: ['Quick PDF Scanner + OCR FREE', 'Box', 'Google My Business', 'ZOOM Cloud Meetings', 'join.me - Simple Meetings', 'Box', 'Zenefits', 'Google Ads', 'Google My Business', 'Slack', 'FreshBooks Classic', 'Insightly CRM', 'QuickBooks Accounting: Invoicing & Expenses', 'HipChat - Chat Built for Teams', 'Xero Accounting Software', 'MailChimp - Email, Marketing Automation', 'Crew - Free Messaging and Scheduling', 'Asana: organize team projects', 'Google Analytics', 'AdWords Express']\n"
     ]
    }
   ],
   "source": [
    "# Finding the number of duplicate app for android\n",
    "\n",
    "duplicate_apps = []\n",
    "unique_apps = []\n",
    "\n",
    "for app in android:\n",
    "    name = app[0]\n",
    "    if name in unique_apps:\n",
    "        duplicate_apps.append(name)\n",
    "    else:\n",
    "        unique_apps.append(name)\n",
    "        \n",
    "print('Number of duplicate_apps:', len(duplicate_apps),'\\n')\n",
    "print('Number of unique_apps:', len(unique_apps),'\\n')\n",
    "print('Examples of duplicate apps:',duplicate_apps[:20])"
   ]
  },
  {
   "cell_type": "code",
   "execution_count": 8,
   "metadata": {},
   "outputs": [],
   "source": [
    "# Showing you that some apps indeed appear more than once\n",
    "\n",
    "app_freq = {}\n",
    "for app in android:\n",
    "    name = app[0]\n",
    "    if name in app_freq:\n",
    "        app_freq[name] += 1\n",
    "    else:\n",
    "        app_freq[name] = 1\n",
    "        \n",
    "# print(app_freq)"
   ]
  },
  {
   "cell_type": "markdown",
   "metadata": {},
   "source": [
    "### Removing Duplicates\n",
    "### Part One\n",
    "Since there are multiple duplicated apps, we need to keep one and remove the others. To make this possible, we will use the product reviews since the highest review would be the most recent one. This way, we can eliminate the duplicates.\n",
    "\n",
    "We found out that there were 1,181 duplicate apps and we have 9,659 unique apps"
   ]
  },
  {
   "cell_type": "code",
   "execution_count": 9,
   "metadata": {},
   "outputs": [
    {
     "name": "stdout",
     "output_type": "stream",
     "text": [
      "Expected length: 9659\n"
     ]
    }
   ],
   "source": [
    "print('Expected length:', len(android)-1181)     #To confirm the observation"
   ]
  },
  {
   "cell_type": "markdown",
   "metadata": {},
   "source": [
    "To remove the duplicates:\n",
    "\n",
    "- We create a dictionary where each ket is a unique app name and the value is the highest number of reviews of that app\n",
    "- The information in the new dictionaty is used to form a new dataset, which has only one entry per app(app with highest reviews)"
   ]
  },
  {
   "cell_type": "code",
   "execution_count": 10,
   "metadata": {},
   "outputs": [
    {
     "name": "stdout",
     "output_type": "stream",
     "text": [
      "9659\n"
     ]
    }
   ],
   "source": [
    "# Creating the dictionary\n",
    "\n",
    "reviews_max = {}\n",
    "for app in android:\n",
    "    name = app[0]\n",
    "    n_reviews = float(app[3])\n",
    "    if name in reviews_max and reviews_max[name] < n_reviews:\n",
    "        reviews_max[name] = n_reviews\n",
    "    elif name not in reviews_max:\n",
    "        reviews_max[name] = n_reviews\n",
    "    \n",
    "# print(reviews_max)\n",
    "print(len(reviews_max))"
   ]
  },
  {
   "cell_type": "markdown",
   "metadata": {},
   "source": [
    "### Part two\n",
    "Now we will use the `reviews_max` dictionary to remove the duplicates. Remember that we only need the apps with the highest number of reviews since we eliminated the duplicates. This is how the code below works:\n",
    "* We start by initializing two empty lists, `android_clean` and `already_added`\n",
    "* We loop through the android set for every iteration\n",
    "    * We isolate the name and number of reviews of the app\n",
    "    * We add the app to the `android_cleaned` list and the app name to `already_added` if:\n",
    "        * The number of reviews is the same as the maximum number of reviews of the app in the `reviews_max` dictionary\n",
    "        * The app name is not already in the `already_added` list. This is so that we do not have some apps with the same number of reviews still become a duplicate. If we only check for `n_reviews == reviews_max[name]`, some apps have the same maximum reviews and they will become duplicates."
   ]
  },
  {
   "cell_type": "code",
   "execution_count": 11,
   "metadata": {
    "scrolled": true
   },
   "outputs": [
    {
     "name": "stdout",
     "output_type": "stream",
     "text": [
      "['U Launcher Lite – FREE Live Cool Themes, Hide Apps', 'ART_AND_DESIGN', '4.7', '87510', '8.7M', '5,000,000+', 'Free', '0', 'Everyone', 'Art & Design', 'August 1, 2018', '1.2.4', '4.0.3 and up'] \n",
      "\n",
      "['Sketch - Draw & Paint', 'ART_AND_DESIGN', '4.5', '215644', '25M', '50,000,000+', 'Free', '0', 'Teen', 'Art & Design', 'June 8, 2018', 'Varies with device', '4.2 and up'] \n",
      "\n",
      "['Pixel Draw - Number Art Coloring Book', 'ART_AND_DESIGN', '4.3', '967', '2.8M', '100,000+', 'Free', '0', 'Everyone', 'Art & Design;Creativity', 'June 20, 2018', '1.1', '4.4 and up'] \n",
      "\n",
      "['Paper flowers instructions', 'ART_AND_DESIGN', '4.4', '167', '5.6M', '50,000+', 'Free', '0', 'Everyone', 'Art & Design', 'March 26, 2017', '1.0', '2.3 and up'] \n",
      "\n",
      "Number of rows: 9659\n",
      "Number of columns: 13\n",
      "U Launcher Lite – FREE Live Cool Themes, Hide Apps \n",
      "\n",
      "Sketch - Draw & Paint \n",
      "\n",
      "Pixel Draw - Number Art Coloring Book \n",
      "\n",
      "Paper flowers instructions \n",
      "\n",
      "Number of rows: 9659\n",
      "Number of columns: 46\n"
     ]
    }
   ],
   "source": [
    "# Creating the clean data\n",
    "\n",
    "android_clean = []\n",
    "already_added = []\n",
    "for app in android:\n",
    "    name = app[0]\n",
    "    n_reviews = float(app[3])\n",
    "    if (n_reviews == reviews_max[name]) and (name not in already_added):\n",
    "        android_clean.append(app)\n",
    "        already_added.append(name)\n",
    "        \n",
    "explore_data(android_clean,1,5)\n",
    "explore_data(already_added,1,5)"
   ]
  },
  {
   "cell_type": "markdown",
   "metadata": {},
   "source": [
    "### Removing Non-English Apps\n",
    "### Part One\n",
    "If we explore both app data sets, we will notice some apps with non-english names and our company focuses only on english apps"
   ]
  },
  {
   "cell_type": "code",
   "execution_count": 12,
   "metadata": {},
   "outputs": [
    {
     "name": "stdout",
     "output_type": "stream",
     "text": [
      "436672029\n",
      "1144164707 \n",
      "\n",
      "中国語 AQリスニング\n",
      "لعبة تقدر تربح DZ\n"
     ]
    }
   ],
   "source": [
    "print(ios[813][1])\n",
    "print(ios[6731][1],'\\n')\n",
    "print(android_clean[4412][0])\n",
    "print(android_clean[7940][0])"
   ]
  },
  {
   "cell_type": "markdown",
   "metadata": {},
   "source": [
    "We are not interested in keeping app with non-english names and we will remove them. The english text commonly used are numbers and other punctuation marks(.,!,?,;) and symbols(+,`*`,/)\n",
    "\n",
    "Behind the scenes, each character we use in a string has a corresponding number associated with it. For instance, the corresponding number for characer `'a'` is 97, character `'A'` is 65, and character `'爱'` is 29,233. These are because of the ASCII standards that has characters ranging between 0 and 127.\n",
    "\n",
    "We can take advantage of this using the in-built function `ord()` to eliminate characters that are not within the ASCII range.\n",
    "\n",
    "If an app contains a character greater than 127, then it is probably not an english name."
   ]
  },
  {
   "cell_type": "code",
   "execution_count": 13,
   "metadata": {},
   "outputs": [
    {
     "name": "stdout",
     "output_type": "stream",
     "text": [
      "True\n",
      "False\n",
      "False\n",
      "False\n"
     ]
    }
   ],
   "source": [
    "# Writing a function that takes in a string and returns True or False\n",
    "\n",
    "def english_check(name):\n",
    "    for character in name:\n",
    "        if ord(character) > 127:\n",
    "            return False\n",
    "        \n",
    "    return True\n",
    "            \n",
    "print(english_check('Instagram'))\n",
    "print(english_check('爱奇艺PPS -《欢乐颂2》电视剧热播'))\n",
    "print(english_check('Docs To Go™ Free Office Suite'))\n",
    "print(english_check('Instachat 😜'))"
   ]
  },
  {
   "cell_type": "markdown",
   "metadata": {},
   "source": [
    "The function above worked but it does not represent emojis or some symbols. If we use the function created above then we might lose a large amount of data since these emojis and symbols fall outside of the ASCII range of 0 to 127.\n",
    "\n",
    "### Part Two\n",
    "\n",
    "To solve this problem, we adjust the function above to cater for names that have at most three characters outside of the ASCII range"
   ]
  },
  {
   "cell_type": "code",
   "execution_count": 14,
   "metadata": {},
   "outputs": [
    {
     "name": "stdout",
     "output_type": "stream",
     "text": [
      "True\n",
      "True\n"
     ]
    }
   ],
   "source": [
    "# Updated function for english app\n",
    "\n",
    "def english_name(string):\n",
    "    non_ascii = 0\n",
    "    for character in string:\n",
    "        if ord(character) > 127:\n",
    "            non_ascii += 1\n",
    "        \n",
    "        if non_ascii > 3:\n",
    "            return False\n",
    "    return True\n",
    "\n",
    "print(english_name('Docs To Go™ Free Office Suite'))\n",
    "print(english_name('Instachat 😜'))"
   ]
  },
  {
   "cell_type": "markdown",
   "metadata": {},
   "source": [
    "Although the functionn is not perfect but it should be able to filter out most of the non-english apps on both platforms"
   ]
  },
  {
   "cell_type": "code",
   "execution_count": 15,
   "metadata": {},
   "outputs": [
    {
     "name": "stdout",
     "output_type": "stream",
     "text": [
      "['1', '281656475', 'PAC-MAN Premium', '100788224', 'USD', '3.99', '21292', '26', '4', '4.5', '6.3.5', '4+', 'Games', '38', '5', '10', '1'] \n",
      "\n",
      "['2', '281796108', 'Evernote - stay organized', '158578688', 'USD', '0', '161065', '26', '4', '3.5', '8.2.2', '4+', 'Productivity', '37', '5', '23', '1'] \n",
      "\n",
      "['3', '281940292', 'WeatherBug - Local Weather, Radar, Maps, Alerts', '100524032', 'USD', '0', '188583', '2822', '3.5', '4.5', '5.0.0', '4+', 'Weather', '37', '5', '3', '1'] \n",
      "\n",
      "Number of rows: 6183\n",
      "Number of columns: 17\n",
      "['Photo Editor & Candy Camera & Grid & ScrapBook', 'ART_AND_DESIGN', '4.1', '159', '19M', '10,000+', 'Free', '0', 'Everyone', 'Art & Design', 'January 7, 2018', '1.0.0', '4.0.3 and up'] \n",
      "\n",
      "['U Launcher Lite – FREE Live Cool Themes, Hide Apps', 'ART_AND_DESIGN', '4.7', '87510', '8.7M', '5,000,000+', 'Free', '0', 'Everyone', 'Art & Design', 'August 1, 2018', '1.2.4', '4.0.3 and up'] \n",
      "\n",
      "['Sketch - Draw & Paint', 'ART_AND_DESIGN', '4.5', '215644', '25M', '50,000,000+', 'Free', '0', 'Teen', 'Art & Design', 'June 8, 2018', 'Varies with device', '4.2 and up'] \n",
      "\n",
      "Number of rows: 9614\n",
      "Number of columns: 13\n"
     ]
    }
   ],
   "source": [
    "# Filtering out non_english apps\n",
    "\n",
    "ios_english = []\n",
    "android_english = []\n",
    "\n",
    "for app in ios:\n",
    "    name = app[2]\n",
    "    if english_name(name) == True:\n",
    "        ios_english.append(app)\n",
    "        \n",
    "for app in android_clean:\n",
    "    name = app[0]\n",
    "    if english_name(name) == True:\n",
    "        android_english.append(app)\n",
    "        \n",
    "# print(len(ios_english))\n",
    "# print(len(android_english))\n",
    "explore_data(ios_english,0,3)\n",
    "explore_data(android_english,0,3)"
   ]
  },
  {
   "cell_type": "markdown",
   "metadata": {},
   "source": [
    "Now we can see that there are about **6,183** english **ios** apps and **9,614** english **android** apps. Old data was 7197 and 9659"
   ]
  },
  {
   "cell_type": "markdown",
   "metadata": {},
   "source": [
    "## Isolating the Free Apps\n",
    "As we mentioned in the introduction, we only build free apps and those are the apps we need for this analysis to make it a fruitful project. Isolating the free apps is the last step of our data cleaning process."
   ]
  },
  {
   "cell_type": "code",
   "execution_count": 16,
   "metadata": {},
   "outputs": [
    {
     "name": "stdout",
     "output_type": "stream",
     "text": [
      "['2', '281796108', 'Evernote - stay organized', '158578688', 'USD', '0', '161065', '26', '4', '3.5', '8.2.2', '4+', 'Productivity', '37', '5', '23', '1'] \n",
      "\n",
      "['3', '281940292', 'WeatherBug - Local Weather, Radar, Maps, Alerts', '100524032', 'USD', '0', '188583', '2822', '3.5', '4.5', '5.0.0', '4+', 'Weather', '37', '5', '3', '1'] \n",
      "\n",
      "['4', '282614216', 'eBay: Best App to Buy, Sell, Save! Online Shopping', '128512000', 'USD', '0', '262241', '649', '4', '4.5', '5.10.0', '12+', 'Shopping', '37', '5', '9', '1'] \n",
      "\n",
      "Number of rows: 3222\n",
      "Number of columns: 17\n",
      "['Photo Editor & Candy Camera & Grid & ScrapBook', 'ART_AND_DESIGN', '4.1', '159', '19M', '10,000+', 'Free', '0', 'Everyone', 'Art & Design', 'January 7, 2018', '1.0.0', '4.0.3 and up'] \n",
      "\n",
      "['U Launcher Lite – FREE Live Cool Themes, Hide Apps', 'ART_AND_DESIGN', '4.7', '87510', '8.7M', '5,000,000+', 'Free', '0', 'Everyone', 'Art & Design', 'August 1, 2018', '1.2.4', '4.0.3 and up'] \n",
      "\n",
      "['Sketch - Draw & Paint', 'ART_AND_DESIGN', '4.5', '215644', '25M', '50,000,000+', 'Free', '0', 'Teen', 'Art & Design', 'June 8, 2018', 'Varies with device', '4.2 and up'] \n",
      "\n",
      "Number of rows: 8863\n",
      "Number of columns: 13\n"
     ]
    }
   ],
   "source": [
    "# Creating a new data set consisting of free apps only\n",
    "\n",
    "ios_free = []\n",
    "android_free = []\n",
    "\n",
    "for app in ios_english:\n",
    "    price = app[5]\n",
    "    if price == '0':\n",
    "        ios_free.append(app)\n",
    "\n",
    "for app in android_english:\n",
    "    price = app[6]\n",
    "    if price == 'Free':\n",
    "        android_free.append(app)\n",
    "        \n",
    "explore_data(ios_free,0,3)\n",
    "explore_data(android_free,0,3)"
   ]
  },
  {
   "cell_type": "markdown",
   "metadata": {},
   "source": [
    "Now we have **3,222** free ios apps and **8,863** free android apps. This should be enough for our analysis"
   ]
  },
  {
   "cell_type": "markdown",
   "metadata": {},
   "source": [
    "## Most Common Apps by Genre\n",
    "### Part One\n",
    "Our aim is to determine the kind of apps that will most likely attract more new users because our revenue depends on in-app ads and the more users we have, the better it is for us. We use the steps.\n",
    "\n",
    "To reduce the risks ahead, we want to:\n",
    "1. Build a simple or minimal version of the app in android then add to the Google Play store.\n",
    "2. If the app gets good response from users, we improve on it.\n",
    "3. If the app becomes profitable after six months, we build the iOS version of the app and ass it to the App Store.\n",
    "\n",
    "So now we need to find the kind of apps that are successful on both platforms. \n",
    "\n",
    "To get the sense of what is popular on both platforms, we will build a frequency table to know the app genre of popular apps. For ios we will use the `prime_genre` column and for android we will use the `Category`and `Genres` column."
   ]
  },
  {
   "cell_type": "code",
   "execution_count": 18,
   "metadata": {
    "scrolled": true
   },
   "outputs": [
    {
     "name": "stdout",
     "output_type": "stream",
     "text": [
      "['', 'id', 'track_name', 'size_bytes', 'currency', 'price', 'rating_count_tot', 'rating_count_ver', 'user_rating', 'user_rating_ver', 'ver', 'cont_rating', 'prime_genre', 'sup_devices.num', 'ipadSc_urls.num', 'lang.num', 'vpp_lic'] \n",
      "\n",
      "['App', 'Category', 'Rating', 'Reviews', 'Size', 'Installs', 'Type', 'Price', 'Content Rating', 'Genres', 'Last Updated', 'Current Ver', 'Android Ver']\n"
     ]
    }
   ],
   "source": [
    "# To see the columns we need\n",
    "print(ios_header,'\\n')\n",
    "print(android_header)"
   ]
  },
  {
   "cell_type": "markdown",
   "metadata": {},
   "source": [
    "## Part Two\n",
    "Since we have decided on which columns to use, no we will build two functions we can use to analyze the frequency tavles:\n",
    "* One function to generate frequency tables that show percentages\n",
    "* Second function we can use to display the percentages in descending order"
   ]
  },
  {
   "cell_type": "code",
   "execution_count": 42,
   "metadata": {},
   "outputs": [],
   "source": [
    "def freq_table(dataset, index):\n",
    "    frequency = {}\n",
    "    total = 0\n",
    "    for app in dataset:\n",
    "        total += 1\n",
    "        value = app[index]\n",
    "        if value in frequency:\n",
    "            frequency[value] += 1\n",
    "        else:\n",
    "            frequency[value] = 1\n",
    "    \n",
    "    freq_percentage = {}\n",
    "    for genre in frequency:\n",
    "        percentage = (frequency[genre] * 100) / total\n",
    "        freq_percentage[genre] = percentage\n",
    "    \n",
    "    return freq_percentage\n",
    "        \n",
    "\n",
    "def display_table(dataset, index):\n",
    "    table = freq_table(dataset, index)\n",
    "    table_display = []\n",
    "    for key in table:\n",
    "        key_val_as_tuple = (table[key], key)\n",
    "        table_display.append(key_val_as_tuple)\n",
    "        \n",
    "    table_sorted = sorted(table_display, reverse = True)\n",
    "    for entry in table_sorted:\n",
    "        print(entry[1], ':', entry[0])"
   ]
  },
  {
   "cell_type": "markdown",
   "metadata": {},
   "source": [
    "### Part Three\n",
    "Now we generate the frequency tables for columns `prime_genre`, `Genres`, and `Category`"
   ]
  },
  {
   "cell_type": "code",
   "execution_count": 49,
   "metadata": {
    "scrolled": true
   },
   "outputs": [
    {
     "name": "stdout",
     "output_type": "stream",
     "text": [
      "Games : 58.16263190564867\n",
      "Entertainment : 7.883302296710118\n",
      "Photo & Video : 4.9658597144630665\n",
      "Education : 3.6623215394165114\n",
      "Social Networking : 3.2898820608317814\n",
      "Shopping : 2.60707635009311\n",
      "Utilities : 2.5139664804469275\n",
      "Sports : 2.1415270018621975\n",
      "Music : 2.0484171322160147\n",
      "Health & Fitness : 2.017380509000621\n",
      "Productivity : 1.7380509000620732\n",
      "Lifestyle : 1.5828677839851024\n",
      "News : 1.3345747982619491\n",
      "Travel : 1.2414649286157666\n",
      "Finance : 1.1173184357541899\n",
      "Weather : 0.8690254500310366\n",
      "Food & Drink : 0.8069522036002483\n",
      "Reference : 0.5586592178770949\n",
      "Business : 0.5276225946617008\n",
      "Book : 0.4345127250155183\n",
      "Navigation : 0.186219739292365\n",
      "Medical : 0.186219739292365\n",
      "Catalogs : 0.12414649286157665\n"
     ]
    }
   ],
   "source": [
    "display_table(ios_free,12) #Frequency table for Prime Genre"
   ]
  },
  {
   "cell_type": "markdown",
   "metadata": {},
   "source": [
    "As seen from the frequency table for ios:\n",
    "- The most common genre is Games and Entertainment comes second.\n",
    "- Since these are free apps, users tend to get free games and other entertainment apps.\n",
    "- Most apps are designed for games, photo and video, social networking, sport and music.\n",
    "\n",
    "To recommend an app profile for the App Store market based on this frequency table, I think it is difficult to decide since the larger percentage does not directly imply a large number of users"
   ]
  },
  {
   "cell_type": "code",
   "execution_count": 53,
   "metadata": {},
   "outputs": [
    {
     "name": "stdout",
     "output_type": "stream",
     "text": [
      "FAMILY : 18.8987927338373\n",
      "GAME : 9.725826469592688\n",
      "TOOLS : 8.462146000225657\n",
      "BUSINESS : 4.592124562789123\n",
      "LIFESTYLE : 3.9038700214374367\n",
      "PRODUCTIVITY : 3.8925871601038025\n",
      "FINANCE : 3.700778517432021\n",
      "MEDICAL : 3.5315355974275078\n",
      "SPORTS : 3.3961412614238973\n",
      "PERSONALIZATION : 3.317161232088458\n",
      "COMMUNICATION : 3.2381812027530184\n",
      "HEALTH_AND_FITNESS : 3.0802211440821394\n",
      "PHOTOGRAPHY : 2.944826808078529\n",
      "NEWS_AND_MAGAZINES : 2.798149610741284\n",
      "SOCIAL : 2.6627552747376733\n",
      "TRAVEL_AND_LOCAL : 2.335552296062281\n",
      "SHOPPING : 2.2452894053932075\n",
      "BOOKS_AND_REFERENCE : 2.1437436533904997\n",
      "DATING : 1.8616721200496447\n",
      "VIDEO_PLAYERS : 1.7939749520478394\n",
      "MAPS_AND_NAVIGATION : 1.399074805370642\n",
      "FOOD_AND_DRINK : 1.241114746699763\n",
      "EDUCATION : 1.1621347173643235\n",
      "ENTERTAINMENT : 0.9590432133589079\n",
      "LIBRARIES_AND_DEMO : 0.9364774906916394\n",
      "AUTO_AND_VEHICLES : 0.9251946293580052\n",
      "HOUSE_AND_HOME : 0.8236488773552973\n",
      "WEATHER : 0.8010831546880289\n",
      "EVENTS : 0.7108202640189553\n",
      "PARENTING : 0.6544059573507841\n",
      "ART_AND_DESIGN : 0.6431230960171499\n",
      "COMICS : 0.6205573733498815\n",
      "BEAUTY : 0.5979916506826131\n"
     ]
    }
   ],
   "source": [
    "display_table(android_free,1) #Frequency table for Category"
   ]
  },
  {
   "cell_type": "markdown",
   "metadata": {},
   "source": [
    "The most common apps here are mostly for family, gaming, tools, business, lifestyle and productivity. This is very different compared to the ios apps. \n",
    "\n",
    "This shows that most users on android actually use the apps and not just download. It seems to be more functional and free."
   ]
  },
  {
   "cell_type": "code",
   "execution_count": 52,
   "metadata": {},
   "outputs": [
    {
     "name": "stdout",
     "output_type": "stream",
     "text": [
      "Tools : 8.450863138892023\n",
      "Entertainment : 6.070179397495205\n",
      "Education : 5.348076272142615\n",
      "Business : 4.592124562789123\n",
      "Productivity : 3.8925871601038025\n",
      "Lifestyle : 3.8925871601038025\n",
      "Finance : 3.700778517432021\n",
      "Medical : 3.5315355974275078\n",
      "Sports : 3.4638384294257025\n",
      "Personalization : 3.317161232088458\n",
      "Communication : 3.2381812027530184\n",
      "Action : 3.102786866749408\n",
      "Health & Fitness : 3.0802211440821394\n",
      "Photography : 2.944826808078529\n",
      "News & Magazines : 2.798149610741284\n",
      "Social : 2.6627552747376733\n",
      "Travel & Local : 2.324269434728647\n",
      "Shopping : 2.2452894053932075\n",
      "Books & Reference : 2.1437436533904997\n",
      "Simulation : 2.042197901387792\n",
      "Dating : 1.8616721200496447\n",
      "Arcade : 1.8503892587160105\n",
      "Video Players & Editors : 1.771409229380571\n",
      "Casual : 1.7601263680469368\n",
      "Maps & Navigation : 1.399074805370642\n",
      "Food & Drink : 1.241114746699763\n",
      "Puzzle : 1.1282861333634209\n",
      "Racing : 0.9928917973598105\n",
      "Role Playing : 0.9364774906916394\n",
      "Libraries & Demo : 0.9364774906916394\n",
      "Auto & Vehicles : 0.9251946293580052\n",
      "Strategy : 0.9026289066907368\n",
      "House & Home : 0.8236488773552973\n",
      "Weather : 0.8010831546880289\n",
      "Events : 0.7108202640189553\n",
      "Adventure : 0.6769716800180525\n",
      "Comics : 0.6092745120162473\n",
      "Beauty : 0.5979916506826131\n",
      "Art & Design : 0.5979916506826131\n",
      "Parenting : 0.49644589867990524\n",
      "Card : 0.4513144533453684\n",
      "Casino : 0.4287487306781\n",
      "Trivia : 0.4174658693444658\n",
      "Educational;Education : 0.39490014667719736\n",
      "Board : 0.38361728534356315\n",
      "Educational : 0.37233442400992894\n",
      "Education;Education : 0.33848584000902626\n",
      "Word : 0.2595058106735868\n",
      "Casual;Pretend Play : 0.2369400880063184\n",
      "Music : 0.20309150400541578\n",
      "Racing;Action & Adventure : 0.16924292000451313\n",
      "Puzzle;Brain Games : 0.16924292000451313\n",
      "Entertainment;Music & Video : 0.16924292000451313\n",
      "Casual;Brain Games : 0.1353943360036105\n",
      "Casual;Action & Adventure : 0.1353943360036105\n",
      "Arcade;Action & Adventure : 0.12411147466997631\n",
      "Action;Action & Adventure : 0.10154575200270789\n",
      "Educational;Pretend Play : 0.09026289066907368\n",
      "Simulation;Action & Adventure : 0.07898002933543946\n",
      "Parenting;Education : 0.07898002933543946\n",
      "Entertainment;Brain Games : 0.07898002933543946\n",
      "Board;Brain Games : 0.07898002933543946\n",
      "Parenting;Music & Video : 0.06769716800180525\n",
      "Educational;Brain Games : 0.06769716800180525\n",
      "Casual;Creativity : 0.06769716800180525\n",
      "Art & Design;Creativity : 0.06769716800180525\n",
      "Education;Pretend Play : 0.05641430666817105\n",
      "Role Playing;Pretend Play : 0.04513144533453684\n",
      "Education;Creativity : 0.04513144533453684\n",
      "Role Playing;Action & Adventure : 0.033848584000902626\n",
      "Puzzle;Action & Adventure : 0.033848584000902626\n",
      "Entertainment;Creativity : 0.033848584000902626\n",
      "Entertainment;Action & Adventure : 0.033848584000902626\n",
      "Educational;Creativity : 0.033848584000902626\n",
      "Educational;Action & Adventure : 0.033848584000902626\n",
      "Education;Music & Video : 0.033848584000902626\n",
      "Education;Brain Games : 0.033848584000902626\n",
      "Education;Action & Adventure : 0.033848584000902626\n",
      "Adventure;Action & Adventure : 0.033848584000902626\n",
      "Video Players & Editors;Music & Video : 0.02256572266726842\n",
      "Sports;Action & Adventure : 0.02256572266726842\n",
      "Simulation;Pretend Play : 0.02256572266726842\n",
      "Puzzle;Creativity : 0.02256572266726842\n",
      "Music;Music & Video : 0.02256572266726842\n",
      "Entertainment;Pretend Play : 0.02256572266726842\n",
      "Casual;Education : 0.02256572266726842\n",
      "Board;Action & Adventure : 0.02256572266726842\n",
      "Video Players & Editors;Creativity : 0.01128286133363421\n",
      "Trivia;Education : 0.01128286133363421\n",
      "Travel & Local;Action & Adventure : 0.01128286133363421\n",
      "Tools;Education : 0.01128286133363421\n",
      "Strategy;Education : 0.01128286133363421\n",
      "Strategy;Creativity : 0.01128286133363421\n",
      "Strategy;Action & Adventure : 0.01128286133363421\n",
      "Simulation;Education : 0.01128286133363421\n",
      "Role Playing;Brain Games : 0.01128286133363421\n",
      "Racing;Pretend Play : 0.01128286133363421\n",
      "Puzzle;Education : 0.01128286133363421\n",
      "Parenting;Brain Games : 0.01128286133363421\n",
      "Music & Audio;Music & Video : 0.01128286133363421\n",
      "Lifestyle;Pretend Play : 0.01128286133363421\n",
      "Lifestyle;Education : 0.01128286133363421\n",
      "Health & Fitness;Education : 0.01128286133363421\n",
      "Health & Fitness;Action & Adventure : 0.01128286133363421\n",
      "Entertainment;Education : 0.01128286133363421\n",
      "Communication;Creativity : 0.01128286133363421\n",
      "Comics;Creativity : 0.01128286133363421\n",
      "Casual;Music & Video : 0.01128286133363421\n",
      "Card;Action & Adventure : 0.01128286133363421\n",
      "Books & Reference;Education : 0.01128286133363421\n",
      "Art & Design;Pretend Play : 0.01128286133363421\n",
      "Art & Design;Action & Adventure : 0.01128286133363421\n",
      "Arcade;Pretend Play : 0.01128286133363421\n",
      "Adventure;Education : 0.01128286133363421\n"
     ]
    }
   ],
   "source": [
    "display_table(android_free,9) #Frequency table for Genre "
   ]
  },
  {
   "cell_type": "markdown",
   "metadata": {},
   "source": [
    "Based on these data, I still cannot recommend an app because I do not know how many users are using these apps in these categories. I do have an expectation but we will have to generate another table that shows the number of users."
   ]
  },
  {
   "cell_type": "markdown",
   "metadata": {},
   "source": [
    "## Most Popular Apps by Genre on the App\n",
    "The frequency tables we analyzed above showed us that the App Store is dominated by apps designed for fun, while Google Play shows a more balanced landscape of both practical and fun apps. Now, we'd like to get an idea about the kind of apps with the most users.\n",
    "\n",
    "One way to find out what genres are the most popular, is to calculate the average number of installs for each app genre. For Google Play data set, we use the `Installs` columns. The App Store data set does not have this but we can make use of the the `rating_count_tot` column to approximate this."
   ]
  },
  {
   "cell_type": "code",
   "execution_count": 75,
   "metadata": {
    "scrolled": true
   },
   "outputs": [
    {
     "name": "stdout",
     "output_type": "stream",
     "text": [
      "Productivity : 21028.410714285714\n",
      "Weather : 52279.892857142855\n",
      "Shopping : 26919.690476190477\n",
      "Reference : 74942.11111111111\n",
      "Finance : 31467.944444444445\n",
      "Music : 57326.530303030304\n",
      "Utilities : 18684.456790123455\n",
      "Travel : 28243.8\n",
      "Social Networking : 71548.34905660378\n",
      "Sports : 23008.898550724636\n",
      "Health & Fitness : 23298.015384615384\n",
      "Games : 22788.6696905016\n",
      "Food & Drink : 33333.92307692308\n",
      "News : 21248.023255813954\n",
      "Book : 39758.5\n",
      "Photo & Video : 28441.54375\n",
      "Entertainment : 14029.830708661417\n",
      "Business : 7491.117647058823\n",
      "Lifestyle : 16485.764705882353\n",
      "Education : 7003.983050847458\n",
      "Navigation : 86090.33333333333\n",
      "Medical : 612.0\n",
      "Catalogs : 4004.0\n"
     ]
    }
   ],
   "source": [
    "genre_freq = freq_table(ios_free,12)\n",
    "\n",
    "for genre in genre_freq:\n",
    "    total = 0\n",
    "    len_genre = 0\n",
    "    for app in ios_free:\n",
    "        genre_app = app[-5]\n",
    "        if genre_app == genre:\n",
    "            rating = float(app[6])\n",
    "            total += rating\n",
    "            len_genre += 1\n",
    "    \n",
    "    ratings_avg = total / len_genre\n",
    "    print(genre, ':', ratings_avg)\n"
   ]
  },
  {
   "cell_type": "code",
   "execution_count": null,
   "metadata": {},
   "outputs": [],
   "source": []
  }
 ],
 "metadata": {
  "kernelspec": {
   "display_name": "Python 3",
   "language": "python",
   "name": "python3"
  },
  "language_info": {
   "codemirror_mode": {
    "name": "ipython",
    "version": 3
   },
   "file_extension": ".py",
   "mimetype": "text/x-python",
   "name": "python",
   "nbconvert_exporter": "python",
   "pygments_lexer": "ipython3",
   "version": "3.7.4"
  }
 },
 "nbformat": 4,
 "nbformat_minor": 2
}
