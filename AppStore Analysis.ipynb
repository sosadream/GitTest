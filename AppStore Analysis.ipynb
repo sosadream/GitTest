{
 "cells": [
  {
   "cell_type": "markdown",
   "metadata": {},
   "source": [
    "## Profitable App Profiled for the Apple App Store and Google Play Store\n",
    "\n",
    "- This project is about analyzing the applications from both the Google play store and the Apple app store in order to know which applications are worth investing in. \n",
    "- My goal in this project is to apply everything I have learnt so far and utilize it in this analysis."
   ]
  },
  {
   "cell_type": "markdown",
   "metadata": {},
   "source": [
    "## Opening and Exploring the Data\n",
    "\n",
    "As of September 2018, there were approximately 2 million iOS apps available on the App Store, and 2.1 million Android apps on Google Play\n",
    "Collecting data for over 4 million apps requires a significant amount of time and money, so we'll try to analyze a sample of data instead. To avoid spending resources on collecting new data ourselves, we should first try to see if we can find any relevant existing data at no cost. Luckily, these data sets that seem suitable for our goals:\n",
    "\n",
    "- [A data set](https://www.kaggle.com/lava18/google-play-store-apps) containing data of about 10,000 Android apps from Google Play; the data set can be downloaded directly from [this link](https://dq-content.s3.amazonaws.com/350/googleplaystore.csv)\n",
    "- [A data set](https://www.kaggle.com/ramamet4/app-store-apple-data-set-10k-apps) containing data of about 7,000 iOS apps from the App Store: the data set can be downloaded directly from [this link](https://dq-content.s3.amazonaws.com/350/AppleStore.csv)"
   ]
  },
  {
   "cell_type": "code",
   "execution_count": 1,
   "metadata": {},
   "outputs": [],
   "source": [
    "from csv import reader\n",
    "\n",
    "# Opening AppleStore Apps\n",
    "open_file = open('AppleStore.csv', encoding='utf-8')\n",
    "read_file = reader(open_file)\n",
    "ios = list(read_file)\n",
    "ios_header = ios[0]\n",
    "ios = ios[1:]\n",
    "\n",
    "# Opening Google PlayStore Apps\n",
    "open_file = open('googleplaystore.csv',encoding='utf-8')\n",
    "read_file = reader(open_file)\n",
    "android = list(read_file)\n",
    "android_header = android[0]\n",
    "android = android[1:]"
   ]
  },
  {
   "cell_type": "markdown",
   "metadata": {},
   "source": [
    "Now we create a function to explore the data sets and make our analysis more understandable and easier. This function `explore_data()` will allow us explore rows and be able to show us the number of rows and columns."
   ]
  },
  {
   "cell_type": "code",
   "execution_count": 2,
   "metadata": {
    "scrolled": true
   },
   "outputs": [
    {
     "name": "stdout",
     "output_type": "stream",
     "text": [
      "['', 'id', 'track_name', 'size_bytes', 'currency', 'price', 'rating_count_tot', 'rating_count_ver', 'user_rating', 'user_rating_ver', 'ver', 'cont_rating', 'prime_genre', 'sup_devices.num', 'ipadSc_urls.num', 'lang.num', 'vpp_lic'] \n",
      "\n",
      "['1', '281656475', 'PAC-MAN Premium', '100788224', 'USD', '3.99', '21292', '26', '4', '4.5', '6.3.5', '4+', 'Games', '38', '5', '10', '1'] \n",
      "\n",
      "['2', '281796108', 'Evernote - stay organized', '158578688', 'USD', '0', '161065', '26', '4', '3.5', '8.2.2', '4+', 'Productivity', '37', '5', '23', '1'] \n",
      "\n",
      "['3', '281940292', 'WeatherBug - Local Weather, Radar, Maps, Alerts', '100524032', 'USD', '0', '188583', '2822', '3.5', '4.5', '5.0.0', '4+', 'Weather', '37', '5', '3', '1'] \n",
      "\n",
      "['4', '282614216', 'eBay: Best App to Buy, Sell, Save! Online Shopping', '128512000', 'USD', '0', '262241', '649', '4', '4.5', '5.10.0', '12+', 'Shopping', '37', '5', '9', '1'] \n",
      "\n",
      "['5', '282935706', 'Bible', '92774400', 'USD', '0', '985920', '5320', '4.5', '5', '7.5.1', '4+', 'Reference', '37', '5', '45', '1'] \n",
      "\n",
      "Number of rows: 7197\n",
      "Number of columns: 17\n"
     ]
    }
   ],
   "source": [
    "def explore_data(dataset, start, end, rows_and_columns = True):\n",
    "    dataset_slice = dataset[start:end]\n",
    "    for row in dataset_slice:\n",
    "        print(row,'\\n') #prints row and adds a linespace after each row\n",
    "        \n",
    "    if rows_and_columns:\n",
    "        print('Number of rows:',len(dataset))\n",
    "        print('Number of columns:',len(dataset[0]))\n",
    "\n",
    "print(ios_header,'\\n')\n",
    "explore_data(ios,0,5)"
   ]
  },
  {
   "cell_type": "markdown",
   "metadata": {},
   "source": [
    "We can see that there are 7197 number of apps in this dataset and the columnn mostly important to us in this project are the 'track_name', 'size_bytes', 'price', rating_count_tot', 'user_rating', and 'prime_genre' columns\n",
    "\n",
    "More information on the ios apps columns can be found [here](https://www.kaggle.com/ramamet4/app-store-apple-data-set-10k-apps)"
   ]
  },
  {
   "cell_type": "code",
   "execution_count": 3,
   "metadata": {},
   "outputs": [
    {
     "name": "stdout",
     "output_type": "stream",
     "text": [
      "['App', 'Category', 'Rating', 'Reviews', 'Size', 'Installs', 'Type', 'Price', 'Content Rating', 'Genres', 'Last Updated', 'Current Ver', 'Android Ver'] \n",
      "\n",
      "['Photo Editor & Candy Camera & Grid & ScrapBook', 'ART_AND_DESIGN', '4.1', '159', '19M', '10,000+', 'Free', '0', 'Everyone', 'Art & Design', 'January 7, 2018', '1.0.0', '4.0.3 and up'] \n",
      "\n",
      "['Coloring book moana', 'ART_AND_DESIGN', '3.9', '967', '14M', '500,000+', 'Free', '0', 'Everyone', 'Art & Design;Pretend Play', 'January 15, 2018', '2.0.0', '4.0.3 and up'] \n",
      "\n",
      "['U Launcher Lite – FREE Live Cool Themes, Hide Apps', 'ART_AND_DESIGN', '4.7', '87510', '8.7M', '5,000,000+', 'Free', '0', 'Everyone', 'Art & Design', 'August 1, 2018', '1.2.4', '4.0.3 and up'] \n",
      "\n",
      "['Sketch - Draw & Paint', 'ART_AND_DESIGN', '4.5', '215644', '25M', '50,000,000+', 'Free', '0', 'Teen', 'Art & Design', 'June 8, 2018', 'Varies with device', '4.2 and up'] \n",
      "\n",
      "['Pixel Draw - Number Art Coloring Book', 'ART_AND_DESIGN', '4.3', '967', '2.8M', '100,000+', 'Free', '0', 'Everyone', 'Art & Design;Creativity', 'June 20, 2018', '1.1', '4.4 and up'] \n",
      "\n",
      "Number of rows: 10841\n",
      "Number of columns: 13\n"
     ]
    }
   ],
   "source": [
    "print(android_header,'\\n')\n",
    "explore_data(android,0,5)"
   ]
  },
  {
   "cell_type": "markdown",
   "metadata": {},
   "source": [
    "We can see that there are 7197 number of apps in this dataset and the columnn mostly important to us in this project are the 'App', 'Category', 'Rating', 'Size', 'Price', 'Content Rating' and 'Genres' columns\n",
    "\n",
    "More information on the android apps columns can be found [here](https://www.kaggle.com/lava18/google-play-store-apps)\n"
   ]
  },
  {
   "cell_type": "markdown",
   "metadata": {},
   "source": [
    "## Data Cleaning\n",
    "\n",
    "This is one of the most important parts of this project and it involves removing or correcting wrong data, removing duplicate data, and modifying the data for the sole purpose of our analysis."
   ]
  },
  {
   "cell_type": "code",
   "execution_count": 4,
   "metadata": {},
   "outputs": [
    {
     "name": "stdout",
     "output_type": "stream",
     "text": [
      "['App', 'Category', 'Rating', 'Reviews', 'Size', 'Installs', 'Type', 'Price', 'Content Rating', 'Genres', 'Last Updated', 'Current Ver', 'Android Ver'] \n",
      "\n",
      "['Life Made WI-Fi Touchscreen Photo Frame', '1.9', '19', '3.0M', '1,000+', 'Free', '0', 'Everyone', '', 'February 11, 2018', '1.0.19', '4.0 and up'] \n",
      "\n",
      "['osmino Wi-Fi: free WiFi', 'TOOLS', '4.2', '134203', '4.1M', '10,000,000+', 'Free', '0', 'Everyone', 'Tools', 'August 7, 2018', '6.06.14', '4.4 and up'] \n",
      "\n",
      "10840\n"
     ]
    }
   ],
   "source": [
    "# Delete this android row with the error and run only ONCE\n",
    "\n",
    "print(android_header,'\\n')\n",
    "print(android[10472],'\\n')\n",
    "# del android[10472]\n",
    "print(android[10472],'\\n')\n",
    "\n",
    "print(len(android)) #the new lenght has been reduced by 1"
   ]
  },
  {
   "cell_type": "markdown",
   "metadata": {},
   "source": [
    "Above, we can see that the row 10472 in the android dataset does not have a category.\n",
    "\n",
    "Now the row with an error has been deleted and we will proceed with the rest of the data cleaning process"
   ]
  },
  {
   "cell_type": "code",
   "execution_count": 5,
   "metadata": {},
   "outputs": [],
   "source": [
    "# To check if there are similar errors let us check the length of each row\n",
    "\n",
    "for app in android:\n",
    "    if len(app) != len(android_header):\n",
    "        print(app)\n",
    "        \n",
    "for App in ios:\n",
    "    if len(App) != len(ios_header):\n",
    "        print(App)\n",
    "        \n",
    "# No output means the rows are now all equal"
   ]
  },
  {
   "cell_type": "markdown",
   "metadata": {},
   "source": [
    "## Removing Duplicate Apps\n",
    "From the [discussion](https://www.kaggle.com/lava18/google-play-store-apps/discussion) section, it can be noticed that some apps were duplicated and this has to be corrected"
   ]
  },
  {
   "cell_type": "code",
   "execution_count": 6,
   "metadata": {},
   "outputs": [
    {
     "name": "stdout",
     "output_type": "stream",
     "text": [
      "['Instagram', 'SOCIAL', '4.5', '66577313', 'Varies with device', '1,000,000,000+', 'Free', '0', 'Teen', 'Social', 'July 31, 2018', 'Varies with device', 'Varies with device']\n",
      "['Instagram', 'SOCIAL', '4.5', '66577446', 'Varies with device', '1,000,000,000+', 'Free', '0', 'Teen', 'Social', 'July 31, 2018', 'Varies with device', 'Varies with device']\n",
      "['Instagram', 'SOCIAL', '4.5', '66577313', 'Varies with device', '1,000,000,000+', 'Free', '0', 'Teen', 'Social', 'July 31, 2018', 'Varies with device', 'Varies with device']\n",
      "['Instagram', 'SOCIAL', '4.5', '66509917', 'Varies with device', '1,000,000,000+', 'Free', '0', 'Teen', 'Social', 'July 31, 2018', 'Varies with device', 'Varies with device']\n"
     ]
    }
   ],
   "source": [
    "# finding out the number of duplicate apps in android\n",
    "\n",
    "for app in android:\n",
    "    name = app[0]\n",
    "    if name == 'Instagram':\n",
    "        print(app)"
   ]
  },
  {
   "cell_type": "markdown",
   "metadata": {},
   "source": [
    "Now let us find the number of duplicate apps in android since ther is no such error for ios(by running the above code for ios)"
   ]
  },
  {
   "cell_type": "code",
   "execution_count": 7,
   "metadata": {},
   "outputs": [
    {
     "name": "stdout",
     "output_type": "stream",
     "text": [
      "Number of duplicate_apps: 1181 \n",
      "\n",
      "Number of unique_apps: 9659 \n",
      "\n",
      "Examples of duplicate apps: ['Quick PDF Scanner + OCR FREE', 'Box', 'Google My Business', 'ZOOM Cloud Meetings', 'join.me - Simple Meetings', 'Box', 'Zenefits', 'Google Ads', 'Google My Business', 'Slack', 'FreshBooks Classic', 'Insightly CRM', 'QuickBooks Accounting: Invoicing & Expenses', 'HipChat - Chat Built for Teams', 'Xero Accounting Software', 'MailChimp - Email, Marketing Automation', 'Crew - Free Messaging and Scheduling', 'Asana: organize team projects', 'Google Analytics', 'AdWords Express']\n"
     ]
    }
   ],
   "source": [
    "# Finding the number of duplicate app for android\n",
    "\n",
    "duplicate_apps = []\n",
    "unique_apps = []\n",
    "\n",
    "for app in android:\n",
    "    name = app[0]\n",
    "    if name in unique_apps:\n",
    "        duplicate_apps.append(name)\n",
    "    else:\n",
    "        unique_apps.append(name)\n",
    "        \n",
    "print('Number of duplicate_apps:', len(duplicate_apps),'\\n')\n",
    "print('Number of unique_apps:', len(unique_apps),'\\n')\n",
    "print('Examples of duplicate apps:',duplicate_apps[:20])"
   ]
  },
  {
   "cell_type": "code",
   "execution_count": 8,
   "metadata": {},
   "outputs": [],
   "source": [
    "# Showing you that some apps indeed appear more than once\n",
    "\n",
    "app_freq = {}\n",
    "for app in android:\n",
    "    name = app[0]\n",
    "    if name in app_freq:\n",
    "        app_freq[name] += 1\n",
    "    else:\n",
    "        app_freq[name] = 1\n",
    "        \n",
    "# print(app_freq)"
   ]
  },
  {
   "cell_type": "markdown",
   "metadata": {},
   "source": [
    "### Removing Duplicates\n",
    "### Part One\n",
    "Since there are multiple duplicated apps, we need to keep one and remove the others. To make this possible, we will use the product reviews since the highest review would be the most recent one. This way, we can eliminate the duplicates.\n",
    "\n",
    "We found out that there were 1,181 duplicate apps and we have 9,659 unique apps"
   ]
  },
  {
   "cell_type": "code",
   "execution_count": 9,
   "metadata": {},
   "outputs": [
    {
     "name": "stdout",
     "output_type": "stream",
     "text": [
      "Expected length: 9659\n"
     ]
    }
   ],
   "source": [
    "print('Expected length:', len(android)-1181)     #To confirm the observation"
   ]
  },
  {
   "cell_type": "markdown",
   "metadata": {},
   "source": [
    "To remove the duplicates:\n",
    "\n",
    "- We create a dictionary where each ket is a unique app name and the value is the highest number of reviews of that app\n",
    "- The information in the new dictionaty is used to form a new dataset, which has only one entry per app(app with highest reviews)"
   ]
  },
  {
   "cell_type": "code",
   "execution_count": 10,
   "metadata": {},
   "outputs": [
    {
     "name": "stdout",
     "output_type": "stream",
     "text": [
      "9659\n"
     ]
    }
   ],
   "source": [
    "# Creating the dictionary\n",
    "\n",
    "reviews_max = {}\n",
    "for app in android:\n",
    "    name = app[0]\n",
    "    n_reviews = float(app[3])\n",
    "    if name in reviews_max and reviews_max[name] < n_reviews:\n",
    "        reviews_max[name] = n_reviews\n",
    "    elif name not in reviews_max:\n",
    "        reviews_max[name] = n_reviews\n",
    "    \n",
    "# print(reviews_max)\n",
    "print(len(reviews_max))"
   ]
  },
  {
   "cell_type": "markdown",
   "metadata": {},
   "source": [
    "### Part two\n",
    "Now we will use the `reviews_max` dictionary to remove the duplicates. Remember that we only need the apps with the highest number of reviews since we eliminated the duplicates. This is how the code below works:\n",
    "* We start by initializing two empty lists, `android_clean` and `already_added`\n",
    "* We loop through the android set for every iteration\n",
    "    * We isolate the name and number of reviews of the app\n",
    "    * We add the app to the `android_cleaned` list and the app name to `already_added` if:\n",
    "        * The number of reviews is the same as the maximum number of reviews of the app in the `reviews_max` dictionary\n",
    "        * The app name is not already in the `already_added` list. This is so that we do not have some apps with the same number of reviews still become a duplicate. If we only check for `n_reviews == reviews_max[name]`, some apps have the same maximum reviews and they will become duplicates."
   ]
  },
  {
   "cell_type": "code",
   "execution_count": 11,
   "metadata": {
    "scrolled": true
   },
   "outputs": [
    {
     "name": "stdout",
     "output_type": "stream",
     "text": [
      "['U Launcher Lite – FREE Live Cool Themes, Hide Apps', 'ART_AND_DESIGN', '4.7', '87510', '8.7M', '5,000,000+', 'Free', '0', 'Everyone', 'Art & Design', 'August 1, 2018', '1.2.4', '4.0.3 and up'] \n",
      "\n",
      "['Sketch - Draw & Paint', 'ART_AND_DESIGN', '4.5', '215644', '25M', '50,000,000+', 'Free', '0', 'Teen', 'Art & Design', 'June 8, 2018', 'Varies with device', '4.2 and up'] \n",
      "\n",
      "['Pixel Draw - Number Art Coloring Book', 'ART_AND_DESIGN', '4.3', '967', '2.8M', '100,000+', 'Free', '0', 'Everyone', 'Art & Design;Creativity', 'June 20, 2018', '1.1', '4.4 and up'] \n",
      "\n",
      "['Paper flowers instructions', 'ART_AND_DESIGN', '4.4', '167', '5.6M', '50,000+', 'Free', '0', 'Everyone', 'Art & Design', 'March 26, 2017', '1.0', '2.3 and up'] \n",
      "\n",
      "Number of rows: 9659\n",
      "Number of columns: 13\n",
      "U Launcher Lite – FREE Live Cool Themes, Hide Apps \n",
      "\n",
      "Sketch - Draw & Paint \n",
      "\n",
      "Pixel Draw - Number Art Coloring Book \n",
      "\n",
      "Paper flowers instructions \n",
      "\n",
      "Number of rows: 9659\n",
      "Number of columns: 46\n"
     ]
    }
   ],
   "source": [
    "# Creating the clean data\n",
    "\n",
    "android_clean = []\n",
    "already_added = []\n",
    "for app in android:\n",
    "    name = app[0]\n",
    "    n_reviews = float(app[3])\n",
    "    if (n_reviews == reviews_max[name]) and (name not in already_added):\n",
    "        android_clean.append(app)\n",
    "        already_added.append(name)\n",
    "        \n",
    "explore_data(android_clean,1,5)\n",
    "explore_data(already_added,1,5)"
   ]
  },
  {
   "cell_type": "markdown",
   "metadata": {},
   "source": [
    "### Removing Non-English Apps\n",
    "### Part One\n",
    "If we explore both app data sets, we will notice some apps with non-english names and our company focuses only on english apps"
   ]
  },
  {
   "cell_type": "code",
   "execution_count": 12,
   "metadata": {},
   "outputs": [
    {
     "name": "stdout",
     "output_type": "stream",
     "text": [
      "436672029\n",
      "1144164707 \n",
      "\n",
      "中国語 AQリスニング\n",
      "لعبة تقدر تربح DZ\n"
     ]
    }
   ],
   "source": [
    "print(ios[813][1])\n",
    "print(ios[6731][1],'\\n')\n",
    "print(android_clean[4412][0])\n",
    "print(android_clean[7940][0])"
   ]
  },
  {
   "cell_type": "markdown",
   "metadata": {},
   "source": [
    "We are not interested in keeping app with non-english names and we will remove them. The english text commonly used are numbers and other punctuation marks(.,!,?,;) and symbols(+,`*`,/)\n",
    "\n",
    "Behind the scenes, each character we use in a string has a corresponding number associated with it. For instance, the corresponding number for characer `'a'` is 97, character `'A'` is 65, and character `'爱'` is 29,233. These are because of the ASCII standards that has characters ranging between 0 and 127.\n",
    "\n",
    "We can take advantage of this using the in-built function `ord()` to eliminate characters that are not within the ASCII range.\n",
    "\n",
    "If an app contains a character greater than 127, then it is probably not an english name."
   ]
  },
  {
   "cell_type": "code",
   "execution_count": null,
   "metadata": {},
   "outputs": [],
   "source": []
  }
 ],
 "metadata": {
  "kernelspec": {
   "display_name": "Python 3",
   "language": "python",
   "name": "python3"
  },
  "language_info": {
   "codemirror_mode": {
    "name": "ipython",
    "version": 3
   },
   "file_extension": ".py",
   "mimetype": "text/x-python",
   "name": "python",
   "nbconvert_exporter": "python",
   "pygments_lexer": "ipython3",
   "version": "3.7.4"
  }
 },
 "nbformat": 4,
 "nbformat_minor": 2
}
