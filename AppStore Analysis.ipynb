{
 "cells": [
  {
   "cell_type": "code",
   "execution_count": 1,
   "metadata": {},
   "outputs": [
    {
     "name": "stdout",
     "output_type": "stream",
     "text": [
      "[['', 'id', 'track_name', 'size_bytes', 'currency', 'price', 'rating_count_tot', 'rating_count_ver', 'user_rating', 'user_rating_ver', 'ver', 'cont_rating', 'prime_genre', 'sup_devices.num', 'ipadSc_urls.num', 'lang.num', 'vpp_lic'], ['1', '281656475', 'PAC-MAN Premium', '100788224', 'USD', '3.99', '21292', '26', '4', '4.5', '6.3.5', '4+', 'Games', '38', '5', '10', '1'], ['2', '281796108', 'Evernote - stay organized', '158578688', 'USD', '0', '161065', '26', '4', '3.5', '8.2.2', '4+', 'Productivity', '37', '5', '23', '1']]\n"
     ]
    }
   ],
   "source": [
    "# open_file = open(\"C:\\\\Users\\\\Esosa\\\\Desktop\\\\Data\\\\Projects\\\\AppStore Analysis\\\\AppleStore.csv\")\n",
    "open_file = open('C:\\\\Users\\\\Esosa\\\\Desktop\\\\Data\\\\Projects\\\\AppStore Analysis\\\\AppleStore.csv',encoding='utf-8')\n",
    "from csv import reader\n",
    "read_file = reader(open_file)\n",
    "data_set = list(read_file)\n",
    "print(data_set[:3])"
   ]
  },
  {
   "cell_type": "markdown",
   "metadata": {},
   "source": [
    "## Profitable App Profiled for the Apple App Store and Google Play Store\n",
    "\n",
    "- This project is about analyzing the applications from both the Google play store and the Apple app store in order to know which applications are worth investing in. \n",
    "- My goal in this project is to apply everything I have learnt so far and utilize it in this analysis."
   ]
  },
  {
   "cell_type": "code",
   "execution_count": null,
   "metadata": {},
   "outputs": [],
   "source": []
  }
 ],
 "metadata": {
  "kernelspec": {
   "display_name": "Python 3",
   "language": "python",
   "name": "python3"
  },
  "language_info": {
   "codemirror_mode": {
    "name": "ipython",
    "version": 3
   },
   "file_extension": ".py",
   "mimetype": "text/x-python",
   "name": "python",
   "nbconvert_exporter": "python",
   "pygments_lexer": "ipython3",
   "version": "3.7.4"
  }
 },
 "nbformat": 4,
 "nbformat_minor": 2
}
