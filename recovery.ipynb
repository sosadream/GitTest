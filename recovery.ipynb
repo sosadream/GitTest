 1/1: open('AppleStore.csv')
 1/2: open_file = open('C:\Users\Esosa\Desktop\Pilot\Practice\AppleStore.csv')
 1/3: open_file = open('\Users\Esosa\Desktop\Pilot\Practice\AppleStore.csv')
 1/4: open_file = open('AppleStore.csv')
 1/5: open_file = open('AppleStore.csv')
 1/6: open_file = open('C:\Users\Esosa\Desktop\Pilot\Practice\AppleStore.csv')
 1/7: open_file = open('Desktop\Pilot\Practice\AppleStore.csv')
 1/8: open_file = open('Desktop\Pilot\Practice\AppleStore.csv')
 1/9: open_file = open('Desktop\Pilot\Practice\AppleStore.csv')
1/10: open_file = open('Desktop\Pilot\Practice\AppleStore.csv')
1/11: open_file = open('C:\Users\Esosa\Desktop\Pilot\Practice\AppleStore.csv')
1/12:
open_file = open('Desktop\Pilot\Practice\AppleStore.csv')
from csv import reader
read_file = reader(open_file)
data_set = list(read_file)
print(data_Set)
1/13:
open_file = open('C:\Users\Esosa\Desktop\Pilot\Practice\AppleStore.csv')
from csv import reader
read_file = reader(open_file)
data_set = list(read_file)
print(data_Set)
1/14:
open_file = open('C:\Users\Esosa\Desktop\Pilot\Practice\AppleStore.csv')
from csv import reader
read_file = reader(open_file)
data_set = list(read_file)
print(data_Set)
1/15:
open_file = open('C:\Users\Esosa\Desktop\Pilot\Practice\AppleStore.csv')
open_file
1/16:
open_file = open('Desktop/Pilot/Practice/AppleStore.csv')
open_file
1/17:
open_file = open('Esosa/Desktop/Pilot/Practice/AppleStore.csv')
open_file
1/18:
open_file = open('Desktop/Pilot/Practice/AppleStore.csv')
open_file
1/19:
open_file = open('Desktop/Pilot/Practice/AppleStore.csv')
from csv import reader
read_file = reader(open_file)
data_set = list(read_file)
1/20:
open_file = open('/Desktop/Pilot/Practice/AppleStore.csv')
from csv import reader
read_file = reader(open_file)
data_set = list(read_file)
1/21:
open_file = open('/Desktop/Pilot/Practice/AppleStore.csv')
# from csv import reader
# read_file = reader(open_file)
# data_set = list(read_file)
1/22:
open_file = open('Desktop/Pilot/Practice/AppleStore.csv')
# from csv import reader
# read_file = reader(open_file)
# data_set = list(read_file)
1/23:
open_file = open('Desktop/Pilot/Practice/AppleStore.csv')
# from csv import reader
# read_file = reader(open_file)
# data_set = list(read_file)
1/24:
open_file = open('Desktop/Pilot/Practice/AppleStore.csv')
open_file
# from csv import reader
# read_file = reader(open_file)
# data_set = list(read_file)
1/25:
open_file = open('/Desktop/Pilot/Practice/AppleStore.csv')
open_file
# from csv import reader
# read_file = reader(open_file)
# data_set = list(read_file)
1/26:
open_file = open('Desktop/Pilot/Practice/AppleStore.csv')
open_file
# from csv import reader
# read_file = reader(open_file)
# data_set = list(read_file)
1/27:
open_file = open('AppleStore.csv')
open_file
# from csv import reader
# read_file = reader(open_file)
# data_set = list(read_file)
 2/1:
open_file = open('AppleStore.csv')
open_file
 2/2:
open_file = open('AppleStore.csv')
from csv import reader
read_file = reader(open_file)
data_set = list(read_file)
1/28: open_file = open('/Desktop/Pilot/Practice/AppleStore.csv')
1/29: open_file = open('Desktop/Pilot/Practice/AppleStore.csv')
1/30: open_file = open('Desktop/Pilot/Practice/AppleStore.csv')
1/31:
open_file = open('Desktop/Pilot/Practice/AppleStore.csv')
open_file
 2/3:
open_file = open('AppleStore.csv')
open_file
 3/1:
open_file = open('AppleStore.csv')
open_file
 3/2:
open_file = open('AppleStore.csv')
open_file
read_file = reader(opened_file)
apps_data = list(read_file)
data_set = apps_data[:4]
 3/3:
open_file = open('AppleStore.csv')
open_file
read_file = reader(open_file)
apps_data = list(read_file)
data_set = apps_data[:4]
 3/4:
open_file = open('AppleStore.csv')
open_file
from csv import reader
read_file = reader(open_file)
apps_data = list(read_file)
data_set = apps_data[:4]
 3/5:
open_file = open('AppleStore.csv')
open_file
from csv import reader
read_file = reader(open_file)
apps_data = list(read_file)
data_set = apps_data[:4]
 3/6:
open_file = open('AppleStore.csv')
open_file
from csv import reader
read_file = reader(open_file)
apps_data = list(read_file)
data_set = apps_data[:4]
 3/7:
open_file = open('AppleStore.csv')
read_file = open_file.read()
apps_data = list(read_file)
data_set = apps_data[:4]
open_file.close()
 3/8:
opened_file = open('AppleStore.csv')
from csv import reader
read_file = reader(opened_file)
apps_data = list(read_file)

apps_data[:4]
 4/1:
opened_file = open('AppleStore.csv')
from csv import reader
read_file = reader(opened_file)
apps_data = list(read_file)

apps_data[:1]
 3/9:
opened_file = open('AppleStore.csv', encoding='utf8')
from csv import reader
read_file = reader(opened_file)
apps_data = list(read_file)

apps_data[:4]
3/10:
# Profitable App Profiled for the App Store and Google Play Markets
This project is about analyzing the applications from both Apple Store and Google Play Store in order to know which applications are profitable and worth investing in.
My goal in this project is to apply all the skills I learnt from this course into this project
3/11:
def open_dataset(file_name):
    opened_file = open(file_name, encoding='utf8')
    from csv import reader
    read_file = reader(opened_file)
    data_set = list(read_file)
    return data_set


open_dataset('AppleStore.csv')
open_dataset('googleplaystore.csv')
3/12:
def open_dataset(file_name):
    opened_file = open(file_name, encoding='utf8')
    from csv import reader
    read_file = reader(opened_file)
    data_set = list(read_file)
    return data_set


open_dataset(AppleStore.csv)
open_dataset(googleplaystore.csv)
3/13:
def open_dataset(file_name):
    opened_file = open(file_name, encoding='utf8')
    from csv import reader
    read_file = reader(opened_file)
    data_set = list(read_file)
    return data_set


open_dataset('AppleStore.csv')
open_dataset('googleplaystore.csv')
3/14:
def open_dataset(file_name):
    opened_file = open(file_name, encoding='utf8')
    from csv import reader
    read_file = reader(opened_file)
    data_set = list(read_file)
    return data_set[1:]


open_dataset('AppleStore.csv')
open_dataset('googleplaystore.csv')
3/15:
def open_dataset(file_name):
    opened_file = open(file_name, encoding='utf8')
    from csv import reader
    read_file = reader(opened_file)
    data_set = list(read_file)
    return data_set[1:]


open_dataset('AppleStore.csv')
open_dataset('googleplaystore.csv')
3/16:
def open_dataset(file_name):
    opened_file = open(file_name)
    from csv import reader
    read_file = reader(opened_file)
    data_set = list(read_file)
    return data_set[1:]


open_dataset('AppleStore.csv')
open_dataset('googleplaystore.csv')
3/17:
def open_dataset(file_name):
    opened_file = open(file_name, encoding='utf8')
    from csv import reader
    read_file = reader(opened_file)
    data_set = list(read_file)
    return data_set[1:]


open_dataset('AppleStore.csv')
open_dataset('googleplaystore.csv')
3/18:
def open_dataset(file_name):
    opened_file = open(file_name, encoding='utf8')
    from csv import reader
    read_file = reader(opened_file)
    data_set = list(read_file)
    return data_set


open_dataset('AppleStore.csv')
open_dataset('googleplaystore.csv')
3/19:
def open_dataset(file_name):
    opened_file = open(file_name, encoding='utf8')
    from csv import reader
    read_file = reader(opened_file)
    data_set = list(read_file)
    return data_set[1:]


open_dataset('AppleStore.csv')
open_dataset('googleplaystore.csv')
3/20:
def open_dataset(file_name):
    opened_file = open(file_name, encoding='utf8')
    from csv import reader
    read_file = reader(opened_file)
    data_set = list(read_file)
    return data_set[1:]


ios = open_dataset('AppleStore.csv')
andoroid = open_dataset('googleplaystore.csv')
3/21:
def open_dataset(file_name):
    opened_file = open(file_name, encoding='utf8')
    from csv import reader
    read_file = reader(opened_file)
    data_set = list(read_file)
    return data_set[1:]


ios = open_dataset('AppleStore.csv')
andoroid = open_dataset('googleplaystore.csv')
3/22:
def open_dataset(file_name):
    opened_file = open(file_name, encoding='utf8')
    from csv import reader
    read_file = reader(opened_file)
    data_set = list(read_file)
    return data_set[1:]


ios = open_dataset('AppleStore.csv')
android = open_dataset('googleplaystore.csv')
3/23:
from csv import reader
def open_dataset(file_name):
    opened_file = open(file_name)
    read_file = reader(opened_file)
    data_set = list(read_file)
    header = data_Set[0]
    return data_set[1:]


ios = open_dataset('AppleStore.csv')
android = open_dataset('googleplaystore.csv')
3/24:
from csv import reader
def open_dataset(file_name):
    opened_file = open(file_name, encoding='utf8')
    read_file = reader(opened_file)
    data_set = list(read_file)
    header = data_Set[0]
    return data_set[1:]


ios = open_dataset('AppleStore.csv')
android = open_dataset('googleplaystore.csv')
3/25:
from csv import reader
def open_dataset(file_name):
    opened_file = open(file_name, encoding='utf8')
    read_file = reader(opened_file)
    data_set = list(read_file)
    header = data_Set[0]
    return data_set[1:]


ios = open_dataset('AppleStore.csv')
android = open_dataset('googleplaystore.csv')
3/26:
## To open ios data
    opened_file = open('AppleStore.csv', encoding='utf8')
    from csv import reader
    read_file = reader(opened_file)
    ios = list(read_file)
    ios_header = ios[0]
    ios_data = ios[1:]

## To open android data
    opened_file = open('googleplaystore.csv', encoding='utf8')
    from csv import reader
    read_file = reader(opened_file)
    android = list(read_file)
    android_header = android[0]
    android_data = android[1:]
3/27:
## To open ios data
    opened_file = open('AppleStore.csv')
    from csv import reader
    read_file = reader(opened_file)
    ios = list(read_file)
    ios_header = ios[0]
    ios_data = ios[1:]

## To open android data
    opened_file = open('googleplaystore.csv')
    from csv import reader
    read_file = reader(opened_file)
    android = list(read_file)
    android_header = android[0]
    android_data = android[1:]
3/28:
## To open ios data
opened_file = open('AppleStore.csv', encoding='utf8')
from csv import reader
read_file = reader(opened_file)
ios = list(read_file)
ios_header = ios[0]
ios_data = ios[1:]

## To open android data
opened_file = open('googleplaystore.csv', encoding='utf8')
from csv import reader
read_file = reader(opened_file)
android = list(read_file)
android_header = android[0]
android_data = android[1:]
3/29:
## To open ios data
opened_file = open('AppleStore.csv', encoding='utf8')
from csv import reader
read_file = reader(opened_file)
ios = list(read_file)
ios_header = ios[0]
ios = ios[1:]

## To open android data
opened_file = open('googleplaystore.csv', encoding='utf8')
from csv import reader
read_file = reader(opened_file)
android = list(read_file)
android_header = android[0]
android = android[1:]
3/30:
def explore_data(dataset, start, end, rows_and_columns = False):
    dataset_slice = dataset[start:end]
    for row in dataset_slice:
        print(row)
        print('\n') # to add new line to each list
        
    if rows_and_columns:
        print('Number of rows:', len(dataset))
        print('Number of Columns:', len(dataset[0]))
    
explore_data('AppleStore.csv', 1, 10, True)
3/31:
def explore_data(dataset, start, end, rows_and_columns = False):
    dataset_slice = dataset[start:end]
    for row in dataset_slice:
        print(row)
        print('\n') # to add new line to each list
        
    if rows_and_columns:
        print('Number of rows:', len(dataset))
        print('Number of Columns:', len(dataset[0]))
    
explore_data('AppleStore.csv', 1, 10, False)
3/32:
def explore_data(dataset, start, end, rows_and_columns = False):
    dataset_slice = dataset[start:end]
    for row in dataset_slice:
        print(row)
        print('\n') # to add new line to each list
        
    if rows_and_columns:
        print('Number of rows:', len(dataset))
        print('Number of Columns:', len(dataset[0]))
    
explore_data(ios, 1, 10, False)
3/33:
def explore_data(dataset, start, end, rows_and_columns = False):
    dataset_slice = dataset[start:end]
    for row in dataset_slice:
        print(row)
        print('\n') # to add new line to each list
        
    if rows_and_columns:
        print('Number of rows:', len(dataset))
        print('Number of Columns:', len(dataset[0]))
    
explore_data(ios, 1, 10, True)
3/34:
def explore_data(dataset, start, end, rows_and_columns = False):
    dataset_slice = dataset[start:end]
    for row in dataset_slice:
        print(row)
        print('\n') # to add new line to each list
        
    if rows_and_columns:
        print('Number of rows:', len(dataset))
        print('Number of Columns:', len(dataset[0]))
    
explore_data(ios, 1, 10, False)
3/35:
def explore_data(dataset, start, end, rows_and_columns = False):
    dataset_slice = dataset[start:end]
    for row in dataset_slice:
        print(row)
        print('\n') # to add new line to each list
        
    if rows_and_columns:
        print('Number of rows:', len(dataset))
        print('Number of Columns:', len(dataset[0]))
    
explore_data(ios, 1, 10, True)
3/36:
# ## To open ios data
# opened_file = open('AppleStore.csv', encoding='utf8')
# from csv import reader
# read_file = reader(opened_file)
# ios = list(read_file)
# ios_header = ios[0]
# ios = ios[1:]

# ## To open android data
# opened_file = open('googleplaystore.csv', encoding='utf8')
# from csv import reader
# read_file = reader(opened_file)
# android = list(read_file)
# android_header = android[0]
# android = android[1:]

## To open any data set
def open_data(platform):
    opened_file = open(platform, encoding='utf8')
    from csv import reader
    read_file = reader(opened_file)
    data_set = list(read_file)
    hataset_header = data_set[0]
    data_set = data_set[1:]
    
ios = open_data('AppleStore.csv')
andoird = open_data('googleplaystore.csv')
3/37:
def explore_data(dataset, start, end, rows_and_columns = False):
    dataset_slice = dataset[start:end]
    for row in dataset_slice:
        print(row)
        print('\n') # to add new line to each list
        
    if rows_and_columns: # Use true to know the number of rows and columns
        print('Number of rows:', len(dataset))
        print('Number of Columns:', len(dataset[0]))
    
explore_data(ios, 1, 10, True)
3/38:
# ## To open ios data
# opened_file = open('AppleStore.csv', encoding='utf8')
# from csv import reader
# read_file = reader(opened_file)
# ios = list(read_file)
# ios_header = ios[0]
# ios = ios[1:]

# ## To open android data
# opened_file = open('googleplaystore.csv', encoding='utf8')
# from csv import reader
# read_file = reader(opened_file)
# android = list(read_file)
# android_header = android[0]
# android = android[1:]

## To open any data set
def open_data(platform):
    opened_file = open(platform, encoding='utf8')
    from csv import reader
    read_file = reader(opened_file)
    data_set = list(read_file)
    hataset_header = data_set[0]
    data_set = data_set[1:]
    
ios = open_data('AppleStore.csv')
andoird = open_data('googleplaystore.csv')
3/39:
# ## To open ios data
# opened_file = open('AppleStore.csv', encoding='utf8')
# from csv import reader
# read_file = reader(opened_file)
# ios = list(read_file)
# ios_header = ios[0]
# ios = ios[1:]

# ## To open android data
# opened_file = open('googleplaystore.csv', encoding='utf8')
# from csv import reader
# read_file = reader(opened_file)
# android = list(read_file)
# android_header = android[0]
# android = android[1:]

## To open any data set
def open_data(platform):
    opened_file = open(platform, encoding='utf8')
    from csv import reader
    read_file = reader(opened_file)
    data_set = list(read_file)
    dataset_header = data_set[0]
    return data_set = data_set[1:]
    
ios = open_data('AppleStore.csv')
andoird = open_data('googleplaystore.csv')
3/40:
# ## To open ios data
# opened_file = open('AppleStore.csv', encoding='utf8')
# from csv import reader
# read_file = reader(opened_file)
# ios = list(read_file)
# ios_header = ios[0]
# ios = ios[1:]

# ## To open android data
# opened_file = open('googleplaystore.csv', encoding='utf8')
# from csv import reader
# read_file = reader(opened_file)
# android = list(read_file)
# android_header = android[0]
# android = android[1:]

## To open any data set
def open_data(platform):
    opened_file = open(platform, encoding='utf8')
    from csv import reader
    read_file = reader(opened_file)
    data_set = list(read_file)
    dataset_header = data_set[0]
    data_set = data_set[1:]
    return data_set
    
ios = open_data('AppleStore.csv')
andoird = open_data('googleplaystore.csv')
3/41:
# ## To open ios data
# opened_file = open('AppleStore.csv', encoding='utf8')
# from csv import reader
# read_file = reader(opened_file)
# ios = list(read_file)
# ios_header = ios[0]
# ios = ios[1:]

# ## To open android data
# opened_file = open('googleplaystore.csv', encoding='utf8')
# from csv import reader
# read_file = reader(opened_file)
# android = list(read_file)
# android_header = android[0]
# android = android[1:]

## To open any data set
def open_data(platform):
    opened_file = open(platform, encoding='utf8')
    from csv import reader
    read_file = reader(opened_file)
    data_set = list(read_file)
    dataset_header = data_set[0]
    data_set = data_set[1:]
    return data_set
    
ios = open_data('AppleStore.csv')
andoird = open_data('googleplaystore.csv')
3/42:
def explore_data(dataset, start, end, rows_and_columns = False):
    dataset_slice = dataset[start:end]
    for row in dataset_slice:
        print(row)
        print('\n') # to add new line to each list
        
    if rows_and_columns: # Use true to know the number of rows and columns
        print('Number of rows:', len(dataset))
        print('Number of Columns:', len(dataset[0]))
    
explore_data(ios, 1, 10, True)
3/43:
def explore_data(dataset, start, end, rows_and_columns = False):
    dataset_slice = dataset[start:end]
    for row in dataset_slice:
        print(row)
        print('\n') # to add new line to each list
        
    if rows_and_columns: # Use true to know the number of rows and columns
        print('Number of rows:', len(dataset))
        print('Number of Columns:', len(dataset[0]))
    
explore_data(ios, 1, 10, True)
explore_data(android, 1, 3, True)
3/44:
def explore_data(dataset, start, end, rows_and_columns = False):
    dataset_slice = dataset[start:end]
    for row in dataset_slice:
        print(row)
        print('\n') # to add new line to each list
        
    if rows_and_columns: # Use true to know the number of rows and columns
        print('Number of rows:', len(dataset))
        print('Number of Columns:', len(dataset[0]))
    
explore_data(ios, 1, 10, True)
'\n'
explore_data(android, 1, 3, True)
3/45: %history -p
3/46:
## To open ios data
opened_file = open('AppleStore.csv', encoding='utf8')
from csv import reader
read_file = reader(opened_file)
ios = list(read_file)
ios_header = ios[0]
ios = ios[1:]

## To open android data
opened_file = open('googleplaystore.csv', encoding='utf8')
from csv import reader
read_file = reader(opened_file)
android = list(read_file)
android_header = android[0]
android = android[1:]

# ## To open any data set
# def open_data(platform):
#     opened_file = open(platform, encoding='utf8')
#     from csv import reader
#     read_file = reader(opened_file)
#     data_set = list(read_file)
#     dataset_header = data_set[0]
#     data_set = data_set[1:]
#     return data_set
    
# ios = open_data('AppleStore.csv')
# andoird = open_data('googleplaystore.csv')
3/47:
def explore_data(dataset, start, end, rows_and_columns = False):
    dataset_slice = dataset[start:end]
    for row in dataset_slice:
        print(row)
        print('\n') # to add new line to each list
        
    if rows_and_columns: # Use true to know the number of rows and columns
        print('Number of rows:', len(dataset))
        print('Number of Columns:', len(dataset[0]))
    
explore_data(ios, 1, 10, True)
'\n'
explore_data(android, 1, 3, True)
3/48:
def explore_data(dataset, start, end, rows_and_columns = False):
    dataset_slice = dataset[start:end]
    for row in dataset_slice:
        print(row)
        print('\n') # to add new line to each list
        
    if rows_and_columns: # Use true to know the number of rows and columns
        print('Number of rows:', len(dataset))
        print('Number of Columns:', len(dataset[0]))
    
explore_data(ios, 1, 10, True)
explore_data(android, 1, 3, True)
3/49:
def explore_data(dataset, start, end, rows_and_columns=False):
    dataset_slice = dataset[start:end]    
    for row in dataset_slice:
        print(row)
        print('\n') # adds a new line after each list

    if rows_and_columns:
        print('Number of rows:', len(dataset))
        print('Number of columns:', len(dataset[0]))
        
explore_data(ios, 1, 5, True)
3/50:
def explore_data(dataset, start, end, rows_and_columns=False):
    dataset_slice = dataset[start:end]    
    for row in dataset_slice:
        print(row)
        print('\n') # adds a new line after each list

    if rows_and_columns:
        print('Number of rows:', len(dataset))
        print('Number of columns:', len(dataset[0]))
        
explore_data(ios, 0, 5, True)
3/51: print(ios[0])
3/52: print(ios_header)
3/53:
print(ios_header)
print('\n')
print(android_header)
3/54:
def explore_data(dataset, start, end, rows_and_columns=False):
    dataset_slice = dataset[start:end]    
    for row in dataset_slice:
        print(row)
        print('\n') # adds a new line after each list

    if rows_and_columns:
        print('Number of rows:', len(dataset))
        print('Number of columns:', len(dataset[0]))
        
explore_data(ios, 0, -1, True)
3/55:
def explore_data(dataset, start, end, rows_and_columns=False):
    dataset_slice = dataset[start:end]    
    for row in dataset_slice:
        print(row)
        print('\n') # adds a new line after each list

    if rows_and_columns:
        print('Number of rows:', len(dataset))
        print('Number of columns:', len(dataset[0]))
        
explore_data(ios, 0, 5, True)
3/56:
def explore_data(dataset, start, end, rows_and_columns=False):
    dataset_slice = dataset[start:end]    
    for row in dataset_slice:
        print(row)
        print('\n') # adds a new line after each list

    if rows_and_columns:
        print('Number of rows:', len(dataset))
        print('Number of columns:', len(dataset[0]))
        
explore_data(ios, 0, 5, True)
explore_data(android, 0, -1, True)
3/57: print(android[10472])
3/58: print(android[10471:10473])
3/59: print(android[10472])
3/60:
print(android[10472]) # misses category for this set
len(android[1]) = len(android[10472])
3/61:
print(android[10472]) # misses category for this set
if len(android[1]) = len(android[10472]):
    print(2)
3/62:
print(android[10472]) # misses category for this set
if len(android[1]) = len(android[10472]):
    print(2)
3/63:
print(android[10472]) # misses category for this set
if len(android[1]) = len(android[10472]):
    print('Yes')
3/64:
print(android[10472]) # misses category for this set
if len(android[1]) == len(android[10472]):
    print('Yes')
3/65:
print(android[10472]) # misses category for this set
if len(android[1]) == len(android[10472]):
    print('Yes')
3/66:
print(android[10472]) # misses category for this set
if len(android[1]) == len(android[10473]):
    print('Yes')
3/67:
print(android[10472]) # misses category for this set
if len(android[1]) == len(android[10472]):
    print('Yes')
3/68:
print(android[10472]) # misses category for this set
if len(android[1]) == len(android[10472]): # We use this to check if 
    print('Yes')
else:
    print('No')
3/69:
print(android[10472]) # misses category for this set
if len(android[0]) == len(android[10472]): # We use this to check if 
    print('Yes')
else:
    print('No')
len_first_app = len(android[1])
len_wanted_app = len(android[10472])
3/70:
print(android[10472]) # misses category for this set
if len(android[0]) == len(android[10472]): # We use this to check if 
    print('Yes')
else:
    print('No')
len_first_app = len(android[1])
len_wanted_app = len(android[10472])
print(len_first_app)
print('\n')
print(len_wanted_app)
3/71:
print(android[10472]) # misses category for this set
if len(android[0]) == len(android[10472]): # We use this to check if 
    print('Yes')
else:
    print('No')
len_first_app = len(android[1])
len_wanted_app = len(android[10472])
print(len_first_app)
print(len_wanted_app)
3/72:
print(android[10472]) # misses category for this set
if len(android[0]) == len(android[10472]): # We use this to check if 
    print('Yes')
else:
    print('No')
len_first_app = len(android[1])
len_wanted_app = len(android[10472])
print(len_first_app)
print(len_wanted_app)

# Now we delete the app with missen data
del android[10472]
3/73:
def explore_data(dataset, start, end, rows_and_columns=False):
    dataset_slice = dataset[start:end]    
    for row in dataset_slice:
        print(row)
        print('\n') # adds a new line after each list

    if rows_and_columns:
        print('Number of rows:', len(dataset))
        print('Number of columns:', len(dataset[0]))
        
explore_data(ios, 0, 5, True)
explore_data(android, 0, -1, True)
3/74:
print(android[10472]) # misses category for this set
if len(android[0]) == len(android[10472]): # We use this to check if a is missing
    print('Yes')
else:
    print('No')
len_first_app = len(android[1])
len_wanted_app = len(android[10472])
print(len_first_app)
print(len_wanted_app)

# Now we delete the app with missen data
# del android[10472] #changed the total number of rows from 10841 to 10840

len(android)
3/75:
for app in android:
    name = android[0]
    if name == 'Instagram':
        print(app)
3/76:
for app in android:
    name = android[0]
    if name == 'Instagram':
        print(app)
3/77:
for app in android:
    name = app[0]
    if name == 'Instagram':
        print(app)
3/78:
duplicate_apps = []
unique_apps = []

for app in android:
    name = app[0]
    if name in unique_apps:
        duplicate_apps.append(name)
    else:
        unique_apps.append(name)

print('Number of duplicate apps:', len(duplicate_apps))
print('\n')
print('Example of duplicate apps:', duplicate_apps[:8])
3/79: len(android) - len(duplicate_apps)
3/80: print('Expected Lenght:', len(android) - len(duplicate_apps)
3/81: print('Expected Lenght:', len(android) - len(duplicate_apps))
3/82:
reviews_max = {}
for row in android:
    name = android[0]
    n_reviews = float(android[3])
    if name in reviews_max and reviews_max[name] < n_reviews:
        reviews_max[name] += 1
    if name not in reviews_max:
        reviews_max[name] = 1

len(reviews_max)
3/83:
reviews_max = {}
for row in android:
    name = row[0]
    n_reviews = float(row[3])
    if name in reviews_max and reviews_max[name] < n_reviews:
        reviews_max[name] += 1
    if name not in reviews_max:
        reviews_max[name] = 1

len(reviews_max)
3/84:
reviews_max = {}
for row in android:
    name = row[0]
    n_reviews = float(row[3])
    if name in reviews_max and reviews_max[name] < n_reviews:
        reviews_max[name] += 1
    if name not in reviews_max:
        reviews_max[name] = 1

print(len(reviews_max))
3/85:
reviews_max = {}
for row in android:
    name = row[0]
    n_reviews = float(row[3])
    if name in reviews_max and reviews_max[name] < n_reviews:
        reviews_max[name] += 1
    if name not in reviews_max:
        reviews_max[name] = 1

print(reviews_max)
print(len(reviews_max))
3/86:
reviews_max = {}
for row in android:
    name = row[0]
    n_reviews = float(row[3])
    if name in reviews_max and reviews_max[name] < n_reviews:
        reviews_max[name] += 1
    if name not in reviews_max:
        reviews_max[name] = 0

print(reviews_max)
print(len(reviews_max))
3/87:
reviews_max = {}
for row in android:
    name = row[0]
    n_reviews = float(row[3])
    if name in reviews_max and reviews_max[name] < n_reviews:
        reviews_max[name] = 1
    if name not in reviews_max:
        reviews_max[name] = 0

print(reviews_max)
print(len(reviews_max))
3/88:
reviews_max = {}
for row in android:
    name = row[0]
    n_reviews = float(row[3])
    if name in reviews_max and reviews_max[name] < n_reviews:
        reviews_max[name] += 1
    if name not in reviews_max:
        reviews_max[name] = 0

print(reviews_max)
print(len(reviews_max))
3/89:
reviews_max = {}
for row in android:
    name = row[0]
    n_reviews = float(row[3])
    if name in reviews_max and reviews_max[name] < n_reviews:
        reviews_max[name] += 1
    if name not in reviews_max:
        reviews_max[name] = 1

print(reviews_max)
print(len(reviews_max))
3/90:
reviews_max = {}
for row in android:
    name = row[0]
    n_reviews = float(row[3])
    if name in reviews_max and reviews_max[name] < n_reviews:
        reviews_max[name] += 1
    if name not in reviews_max:
        reviews_max[name] = 1

# print(reviews_max)
print(len(reviews_max))
3/91:
reviews_max = {}
for row in android:
    name = row[0]
    n_reviews = float(row[3])
    if name in reviews_max and reviews_max[name] < n_reviews:
        reviews_max[name] 
    if name not in reviews_max:
        reviews_max[name] = 1

# print(reviews_max)
print(len(reviews_max))
3/92:
reviews_max = {}
for row in android:
    name = row[0]
    n_reviews = float(row[3])
    if name in reviews_max and reviews_max[name] < n_reviews:
        reviews_max[name] 
    if name not in reviews_max:
        reviews_max[name] = 1

print(reviews_max)
print(len(reviews_max))
3/93:
reviews_max = {}
for row in android:
    name = row[0]
    n_reviews = float(row[3])
    if name in reviews_max and reviews_max[name] < n_reviews:
        reviews_max[name] 
    if name not in reviews_max:
        reviews_max[name] = 1

# print(reviews_max)
print(len(reviews_max))
3/94:
reviews_max = {}
for app in android:
    name = app[0]
    n_reviews = float(app[3])
    if name in reviews_max and reviews_max[name] < n_reviews:
        reviews_max[name] 
    if name not in reviews_max:
        reviews_max[name] = 1

# print(reviews_max)
print(len(reviews_max))
3/95:
reviews_max = {}
for app in android:
    name = app[0]
    n_reviews = float(app[3])
    if name in reviews_max and reviews_max[name] < n_reviews:
        reviews_max[name] = n_reviews
    if name not in reviews_max:
        reviews_max[name] = n_reviews

# print(reviews_max)
print(len(reviews_max))
3/96:
reviews_max = {}
for app in android:
    name = app[0]
    n_reviews = float(app[3])
    if name in reviews_max and reviews_max[name] < n_reviews:
        reviews_max[name] = n_reviews
    if name not in reviews_max:
        reviews_max[name] = n_reviews

print(reviews_max)
print(len(reviews_max))
3/97:
reviews_max = {}
for app in android:
    name = app[0]
    n_reviews = float(app[3])
    if name in reviews_max and reviews_max[name] < n_reviews:
        reviews_max[name] = n_reviews
    elif name not in reviews_max:
        reviews_max[name] = n_reviews

print(reviews_max)
print(len(reviews_max))
3/98:
reviews_max = {}
for app in android:
    name = app[0]
    n_reviews = float(app[3])
    if name in reviews_max and reviews_max[name] < n_reviews:
        reviews_max[name] = n_reviews
    elif name not in reviews_max:
        reviews_max[name] = n_reviews

# print(reviews_max)
print(len(reviews_max))
3/99:
android_clean = []
already_added = []

for app in android:
    name = app[0]
    n_reviews = float(app[3])
    if n_reviews == reviews_max[name] and name in already_added:
        android_clean.append(reviews_max[name])
    elif:
        already_added.append(reviews_max[name])
3/100:
android_clean = []
already_added = []

for app in android:
    name = app[0]
    n_reviews = float(app[3])
    if n_reviews == reviews_max[name] and name in already_added:
        android_clean.append(reviews_max[name])
    else:
        already_added.append(reviews_max[name])
3/101:
android_clean = []
already_added = []

for app in android:
    name = app[0]
    n_reviews = float(app[3])
    if n_reviews == reviews_max[name] and name in already_added:
        android_clean.append(reviews_max[name])
    else:
        already_added.append(reviews_max[name])
3/102:
android_clean = []
already_added = []

for app in android:
    name = app[0]
    n_reviews = float(app[3])
    if n_reviews == reviews_max[name] and name in already_added:
        android_clean.append(reviews_max[name])
    else:
        already_added.append(reviews_max[name])

len(android_clean)
3/103:
android_clean = []
already_added = []

for app in android:
    name = app[0]
    n_reviews = float(app[3])
    if n_reviews == reviews_max[name] and name in already_added:
        android_clean.append(reviews_max[name])
    else:
        already_added.append(reviews_max[name])

print(android_clean)
3/104:
android_clean = []
already_added = []

for app in android:
    name = app[0]
    n_reviews = float(app[3])
    if n_reviews == reviews_max[name] and name in already_added:
        android_clean.append(n_reviews)
    else:
        already_added.append(n_reviews)

print(android_clean)
3/105:
android_clean = []
already_added = []

for app in android:
    name = app[0]
    n_reviews = float(app[3])
    if n_reviews == reviews_max[name] and name in already_added:
        android_clean.append(app)
        already_added.append(name)

print(android_clean)
3/106:
android_clean = []
already_added = []

for app in android:
    name = app[0]
    n_reviews = float(app[3])
    if n_reviews == reviews_max[name] and name in already_added:
        android_clean.append(app)
        already_added.append(name)

print(android_clean)
3/107:
android_clean = []
already_added = []

for app in android:
    name = app[0]
    n_reviews = float(app[3])
    if n_reviews == reviews_max[name] and name in already_added:
        android_clean.append(app)
        already_added.append(name)

android_clean
3/108:
android_clean = []
already_added = []

for app in android:
    name = app[0]
    n_reviews = float(app[3])
    if n_reviews == reviews_max[name] and name in already_added:
        android_clean.append(app)
        already_added.append(name)

explore_data(android_clean, 0, 5, True)
3/109:
android_clean = []
already_added = []

for app in android:
    name = app[0]
    n_reviews = float(app[3])
    if n_reviews == reviews_max[name] and name in already_added:
        android_clean.append(app)
        already_added.append(name)

explore_data(android_clean, 0, -1, True)
3/110:
android_clean = []
already_added = []

for app in android:
    name = app[0]
    n_reviews = float(app[3])
    if n_reviews == reviews_max[name] and name not in already_added:
        android_clean.append(app)
        already_added.append(name)

explore_data(android_clean, 0, -1, True)
3/111:
android_clean = []
already_added = []

for app in android:
    name = app[0]
    n_reviews = float(app[3])
    if n_reviews == reviews_max[name] and name not in already_added:
        android_clean.append(app)
        already_added.append(name)

explore_data(android_clean, 0, -1, False)
3/112:
android_clean = []
already_added = []

for app in android:
    name = app[0]
    n_reviews = float(app[3])
    if n_reviews == reviews_max[name] and name not in already_added:
        android_clean.append(app)
        already_added.append(name)

explore_data(android_clean, 0, -1, True)
3/113:
android_clean = []
already_added = []

for app in android:
    name = app[0]
    n_reviews = float(app[3])
    if n_reviews == reviews_max[name] and name not in already_added:
        android_clean.append(app)
        already_added.append(name)

explore_data(android_clean, 0, -1, True)
len(already_added)
3/114:
android_clean = []
already_added = []

for app in android:
    name = app[0]
    n_reviews = float(app[3])
    if n_reviews == reviews_max[name] and (name not in already_added):
        android_clean.append(app)
        already_added.append(name)

explore_data(android_clean, 0, -1, True)
len(already_added)
3/115:
android_clean = []
already_added = []

for app in android:
    name = app[0]
    n_reviews = float(app[3])
    if n_reviews == reviews_max[name] and (name not in already_added):
        android_clean.append(app)
        already_added.append(name)

explore_data(android_clean, 0, 3, True)
len(already_added)
3/116:
explore_data(android_clean, 0, 3, True)
len(already_added)
3/117:
android_clean = []
already_added = []

for app in android:
    name = app[0]
    n_reviews = float(app[3])
    if n_reviews == reviews_max[name] and (name not in already_added):
        android_clean.append(app)
        already_added.append(name)
3/118:
explore_data(android_clean, 0, 3, True)
len(already_added)
3/119: explore_data(android_clean, 0, 3, True)
3/120:
reviews_max = {}
for app in android:
    name = app[0]
    n_reviews = float(app[3])
    if name in reviews_max and reviews_max[name] < n_reviews:
        reviews_max[name] = n_reviews
    elif name not in reviews_max:
        reviews_max[name] = n_reviews

print(reviews_max)
print(len(reviews_max))
3/121:
reviews_max = {}
for app in android:
    name = app[0]
    n_reviews = float(app[3])
    if name in reviews_max and reviews_max[name] < n_reviews:
        reviews_max[name] = n_reviews
    elif name not in reviews_max:
        reviews_max[name] = n_reviews

# print(reviews_max)
print(len(reviews_max))
3/122:
android_clean = []
already_added = []

for app in android:
    name = app[0]
    n_reviews = float(app[3])
    if n_reviews == reviews_max[name] and (name not in already_added):
        android_clean.append(app)
        already_added.append(name)

print(already_added)
3/123:
android_clean = []
already_added = []

for app in android:
    name = app[0]
    n_reviews = float(app[3])
    if n_reviews == reviews_max[name] and (name not in already_added):
        android_clean.append(app)
        already_added.append(name)

len(already_added) - len(android_clean)
3/124:
print(android[10472]) # misses category for this set
if len(android[0]) == len(android[10472]): # We use this to check if a is missing
    print('Yes')
else:
    print('No')
len_first_app = len(android[1])
len_wanted_app = len(android[10472])
print(len_first_app)
print(len_wanted_app)

# Now we delete the app with missen data
# del android[10472] #changed the total number of rows from 10841 to 10840

len(android)
3/125:
duplicate_apps = []
unique_apps = []

for app in android:
    name = app[0]
    if name in unique_apps:
        duplicate_apps.append(name)
    elif:
        unique_apps.append(name)

print('Number of duplicate apps:', len(duplicate_apps))
print('\n')
print('Example of duplicate apps:', duplicate_apps[:8])
3/126:
duplicate_apps = []
unique_apps = []

for app in android:
    name = app[0]
    if name in unique_apps:
        duplicate_apps.append(name)
    else:
        unique_apps.append(name)

print('Number of duplicate apps:', len(duplicate_apps))
print('\n')
print('Example of duplicate apps:', duplicate_apps[:8])
3/127:
duplicate_apps = []
unique_apps = []

for app in android:
    name = app[0]
    if name in unique_apps:
        duplicate_apps.append(name)
    else:
        unique_apps.append(name)

print('Number of duplicate apps:', len(duplicate_apps))
print('\n')
print('Example of duplicate apps:', duplicate_apps[:8])
print(duplicate_apps)
3/128:
duplicate_apps_freq = {} # To know the frequency of duplicates
duplicate_apps = []
unique_apps = []

for app in android:
    name = app[0]
    if name in unique_apps:
        duplicate_apps.append(name)
    else:
        unique_apps.append(name)

for app in duplicate_apps:
    if app in duplicate_apps_freq:
        duplicate_apps_freq[app] += 1
    else:
        duplicate_apps_freq[app] = 1

print('Number of duplicate apps:', len(duplicate_apps))
print('\n')
print('Example of duplicate apps:', duplicate_apps[:8])
# print(duplicate_apps)
3/129:
duplicate_apps_freq = {} # To know the frequency of duplicates

for app in duplicate_apps:
    if app in duplicate_apps_freq:
        duplicate_apps_freq[app] += 1
    else:
        duplicate_apps_freq[app] = 1
    
print(duplicate_apps_freq)
3/130:
duplicate_apps_freq = {} # To know the frequency of duplicates

for app in duplicate_apps:
    if app in duplicate_apps_freq:
        duplicate_apps_freq[app] += 1
    else:
        duplicate_apps_freq[app] = 1
    
# print(duplicate_apps_freq)
3/131:
duplicate_apps_freq = {} # To know the frequency of duplicates

for app in duplicate_apps:
    if app in duplicate_apps_freq:
        duplicate_apps_freq[app] += 1
    else:
        duplicate_apps_freq[app] = 1
    
# print(duplicate_apps_freq)

''' This is just an extra program to know the frequency of the 
duplicated apps. We will check for instagram to see how many times
it appeared'''

print(duplicate_apps_freq['Instagram'])
3/132:
duplicate_apps_freq = {} # To know the frequency of duplicates

for app in duplicate_apps:
    if app in duplicate_apps_freq:
        duplicate_apps_freq[app] += 1
    else:
        duplicate_apps_freq[app] = 1
    
# print(duplicate_apps_freq)

''' This is just an extra program to know the frequency of the 
duplicated apps. We will check for instagram to see how many times
it appeared'''

print(duplicate_apps_freq['Instagram'])
max(duplicate_apps_freq)
3/133:
duplicate_apps_freq = {} # To know the frequency of duplicates

for app in duplicate_apps:
    if app in duplicate_apps_freq:
        duplicate_apps_freq[app] += 1
    else:
        duplicate_apps_freq[app] = 1
    
# print(duplicate_apps_freq)

''' This is just an extra program to know the frequency of the 
duplicated apps. We will check for instagram to see how many times
it appeared'''

print(duplicate_apps_freq['Instagram'])
max(duplicate_apps_freq)
print(duplicate_apps_freq['wetter.com - Weather and Radar'])
3/134:
duplicate_apps_freq = {} # To know the frequency of duplicates

for app in duplicate_apps:
    if app in duplicate_apps_freq:
        duplicate_apps_freq[app] += 1
    else:
        duplicate_apps_freq[app] = 1
    
# print(duplicate_apps_freq)

''' This is just an extra program to know the frequency of the 
duplicated apps. We will check for instagram to see how many times
it appeared'''

print(duplicate_apps_freq['Instagram'])
max(duplicate_apps_freq)
3/135:
duplicate_apps_freq = {} # To know the frequency of duplicates

for dupicate in duplicate_apps:
    if app in duplicate_apps_freq:
        duplicate_apps_freq[app] += 1
    else:
        duplicate_apps_freq[app] = 1
    
# print(duplicate_apps_freq)

''' This is just an extra program to know the frequency of the 
duplicated apps. We will check for instagram to see how many times
it appeared'''

print(duplicate_apps_freq['Instagram'])
max(duplicate_apps_freq)
3/136:
duplicate_apps_freq = {} # To know the frequency of duplicates

for name in duplicate_apps:
    if app in duplicate_apps_freq:
        duplicate_apps_freq[app] += 1
    else:
        duplicate_apps_freq[app] = 1
    
# print(duplicate_apps_freq)

''' This is just an extra program to know the frequency of the 
duplicated apps. We will check for instagram to see how many times
it appeared'''

print(duplicate_apps_freq['Instagram'])
max(duplicate_apps_freq)
3/137:
duplicate_apps_freq = {} # To know the frequency of duplicates

for name in duplicate_apps:
    if name in duplicate_apps_freq:
        duplicate_apps_freq[name] += 1
    else:
        duplicate_apps_freq[name] = 1
    
# print(duplicate_apps_freq)

''' This is just an extra program to know the frequency of the 
duplicated apps. We will check for instagram to see how many times
it appeared'''

print(duplicate_apps_freq['Instagram'])
max(duplicate_apps_freq)
3/138:
duplicate_apps_freq = {} # To know the frequency of duplicates

for name in duplicate_apps:
    if name in duplicate_apps_freq:
        duplicate_apps_freq[name] += 1
    else:
        duplicate_apps_freq[name] = 1
    
# print(duplicate_apps_freq)

''' This is just an extra program to know the frequency of the 
duplicated apps. We will check for instagram to see how many times
it appeared'''

print(duplicate_apps_freq['Instagram'])
min(duplicate_apps_freq)
3/139:
duplicate_apps_freq = {} # To know the frequency of duplicates

for name in duplicate_apps:
    if name in duplicate_apps_freq:
        duplicate_apps_freq[name] += 1
    else:
        duplicate_apps_freq[name] = 1
    
# print(duplicate_apps_freq)

''' This is just an extra program to know the frequency of the 
duplicated apps. We will check for instagram to see how many times
it appeared'''

print(duplicate_apps_freq['Instagram'])
range(duplicate_apps_freq)
3/140:
duplicate_apps_freq = {} # To know the frequency of duplicates

for name in duplicate_apps:
    if name in duplicate_apps_freq:
        duplicate_apps_freq[name] += 1
    else:
        duplicate_apps_freq[name] = 1
    
# print(duplicate_apps_freq)

''' This is just an extra program to know the frequency of the 
duplicated apps. We will check for instagram to see how many times
it appeared'''

print(duplicate_apps_freq['Instagram'])
max(duplicate_apps_freq) - min(duplicate_apps_freq)
3/141:
duplicate_apps_freq = {} # To know the frequency of duplicates

for name in duplicate_apps:
    if name in duplicate_apps_freq:
        duplicate_apps_freq[name] += 1
    else:
        duplicate_apps_freq[name] = 1
    
# print(duplicate_apps_freq)

''' This is just an extra program to know the frequency of the 
duplicated apps. We will check for instagram to see how many times
it appeared'''

print(duplicate_apps_freq['Instagram'])
max(duplicate_apps_freq)
3/142:
duplicate_apps_freq = {} # To know the frequency of duplicates

for name in duplicate_apps:
    if name in duplicate_apps_freq:
        duplicate_apps_freq[name] += 1
    else:
        duplicate_apps_freq[name] = 1
    
# print(duplicate_apps_freq)

''' This is just an extra program to know the frequency of the 
duplicated apps. We will check for instagram to see how many times
it appeared'''

print(duplicate_apps_freq['Facebook'])
max(duplicate_apps_freq)
3/143:
duplicate_apps_freq = {} # To know the frequency of duplicates

for name in duplicate_apps:
    if name in duplicate_apps_freq:
        duplicate_apps_freq[name] += 1
    else:
        duplicate_apps_freq[name] = 1
    
# print(duplicate_apps_freq)

''' This is just an extra program to know the frequency of the 
duplicated apps. We will check for instagram to see how many times
it appeared'''

print(duplicate_apps_freq['Instagram'])
max(duplicate_apps_freq)
3/144:
duplicate_apps_freq = {} # To know the frequency of duplicates

for name in duplicate_apps:
    if name in duplicate_apps_freq:
        duplicate_apps_freq[name] += 1
    else:
        duplicate_apps_freq[name] = 1
    
# print(duplicate_apps_freq)

''' This is just an extra program to know the frequency of the 
duplicated apps. We will check for instagram to see how many times
it appeared'''

print(duplicate_apps_freq['Instagram'])
sum(duplicate_apps_freq)
3/145:
duplicate_apps_freq = {} # To know the frequency of duplicates

for name in duplicate_apps:
    if name in duplicate_apps_freq:
        duplicate_apps_freq[name] += 1
    else:
        duplicate_apps_freq[name] = 1
    
# print(duplicate_apps_freq)

''' This is just an extra program to know the frequency of the 
duplicated apps. We will check for instagram to see how many times
it appeared'''

print(duplicate_apps_freq['Instagram'])
sum(duplicate_apps_freq:)
3/146:
duplicate_apps_freq = {} # To know the frequency of duplicates

for name in duplicate_apps:
    if name in duplicate_apps_freq:
        duplicate_apps_freq[name] += 1
    else:
        duplicate_apps_freq[name] = 1
    
# print(duplicate_apps_freq)

''' This is just an extra program to know the frequency of the 
duplicated apps. We will check for instagram to see how many times
it appeared'''

print(duplicate_apps_freq['Instagram'])
len(duplicate_apps_freq)
3/147:
duplicate_apps_freq = {} # To know the frequency of duplicates

for name in duplicate_apps:
    if name in duplicate_apps_freq:
        duplicate_apps_freq[name] += 1
    else:
        duplicate_apps_freq[name] = 1
    
# print(duplicate_apps_freq)

''' This is just an extra program to know the frequency of the 
duplicated apps. We will check for instagram to see how many times
it appeared'''

print(duplicate_apps_freq['Instagram'])
len(duplicate_apps_freq[name])
3/148:
duplicate_apps_freq = {} # To know the frequency of duplicates

for name in duplicate_apps:
    if name in duplicate_apps_freq:
        duplicate_apps_freq[name] += 1
    else:
        duplicate_apps_freq[name] = 1
    
# print(duplicate_apps_freq)

''' This is just an extra program to know the frequency of the 
duplicated apps. We will check for instagram to see how many times
it appeared'''

print(duplicate_apps_freq['Instagram'])
sum(duplicate_apps_freq[name])
3/149:
duplicate_apps_freq = {} # To know the frequency of duplicates

for name in duplicate_apps:
    if name in duplicate_apps_freq:
        duplicate_apps_freq[name] += 1
    else:
        duplicate_apps_freq[name] = 1
    
# print(duplicate_apps_freq)

''' This is just an extra program to know the frequency of the 
duplicated apps. We will check for instagram to see how many times
it appeared'''

print(duplicate_apps_freq['Instagram'])
len(duplicate_apps_freq)
3/150:
reviews_max = {}
for app in android:
    name = app[0]
    n_reviews = float(app[3])
    if name in reviews_max and n_reviews > reviews_max[name]:
        reviews_max[name] = n_reviews
    elif name not in reviews_max:
        reviews_max[name] = n_reviews

# print(reviews_max)
print(len(reviews_max))
3/151:
reviews_max = {}
for app in android:
    name = app[0]
    n_reviews = float(app[3])
    if name in reviews_max and n_reviews > reviews_max[name]:
        reviews_max[name] = n_reviews
    elif name not in reviews_max:
        reviews_max[name] = n_reviews

# print(reviews_max)
print('Actual Lenght:', len(reviews_max))
3/152:
reviews_max = {}
for app in android:
    name = app[0]
    n_reviews = float(app[3])
    if name in reviews_max and n_reviews > reviews_max[name]:
        reviews_max[name] = n_reviews
    elif name not in reviews_max:
        reviews_max[name] = n_reviews

# print(reviews_max)
print('Actual length:', len(reviews_max))
3/153:
reviews_max = {}
for app in android:
    name = app[0]
    n_reviews = float(app[3])
    if name in reviews_max and n_reviews > reviews_max[name]:
        reviews_max[name] = n_reviews
    elif name not in reviews_max:
        reviews_max[name] = n_reviews

# print(reviews_max)
print('Actual length:', len(reviews_max))
3/154:
print('Expected Lenght:', len(android) - len(duplicate_apps))
print('Actual length:', len(reviews_max))
3/155:
reviews_max = {}

for app in android:
    name = app[0]
    n_reviews = float(app[3])
    
    if name in reviews_max and reviews_max[name] < n_reviews:
        reviews_max[name] = n_reviews
        
    elif name not in reviews_max:
        reviews_max[name] = n_reviews

# print(reviews_max)
3/156:
reviews_max = {}

for app in android:
    name = app[0]
    n_reviews = float(app[3])
    
    if name in reviews_max and reviews_max[name] < n_reviews:
        reviews_max[name] = n_reviews
        
    elif name not in reviews_max:
        reviews_max[name] = n_reviews

# print(reviews_max)
list(reviews_max)
3/157:
reviews_max = {}

for app in android:
    name = app[0]
    n_reviews = float(app[3])
    
    if name in reviews_max and reviews_max[name] < n_reviews:
        reviews_max[name] = n_reviews
        
    elif name not in reviews_max:
        reviews_max[name] = n_reviews

# print(reviews_max)
(reviews_max)
3/158:
reviews_max = {}

for app in android:
    name = app[0]
    n_reviews = float(app[3])
    
    if name in reviews_max and reviews_max[name] < n_reviews:
        reviews_max[name] = n_reviews
        
    elif name not in reviews_max:
        reviews_max[name] = n_reviews

# print(reviews_max)
3/159:
android_clean = []
already_added = []

for app in android:
    name = app[0]
    n_reviews = float(app[3])
    if (n_reviews == reviews_max[name]) and (name not in already_added):
        android_clean.append(app)
        already_added.append(name)

len(already_added) - len(android_clean) # check for same lenght
3/160:
explore_data(android_clean, 0, 3, True)
explore_data(already_added, 0, 3, True)
3/161: explore_data(android_clean, 0, 3, True)
3/162:
print(ios[813][1])
print(ios[6731][1])
print('\n')
print(android_clean[4412][0])
print(android_clean[7940][0])
3/163:
print(ios[813][1])
print(ios[6731][1])
print('\n')
print(android_clean[4412][0])
print(android_clean[7940][0])
3/164: print(ord'a')
3/165: print(ord('a'))
3/166: print(ord('z'))
3/167: print(ord('fg'))
3/168: print(ord('f'))
3/169: print(ord('爱'))
3/170: print(ord('】'))
3/171: print(ord('グ'))
3/172:
print(ord('+'))
print(ord('b'))
print(ord('グ'))
3/173:
print(ord('+'))
print(ord('b'))
print(ord('z'))
print(ord('グ'))
3/174:
print(ord('+'))
print(ord('b'))
print(ord('z'))
print(ord('グ'))
3/175:
print(ord('+'))
print(ord('b'))
print(ord('z'))
print(ord('@'))
print(ord('グ'))
3/176:
# def english_app(input_data):
#     english_only = []
#     for app in input_data:
#         name = app[0]
def english_app(app_name):
    for letter in app_name:
        if (ord('letter')) <= 127:
            return True
        else:
            return False
3/177:
# def english_app(input_data):
#     english_only = []
#     for app in input_data:
#         name = app[0]
def english_app(app_name):
    for letter in app_name:
        if (ord(letter)) <= 127:
            return True
        else:
            return False
english_app('Instagram')
3/178:
# def english_app(input_data):
#     english_only = []
#     for app in input_data:
#         name = app[0]
def english_app(app_name):
    for letter in app_name:
        if (ord(letter)) <= 127:
            return True
        else:
            return False
english_app('爱奇艺PPS -《欢乐颂2》电视剧热播')
3/179:
# def english_app(input_data):
#     english_only = []
#     for app in input_data:
#         name = app[0]
def english_app(app_name):
    for letter in app_name:
        if (ord(letter)) <= 127:
            return print('English')
        else:
            return print('Non-English')
        
english_app('爱奇艺PPS -《欢乐颂2》电视剧热播')
3/180:
# def english_app(input_data):
#     english_only = []
#     for app in input_data:
#         name = app[0]

def english_app(app_name):
    for letter in app_name:
        if (ord(letter)) <= 127:
            return print('English')
        else:
            return print('Non-English')
        
english_app(str(already_added[1:10]))
3/181:
# def english_app(input_data):
#     english_only = []
#     for app in input_data:
#         name = app[0]

def english_app(app_name):
    for letter in app_name:
        if (ord(letter)) <= 127:
            return print('English')
        else:
            return print('Non-English')
        
english_app(str(already_added[1:10]))
3/182:
# def english_app(input_data):
#     english_only = []
#     for app in input_data:
#         name = app[0]

def english_app(app_name):
    for letter in app_name:
        if (ord(letter)) <= 127:
            return print('English')
        elif:
            return print('Non-English')
        
english_app(str(already_added[1:10]))
3/183:
# def english_app(input_data):
#     english_only = []
#     for app in input_data:
#         name = app[0]

def english_app(app_name):
    for letter in app_name:
        if (ord(letter)) <= 127:
            return print('English')
        else:
            return print('Non-English')
        
english_app(str(already_added[1:10]))
3/184:
# def english_app(input_data):
#     english_only = []
#     for app in input_data:
#         name = app[0]

def english_app(app_name):
    for letter in app_name:
        if (ord(letter)) <= 127:
            return print('English')
        else:
            return print('Non-English')
        
english_app(already_added[1:10])
3/185:
def english_app(input_data):
    english_only = []
    for app in input_data:
        name = app[0]
        
        if (ord(name)) <= 127:
            english_only.append(name)
        else:
            print(name, 'Non-English')        

# def english_app(app_name):
#     for letter in app_name:
#         if (ord(letter)) <= 127:
#             return print('English')
#         else:
#             return print('Non-English')
        
english_app(android[1:10])
3/186:
def english_app(input_data):
    english_only = []
    for app in input_data:
        name = app[0]
        
        if (ord(name)) <= 127:
            english_only.append(name)
        else:
            print(name, 'Non-English')        

# def english_app(app_name):
#     for letter in app_name:
#         if (ord(letter)) <= 127:
#             return print('English')
#         else:
#             return print('Non-English')
        
english_app(android[1:10])
3/187:
def english_app(input_data, start, end):
    english_only = []
    for app in input_data:
        name = app[0]
        
        if (ord(name)) <= 127:
            english_only.append(name)
        else:
            print(name, 'Non-English')        

# def english_app(app_name):
#     for letter in app_name:
#         if (ord(letter)) <= 127:
#             return print('English')
#         else:
#             return print('Non-English')
        
english_app(android, 1, 10)
3/188:
def english_app(input_data, start, end):
    english_only = []
    for app in input_data:
        name = app[0]
        
        if (ord(name)) <= 127:
            english_only.append(name)
        else:
            print('Non-English')        

# def english_app(app_name):
#     for letter in app_name:
#         if (ord(letter)) <= 127:
#             return print('English')
#         else:
#             return print('Non-English')
        
english_app(android, 1, 10)
3/189:
# def english_app(input_data, start, end):
#     english_only = []
#     for app in input_data:
#         name = app[0]
        
#         if (ord(name)) <= 127:
#             english_only.append(name)
#         else:
#             print('Non-English')        

def english_app(app_name):
    for letter in app_name:
        if (ord(letter)) <= 127:
            return print('English')
        else:
            return print('Non-English')
        
english_app('Instagram')
3/190:
# def english_app(input_data, start, end):
#     english_only = []
#     for app in input_data:
#         name = app[0]
        
#         if (ord(name)) <= 127:
#             english_only.append(name)
#         else:
#             print('Non-English')        

def english_app(app_name):
    
    for letter in app_name:
        if (ord(letter)) <= 127:
            return print('English')
    
    return print('Non-English')
        
english_app('Instagram')
3/191:
# def english_app(input_data, start, end):
#     english_only = []
#     for app in input_data:
#         name = app[0]
        
#         if (ord(name)) <= 127:
#             english_only.append(name)
#         else:
#             print('Non-English')        

def english_app(app_name):
    
    for letter in app_name:
        if (ord(letter)) <= 127:
            return print('English')
    
    return print('Non-English')
        
english_app('Instagram')
3/192:
# def english_app(input_data, start, end):
#     english_only = []
#     for app in input_data:
#         name = app[0]
        
#         if (ord(name)) <= 127:
#             english_only.append(name)
#         else:
#             print('Non-English')        

def english_app(app_name):
    
    for letter in app_name:
        if (ord(letter)) <= 127:
            return print('English')
    
    return print('Non-English')
        
english_app('Instagram')
english_app('爱奇艺PPS -《欢乐颂2》电视剧热播')
3/193:
# def english_app(input_data, start, end):
#     english_only = []
#     for app in input_data:
#         name = app[0]
        
#         if (ord(name)) <= 127:
#             english_only.append(name)
#         else:
#             print('Non-English')        

def english_app(app_name):
    
    for letter in app_name:
        if (ord(letter)) <= 127:
            return print('English')
    
    return print('Non-English')
        
english_app('Instagram')
english_app('爱奇艺PPS -《欢乐颂2》电视剧热播')
3/194:
# def english_app(input_data, start, end):
#     english_only = []
#     for app in input_data:
#         name = app[0]
        
#         if (ord(name)) <= 127:
#             english_only.append(name)
#         else:
#             print('Non-English')        

def english_app(app_name):
    
    for letter in app_name:
        if (ord(letter)) <= 127:
            return print('English')
        else:
            return print('Non-English')
        
english_app('Instagram')
english_app('爱奇艺PPS -《欢乐颂2》电视剧热播')
3/195:
# def english_app(input_data, start, end):
#     english_only = []
#     for app in input_data:
#         name = app[0]
        
#         if (ord(name)) <= 127:
#             english_only.append(name)
#         else:
#             print('Non-English')        

def english_app(app_name):
    
    for letter in app_name:
        if ord(letter) <= 127:
            return print('English')
        
    return print('Non-English')
        
english_app('Instagram')
english_app('爱奇艺PPS -《欢乐颂2》电视剧热播')
3/196:
# def english_app(input_data, start, end):
#     english_only = []
#     for app in input_data:
#         name = app[0]
        
#         if (ord(name)) <= 127:
#             english_only.append(name)
#         else:
#             print('Non-English')        

def english_app(app_name):
    
    for letter in app_name:
        if ord(letter) <= 127:
            return True
        
    return False
        
english_app('Instagram')
english_app('爱奇艺PPS -《欢乐颂2》电视剧热播')
3/197:
# def english_app(input_data, start, end):
#     english_only = []
#     for app in input_data:
#         name = app[0]
        
#         if (ord(name)) <= 127:
#             english_only.append(name)
#         else:
#             print('Non-English')        

def english_app(app_name):
    
    for letter in app_name:
        if ord(letter) > 127:
            return False
        
    return True
        
english_app('Instagram')
english_app('爱奇艺PPS -《欢乐颂2》电视剧热播')
3/198:
# def english_app(input_data, start, end):
#     english_only = []
#     for app in input_data:
#         name = app[0]
        
#         if (ord(name)) <= 127:
#             english_only.append(name)
#         else:
#             print('Non-English')        

def english_app(app_name):
    
    for letter in app_name:
        if ord(letter) <= 127:
            return print('English')
        else:
            return print('Non-English')
        
english_app('Instagram')
english_app('爱奇艺PPS -《欢乐颂2》电视剧热播')
3/199:
# def english_app(input_data, start, end):
#     english_only = []
#     for app in input_data:
#         name = app[0]      

def english_app(app_name):
    
    for letter in app_name:
        if ord(letter) <= 127:
            return print('Yes it is an English app')
        else:
            return print('No it is a non-English app')
        
english_app('Instagram')
english_app('爱奇艺PPS -《欢乐颂2》电视剧热播')
3/200:
# def english_app(input_data, start, end):
#     english_only = []
#     for app in input_data:
#         name = app[0]      

def english_app(app_name):
    
    for letter[1:3] in app_name:
        if ord(letter) <= 127:
            return print('Yes it is an English app')
        else:
            return print('No it is a non-English app')
        
english_app('Instagram')
english_app('爱奇艺PPS -《欢乐颂2》电视剧热播')
3/201:
# def english_app(input_data, start, end):
#     english_only = []
#     for app in input_data:
#         name = app[0]      

def english_app(app_name):
    
    for letter in app_name:
        if ord(letter) <= 127:
            return print('Yes it is an English app')
        else:
            return print('No it is a non-English app')
        
english_app('Instagram')
english_app('爱奇艺PPS -《欢乐颂2》电视剧热播')
3/202:
def english(app_name):
    non_ascii = 0
    
    for letter in app_name:
        if ord(letter) <= 127:
            non_ascii += 1
            return print('Yes it is an English app')
        else:
            return print('No it is a non-English app')
        
english('Docs To Go™ Free Office Suite')
english('Instachat 😜')
english('爱奇艺PPS -《欢乐颂2》电视剧热播')
3/203:
def english(app_name):
    non_ascii = 0
    
    for letter in app_name:
        if ord(letter) <= 127:
            non_ascii += 1
            return print('Yes it is an English app')
        elif non_ascii > 3:
            return print('No it is a non-English app')
        
english('Docs To Go™ Free Office Suite')
english('Instachat 😜')
english('爱奇艺PPS -《欢乐颂2》电视剧热播')
3/204:
def english(app_name):
    non_ascii = 0
    
    for letter in app_name:
        if ord(letter) <= 127:
            non_ascii += 1
            return print('Yes it is an English app')
        if non_ascii > 3:
            return print('No it is a non-English app')
        
english('Docs To Go™ Free Office Suite')
english('Instachat 😜')
english('爱奇艺PPS -《欢乐颂2》电视剧热播')
3/205:
def english(app_name):
    non_ascii = 0
    
    for letter in app_name:
        if ord(letter) <= 127:
            non_ascii += 1
            
    if non_ascii <= 3:
        return print('Yes it is an English app')
    elif non_ascii > 3:
        return print('No it is a non-English app')
        
english('Docs To Go™ Free Office Suite')
english('Instachat 😜')
english('爱奇艺PPS -《欢乐颂2》电视剧热播')
3/206:
def english(app_name):
    non_ascii = 0
    
    for letter in app_name:
        if ord(letter) <= 127:
            non_ascii += 1
            
    if non_ascii <= 3:
        return print('Yes it is an English app')
    else:
        return print('No it is a non-English app')
        
english('Docs To Go™ Free Office Suite')
english('Instachat 😜')
english('爱奇艺PPS -《欢乐颂2》电视剧热播')
3/207:
def english(app_name):
    non_ascii = 0
    
    for letter in app_name:
        if ord(letter) <= 127:
            non_ascii += 1
            
    if non_ascii > 3:
        return print('Yes it is an English app')
    else:
        return print('No it is a non-English app')
        
english('Docs To Go™ Free Office Suite')
english('Instachat 😜')
english('爱奇艺PPS -《欢乐颂2》电视剧热播')
3/208:
def english(app_name):
    non_ascii = 0
    
    for letter in app_name:
        if ord(letter) > 127:
            non_ascii += 1
            
    if non_ascii > 3:
        return print('Yes it is an English app')
    else:
        return print('No it is a non-English app')
        
english('Docs To Go™ Free Office Suite')
english('Instachat 😜')
english('爱奇艺PPS -《欢乐颂2》电视剧热播')
3/209:
def english(app_name):
    non_ascii = 0
    
    for letter in app_name:
        if ord(letter) > 127:
            non_ascii += 1
            
    if non_ascii <= 3:
        return print('Yes it is an English app')
    else:
        return print('No it is a non-English app')
        
english('Docs To Go™ Free Office Suite')
english('Instachat 😜')
english('爱奇艺PPS -《欢乐颂2》电视剧热播')
3/210:
def english(app_name):
    non_ascii = 0
    
    for letter in app_name:
        if ord(letter) > 127: #take note of the inequality
            non_ascii += 1
            
    if non_ascii <= 3:
        return print('Yes it is an English app')
    else:
        return print('No it is a non-English app')
        
english('Docs To Go™ Free Office Suite')
english('Instachat 😜')
english('爱奇艺PPS -《欢乐颂2》电视剧热播')
3/211:
def english(app_name):
    non_ascii = 0
    
    for letter in app_name:
        if ord(letter) > 127: #take note of the inequality
            non_ascii += 1
            
    if non_ascii <= 3:
        return print('Yes it is an English app')
    elif non_ascii > 3:
        return print('No it is a non-English app')
        
english('Docs To Go™ Free Office Suite')
english('Instachat 😜')
english('爱奇艺PPS -《欢乐颂2》电视剧热播')
3/212:
def english(app_name):
    non_ascii = 0
    
    for letter in app_name:
        if ord(letter) > 127: #take note of the inequality
            non_ascii += 1
            
    if non_ascii <= 3:
        return print('Yes it is an English app')
    else:
        return print('No it is a non-English app')
        
english('Docs To Go™ Free Office Suite')
english('Instachat 😜')
english('爱奇艺PPS -《欢乐颂2》电视剧热播')
3/213: android[3][4]
3/214: str(android[3][4])
3/215: print(str(android[3][4]))
3/216: print((android[3][0]))
3/217: print(str(android[3][0]))
3/218: str(android[3][0])
3/219: (android[3][0])
3/220:
def english(data_set):
    for app in data_set:
        english_app = []
        non_ascii = 0
        
        name = app[]
        for letter in name:
            if ord(letter) > 127: #take note of the inequality
                non_ascii += 1

        if non_ascii <= 3:
            return english_app.append(app)
        else:
            return del ish_app.append(app)
        
english(android)
3/221:
def english(data_set):
    for app in data_set:
        english_app = []
        non_ascii = 0
        
        name = app[]
        for letter in name:
            if ord(letter) > 127: #take note of the inequality
                non_ascii += 1

        if non_ascii <= 3:
            return english_app.append(app)
        else:
            return del ish_app.append(app)
        
english(android)
3/222:
def english(data_set):
    for app in data_set:
        english_app = []
        non_ascii = 0
        
        name = app[0]
        for letter in name:
            if ord(letter) > 127: #take note of the inequality
                non_ascii += 1

        if non_ascii <= 3:
            return english_app.append(app)
        else:
            return del ish_app.append(app)
        
english(android)
3/223:
def english(data_set):
    for app in data_set:
        english_app = []
        non_ascii = 0
        
        name = app[0]
        for letter in name:
            if ord(letter) > 127: #take note of the inequality
                non_ascii += 1

        if non_ascii <= 3:
            return english_app.append(app)
        else:
            return del english_app.append(app)
        
english(android)
3/224:
def english(data_set):
    for app in data_set:
        english_app = []
        non_ascii = 0
        
        name = app[0]
        for letter in name:
            if ord(letter) > 127: #take note of the inequality
                non_ascii += 1

        if non_ascii <= 3:
            return english_app.append(app)
#         else:
#             return del english_app.append(app)
        
english(android)
3/225:
def english_set(data_set):
    for app in data_set:
        english_app = []
        non_ascii = 0
        
        name = app[0]
        for letter in name:
            if ord(letter) > 127: #take note of the inequality
                non_ascii += 1

        if non_ascii <= 3:
            return english_app.append(app)
#         else:
#             return del english_app.append(app)
        
print(english_set(android))
3/226:
english_android = []
english_ios = []

for app in android_clean:
    name = android_clean[0]
    if english(name):
        english_android.append(app)
        
print(english_android)
3/227:
english_android = []
english_ios = []

for app in android_clean:
    name = app[0]
    if english(name):
        english_android.append(app)
        
print(english_android)
3/228:
english_android = []
english_ios = []

for app in android_clean:
    name = app[0]
    if english(name):
        english_android.append(app)

for app in ios:
    name = app[1]
    if english(name):
        english_ios.append(app)
    
explore_data(ios, 1, 4, True)
3/229:
english_android = []
english_ios = []

for app in android_clean:
    name = app[0]
    if english(name):
        english_android.append(app)

for app in ios:
    name = app[1]
    if english(name):
        english_ios.append(app)
    
explore_data(ios, 0, 4, True)
print('\n')
explore_data(android, 0, 4, True)
3/230:
english_android = []
english_ios = []

for app in android_clean:
    name = app[0]
    if english(name):
        english_android.append(app)

for app in ios:
    name = app[1]
    if english(name):
        english_ios.append(app)
    
explore_data(english_ios, 0, 4, True)
print('\n')
explore_data(english_android, 0, 4, True)
3/231:
english_android = []
english_ios = []

for app in android_clean:
    name = app[0]
    if english(name):
        english_android.append(app)

for app in ios:
    name = app[1]
    if english(name):
        english_ios.append(app)
    

print(english_android[1:4])
# explore_data(english_ios, 0, 4, True)
# print('\n')
# explore_data(english_android, 0, 4, True)
3/232:
def english(app_name):
    non_ascii = 0
    
    for letter in app_name:
        if ord(letter) > 127: #take note of the inequality
            non_ascii += 1
            
    if non_ascii <= 3:
        return True
    else:
        return False
        
english('Docs To Go™ Free Office Suite')
english('Instachat 😜')
english('爱奇艺PPS -《欢乐颂2》电视剧热播')
3/233:
def english(app_name):
    non_ascii = 0
    
    for letter in app_name:
        if ord(letter) > 127: #take note of the inequality
            non_ascii += 1
            
    if non_ascii <= 3:
        return True
    else:
        return False
        
print(english('Docs To Go™ Free Office Suite'))
print(english('Instachat 😜'))
print(english('爱奇艺PPS -《欢乐颂2》电视剧热播'))
3/234:
english_android = []
english_ios = []

for app in android_clean:
    name = app[0]
    if english(name):
        english_android.append(app)

for app in ios:
    name = app[1]
    if english(name):
        english_ios.append(app)
    

print(english_android[1:4])
# explore_data(english_ios, 0, 4, True)
# print('\n')
# explore_data(english_android, 0, 4, True)
3/235:
english_android = []
english_ios = []

for app in android_clean:
    name = app[0]
    if english(name):
        english_android.append(app)

for app in ios:
    name = app[1]
    if english(name):
        english_ios.append(app)
    

explore_data(english_ios, 0, 4, True)
print('\n')
explore_data(english_android, 0, 4, True)
3/236:
def explore_data(dataset, start, end, rows_and_columns=False):
    dataset_slice = dataset[start:end]    
    for row in dataset_slice:
        print(row)
        print('\n') # adds a new line after each list

    if rows_and_columns:
        print('Number of rows:', len(dataset))
        print('Number of columns:', len(dataset[0]))
        
explore_data(ios, 0, 5, True)
explore_data(android, 0, 2, True) #Full android data excluding the header
3/237:
def explore_data(dataset, start, end, rows_and_columns=False):
    dataset_slice = dataset[start:end]    
    for row in dataset_slice:
        print(row)
        print('\n') # adds a new line after each list

    if rows_and_columns:
        print('Number of rows:', len(dataset))
        print('Number of columns:', len(dataset[0]))
        
explore_data(ios, 0, 2, True)
explore_data(android, 0, 2, True) #Full android data excluding the header
3/238:
android_english = []
ios_english = []

for app in android_clean:
    name = app[0]
    if english(name):
        android_english.append(app)

for app in ios:
    name = app[1]
    if english(name):
        ios_english.append(app)
    

explore_data(ios_english, 0, 4, True)
print('\n')
explore_data(android_english, 0, 4, True)
3/239:
android_english = []
ios_english = []

for app in android_clean:
    name = app[0]
    if english(name):
        android_english.append(app)

for app in ios:
    name = app[1]
    if english(name):
        ios_english.append(app)
    

explore_data(ios_english, 0, 4, True)
print('\n')
explore_data(android_english, 0, 4, True)
3/240:
print(len(android_clean) - len(android_english))
print('\n')
print(len(ios) - len(android_ios))
3/241:
print(len(android_clean) - len(android_english))
print('\n')
print(len(ios) - len(ios_english))
3/242:
print(len(android_clean) - len(android_english))
print(len(ios) - len(ios_english))
3/243:
print(len(ios) - len(ios_english))
print(len(android_clean) - len(android_english))
3/244:
print(len(ios) - len(ios_english))
print(len(android_clean) - len(android_english))
3/245:
free_android = []
free_ios = []

for app in android_english:
    price = float(app[7])
    if price == 0:
        free_android.append(app)

for app in ios_english:
    price = float(app[4])
    if price == 0:
        free_ios.append(app)

explore_data(free_ios, 3, 10, True)
print('\n')
explore_data(free_android, 4555, 4565, True)
3/246:
free_android = []
free_ios = []

for app in android_english:
    price = app[7]
    if price == 'Free':
        free_android.append(app)

for app in ios_english:
    price = float(app[4])
    if price == 0:
        free_ios.append(app)

explore_data(free_ios, 3, 10, True)
print('\n')
explore_data(free_android, 4555, 4565, True)
3/247:
free_android = []
free_ios = []

for app in android_english:
    price = app[7]
    if price == 'Free':
        free_android.append(app)

for app in ios_english:
    price = float(app[4])
    if price == 0:
        free_ios.append(app)

explore_data(free_ios, 3, 10, True)
print('\n')
explore_data(free_android, 2, 5, True)
3/248:
free_android = []
free_ios = []

for app in android_english:
    price = app[7]
    if price == 'Free':
        free_android.append(app)

for app in ios_english:
    price = float(app[4])
    if price == 0:
        free_ios.append(app)

explore_data(free_ios, 3, 10, True)
print('\n')
explore_data(free_android, 0, 3, True)
3/249:
free_android = []
free_ios = []

for app in android_english:
    price = app[6]
    if price == 'Free':
        free_android.append(app)

for app in ios_english:
    price = float(app[4])
    if price == 0:
        free_ios.append(app)

explore_data(free_ios, 3, 10, True)
print('\n')
explore_data(free_android, 0, 3, True)
3/250:
print(len(ios_english) - len(free_ios))
print(len(android_english) - len(free_android))
3/251:
print(len(free_ios))
print(len(free_android))
print('\n')
print(len(ios_english) - len(free_ios))
print(len(android_english) - len(free_android))
 5/1:
## To open ios data
opened_file = open('AppleStore.csv', encoding='utf8')
from csv import reader
read_file = reader(opened_file)
ios = list(read_file)
ios_header = ios[0]
ios = ios[1:]

## To open android data
opened_file = open('googleplaystore.csv', encoding='utf8')
from csv import reader
read_file = reader(opened_file)
android = list(read_file)
android_header = android[0]
android = android[1:]

# ## To open any data set
# def open_data(platform):
#     opened_file = open(platform, encoding='utf8')
#     from csv import reader
#     read_file = reader(opened_file)
#     data_set = list(read_file)
#     dataset_header = data_set[0]
#     data_set = data_set[1:]
#     return data_set
    
# ios = open_data('AppleStore.csv')
# andoird = open_data('googleplaystore.csv')
 5/2:
def explore_data(dataset, start, end, rows_and_columns=False):
    dataset_slice = dataset[start:end]    
    for row in dataset_slice:
        print(row)
        print('\n') # adds a new line after each list

    if rows_and_columns:
        print('Number of rows:', len(dataset))
        print('Number of columns:', len(dataset[0]))
        
explore_data(ios, 0, 2, True)
explore_data(android, 0, 2, True) #Full android data excluding the header
 5/3:
print(ios_header)
print('\n')
print(android_header)
 5/4:
print(android[10472]) # misses category for this set
if len(android[0]) == len(android[10472]): # We use this to check if a cetegory is missing
    print('Yes')
else:
    print('No')
len_first_app = len(android[1])
len_wanted_app = len(android[10472])
print(len_first_app)
print(len_wanted_app)

# Now we delete the app with missen data
# del android[10472] #changed the total number of rows from 10841 to 10840

len(android)
 5/5:
for app in android:
    name = app[0]
    if name == 'Instagram': # An example is instagram
        print(app)
 5/6:
duplicate_apps = []
unique_apps = []

for app in android:
    name = app[0]
    if name in unique_apps:
        duplicate_apps.append(name)
    else:
        unique_apps.append(name)

print('Number of duplicate apps:', len(duplicate_apps))
print('\n')
print('Example of duplicate apps:', duplicate_apps[:8])
# print(duplicate_apps)
 5/7:
duplicate_apps_freq = {} # To know the frequency of duplicates

for name in duplicate_apps:
    if name in duplicate_apps_freq:
        duplicate_apps_freq[name] += 1
    else:
        duplicate_apps_freq[name] = 1
    
# print(duplicate_apps_freq)

''' This is just an extra program to know the frequency of the 
duplicated apps. We will check for instagram to see how many times
it appeared'''

print(duplicate_apps_freq['Instagram'])
len(duplicate_apps_freq)
 5/8:
reviews_max = {}

for app in android:
    name = app[0]
    n_reviews = float(app[3])
    
    if name in reviews_max and reviews_max[name] < n_reviews:
        reviews_max[name] = n_reviews
        
    elif name not in reviews_max:
        reviews_max[name] = n_reviews

# print(reviews_max)
 5/9:
print(len(free_ios))
print(len(free_android))
print('\n')
print(len(ios_english) - len(free_ios))
print(len(android_english) - len(free_android))
5/10:
reviews_max = {}

for app in android:
    name = app[0]
    n_reviews = float(app[3])
    
    if name in reviews_max and reviews_max[name] < n_reviews:
        reviews_max[name] = n_reviews
        
    elif name not in reviews_max:
        reviews_max[name] = n_reviews

# print(reviews_max)
 6/1:
## To open ios data
opened_file = open('AppleStore.csv', encoding='utf8')
from csv import reader
read_file = reader(opened_file)
ios = list(read_file)
ios_header = ios[0]
ios = ios[1:]

## To open android data
opened_file = open('googleplaystore.csv', encoding='utf8')
from csv import reader
read_file = reader(opened_file)
android = list(read_file)
android_header = android[0]
android = android[1:]

# ## To open any data set
# def open_data(platform):
#     opened_file = open(platform, encoding='utf8')
#     from csv import reader
#     read_file = reader(opened_file)
#     data_set = list(read_file)
#     dataset_header = data_set[0]
#     data_set = data_set[1:]
#     return data_set
    
# ios = open_data('AppleStore.csv')
# andoird = open_data('googleplaystore.csv')
 6/2:
def explore_data(dataset, start, end, rows_and_columns=False):
    dataset_slice = dataset[start:end]    
    for row in dataset_slice:
        print(row)
        print('\n') # adds a new line after each list

    if rows_and_columns:
        print('Number of rows:', len(dataset))
        print('Number of columns:', len(dataset[0]))
        
explore_data(ios, 0, 2, True)
explore_data(android, 0, 2, True) #Full android data excluding the header
 6/3:
print(ios_header)
print('\n')
print(android_header)
 6/4:
print(android[10472]) # misses category for this set
if len(android[0]) == len(android[10472]): # We use this to check if a cetegory is missing
    print('Yes')
else:
    print('No')
len_first_app = len(android[1])
len_wanted_app = len(android[10472])
print(len_first_app)
print(len_wanted_app)

# Now we delete the app with missen data
del android[10472] #changed the total number of rows from 10841 to 10840

len(android)
 6/5:
for app in android:
    name = app[0]
    if name == 'Instagram': # An example is instagram
        print(app)
 6/6:
duplicate_apps = []
unique_apps = []

for app in android:
    name = app[0]
    if name in unique_apps:
        duplicate_apps.append(name)
    else:
        unique_apps.append(name)

print('Number of duplicate apps:', len(duplicate_apps))
print('\n')
print('Example of duplicate apps:', duplicate_apps[:8])
# print(duplicate_apps)
 6/7:
duplicate_apps_freq = {} # To know the frequency of duplicates

for name in duplicate_apps:
    if name in duplicate_apps_freq:
        duplicate_apps_freq[name] += 1
    else:
        duplicate_apps_freq[name] = 1
    
# print(duplicate_apps_freq)

''' This is just an extra program to know the frequency of the 
duplicated apps. We will check for instagram to see how many times
it appeared'''

print(duplicate_apps_freq['Instagram'])
len(duplicate_apps_freq)
 6/8:
reviews_max = {}

for app in android:
    name = app[0]
    n_reviews = float(app[3])
    
    if name in reviews_max and reviews_max[name] < n_reviews:
        reviews_max[name] = n_reviews
        
    elif name not in reviews_max:
        reviews_max[name] = n_reviews

# print(reviews_max)
 6/9:
print('Expected Lenght:', len(android) - len(duplicate_apps))
print('Actual length:', len(reviews_max))
6/10:
android_clean = []
already_added = []

for app in android:
    name = app[0]
    n_reviews = float(app[3])
    
    if (n_reviews == reviews_max[name]) and (name not in already_added):
        android_clean.append(app)
        already_added.append(name)

len(already_added) - len(android_clean) # check for same lenght
6/11: explore_data(android_clean, 0, 3, True)
6/12:
print(ios[813][1])
print(ios[6731][1])
print('\n')
print(android_clean[4412][0])
print(android_clean[7940][0])
6/13:
print(ord('+'))
print(ord('b'))
print(ord('z'))
print(ord('@'))
print(ord('グ'))
'''Maximum is 127 for ASCII'''
6/14:
# def english_app(input_data, start, end):
#     english_only = []
#     for app in input_data:
#         name = app[0]      

def english_app(app_name):
    
    for letter in app_name:
        if ord(letter) <= 127:
            return print('Yes it is an English app')
        else:
            return print('No it is a non-English app')
        
english_app('Instagram')
english_app('爱奇艺PPS -《欢乐颂2》电视剧热播')
6/15:
def english(app_name):
    non_ascii = 0
    
    for letter in app_name:
        if ord(letter) > 127: #take note of the inequality
            non_ascii += 1
            
    if non_ascii <= 3:
        return True
    else:
        return False
        
print(english('Docs To Go™ Free Office Suite'))
print(english('Instachat 😜'))
print(english('爱奇艺PPS -《欢乐颂2》电视剧热播'))
6/16:
android_english = []
ios_english = []

for app in android_clean:
    name = app[0]
    if english(name):
        android_english.append(app)

for app in ios:
    name = app[1]
    if english(name):
        ios_english.append(app)
    

explore_data(ios_english, 0, 4, True)
print('\n')
explore_data(android_english, 0, 4, True)
6/17:
print(len(ios) - len(ios_english))
print(len(android_clean) - len(android_english))
6/18:
free_android = []
free_ios = []

for app in android_english:
    price = app[6]
    if price == 'Free':
        free_android.append(app)

for app in ios_english:
    price = float(app[4])
    if price == 0:
        free_ios.append(app)

explore_data(free_ios, 3, 10, True)
print('\n')
explore_data(free_android, 0, 3, True)
6/19:
print(len(free_ios))
print(len(free_android))
print('\n')
print(len(ios_english) - len(free_ios))
print(len(android_english) - len(free_android))
6/20:
free_android = []
free_ios = []

for app in android_english:
    price = app[7]
    if price == '0':
        free_android.append(app)

for app in ios_english:
    price = float(app[4])
    if price == 0:
        free_ios.append(app)

explore_data(free_ios, 3, 10, True)
print('\n')
explore_data(free_android, 0, 3, True)
6/21:
print(len(free_ios))
print(len(free_android))
print('\n')
print(len(ios_english) - len(free_ios))
print(len(android_english) - len(free_android))
6/22:
print('Total Free iOS apps:',len(free_ios))
print('Total Free android apps:',len(free_android))
print('\n')
print(len(ios_english) - len(free_ios))
print(len(android_english) - len(free_android))
6/23:
print('Total Free iOS apps:',len(free_ios))
print('Total Free android apps:',len(free_android))
print('\n')
# print(len(ios_english) - len(free_ios))
# print(len(android_english) - len(free_android))
6/24:
android_freq = {}
ios_freq = {}

for app in free_android:
    genre = app[9]
    if genre in android_freq:
        android_freq[genre] += 1
    else:
        android_freq[genre] = 1
        
print(android_freq)
6/25:
android_freq = {}
ios_freq = {}

for app in free_android:
    genre = app[9]
    if genre in android_freq:
        android_freq[genre] += 1
    else:
        android_freq[genre] = 1

for app in free_ios:
    genre = app[11]
    if genre in ios_freq:
        ios_freq[genre] += 1
    else:
        ios_freq[genre] = 1
        
print(android_freq)
print(ios_freq)
6/26:
android_freq = {}
ios_freq = {}

for app in free_android:
    genre = app[9]
    if genre in android_freq:
        android_freq[genre] += 1
    else:
        android_freq[genre] = 1

for app in free_ios:
    genre = app[11]
    if genre in ios_freq:
        ios_freq[genre] += 1
    else:
        ios_freq[genre] = 1
        
explore_data(android_freq,0,-1, True)
explore_data(ios_freq,0,-1, True)
# print(ios_freq)
6/27:
android_freq = {}
ios_freq = {}

for app in free_android:
    genre = app[9]
    if genre in android_freq:
        android_freq[genre] += 1
    else:
        android_freq[genre] = 1

for app in free_ios:
    genre = app[11]
    if genre in ios_freq:
        ios_freq[genre] += 1
    else:
        ios_freq[genre] = 1
        
print(len(ios_freq))
print(len(android_freq))
6/28:
android_freq = {}
ios_freq = {}

for app in free_android:
    genre = app[9]
    if genre in android_freq:
        android_freq[genre] += 1
    else:
        android_freq[genre] = 1

for app in free_ios:
    genre = app[11]
    if genre in ios_freq:
        ios_freq[genre] += 1
    else:
        ios_freq[genre] = 1
        
print(sorted(ios_freq))
print(len(android_freq))
6/29:
android_freq = {}
ios_freq = {}

for app in free_android:
    genre = app[9]
    if genre in android_freq:
        android_freq[genre] += 1
    else:
        android_freq[genre] = 1

for app in free_ios:
    genre = app[11]
    if genre in ios_freq:
        ios_freq[genre] += 1
    else:
        ios_freq[genre] = 1
        
print(sorted(ios_freq))
print((android_freq))
6/30:
android_freq = {}
ios_freq = {}

for app in free_android:
    genre = app[9]
    if genre in android_freq:
        android_freq[genre] += 1
    else:
        android_freq[genre] = 1

for app in free_ios:
    genre = app[11]
    if genre in ios_freq:
        ios_freq[genre] += 1
    else:
        ios_freq[genre] = 1
        
print(sorted(list(ios_freq))
print((android_freq))
6/31:
android_freq = {}
ios_freq = {}

for app in free_android:
    genre = app[9]
    if genre in android_freq:
        android_freq[genre] += 1
    else:
        android_freq[genre] = 1

for app in free_ios:
    genre = app[11]
    if genre in ios_freq:
        ios_freq[genre] += 1
    else:
        ios_freq[genre] = 1
        
print(sorted(list(ios_freq)))
print((android_freq))
6/32:
android_freq = {}
ios_freq = {}

for app in free_android:
    genre = app[9]
    if genre in android_freq:
        android_freq[genre] += 1
    else:
        android_freq[genre] = 1

for app in free_ios:
    genre = app[11]
    if genre in ios_freq:
        ios_freq[genre] += 1
    else:
        ios_freq[genre] = 1
        
print(sorted(list(ios_freq)))
print(list(android_freq))
6/33:
android_freq = {}
ios_freq = {}

for app in free_android:
    genre = app[9]
    if genre in android_freq:
        android_freq[genre] += 1
    else:
        android_freq[genre] = 1

for app in free_ios:
    genre = app[11]
    if genre in ios_freq:
        ios_freq[genre] += 1
    else:
        ios_freq[genre] = 1
        
print(len(ios_freq))
print(len(android_freq))
6/34:
android_freq = {}
ios_freq = {}

for app in free_android:
    genre = app[9]
    if genre in android_freq:
        android_freq[genre] += 1
    else:
        android_freq[genre] = 1

for app in free_ios:
    genre = app[11]
    if genre in ios_freq:
        ios_freq[genre] += 1
    else:
        ios_freq[genre] = 1
        
print(len(ios_freq))
print(len(android_freq))
print(sorted(android_freq))
6/35:
android_freq = {}
ios_freq = {}

for app in free_android:
    genre = app[9]
    if genre in android_freq:
        android_freq[genre] += 1
    else:
        android_freq[genre] = 1

for app in free_ios:
    genre = app[11]
    if genre in ios_freq:
        ios_freq[genre] += 1
    else:
        ios_freq[genre] = 1
        
print(len(ios_freq))
print(len(android_freq))
print(android_freq)
6/36:
android_freq = {}
ios_freq = {}

for app in free_android:
    genre = app[9]
    if genre in android_freq:
        android_freq[genre] += 1
    else:
        android_freq[genre] = 1

for app in free_ios:
    genre = app[11]
    if genre in ios_freq:
        ios_freq[genre] += 1
    else:
        ios_freq[genre] = 1
        
print(len(ios_freq))
print(len(android_freq))
6/37:
def freq_table(dataset, index):
    freq_table = {}
    for app in dataset:
        category = app[index]
        if category in freq_table:
            freq_table[category] += 1
            freq_table[category] /= len(dataset)
            freq_table[category] *= 100
        else:
            freq_table[category] = 1
    return freq_table

print(freq_table(ios, 11))
6/38:
def freq_table(dataset, index):
    freq_table = {}
    for app in dataset:
        category = app[index]
        if category in freq_table:
#             freq_table[category] += 1
            freq_table[category] /= len(dataset)
            freq_table[category] *= 100
        else:
            freq_table[category] = 1
    return freq_table

print(freq_table(ios, 11))
6/39:
def freq_table(dataset, index):
    freq_table = {}
    freq_table_perc = {}
    for app in dataset:
        category = app[index]
        if category in freq_table:
            freq_table[category] += 1
        else:
            freq_table[category] = 1
    
    for category in freq_table:
        freq_table[category] /= len(dataset)
        freq_table[category] *= 100
        
    return freq_table_perc

print(freq_table(ios, 11))
6/40:
def freq_table(dataset, index):
    freq_table = {}
    freq_table_perc = {}
    for app in dataset:
        category = app[index]
        if category in freq_table:
            freq_table[category] += 1
        else:
            freq_table[category] = 1
    
    for category in freq_table:
        freq_table_perc[category] /= len(dataset)
        freq_table_perc[category] *= 100
        
    return freq_table_perc

print(freq_table(ios, 11))
6/41:
def freq_table(dataset, index):
    freq_table = {}
    freq_table_perc = {}
    for app in dataset:
        category = app[index]
        if category in freq_table:
            freq_table[category] += 1
        else:
            freq_table[category] = 1
    
    for value in freq_table:
        freq_table_perc[value] /= len(dataset)
        freq_table_perc[value] *= 100
        
    return freq_table_perc

print(freq_table(ios, 11))
6/42:
def freq_table(dataset, index):
    freq_table = {}
    freq_table_perc = {}
    for app in dataset:
        category = app[index]
        if category in freq_table:
            freq_table[category] += 1
        else:
            freq_table[category] = 1
        return freq_table
    
    for value in freq_table:
        freq_table_perc[value] /= len(dataset)
        freq_table_perc[value] *= 100
        
    return freq_table_perc

print(freq_table(ios, 11))
6/43:
def freq_table(dataset, index):
    freq_table = {}
    for app in dataset:
        category = app[index]
        if category in freq_table:
            freq_table[category] += 1
        else:
            freq_table[category] = 1

    return freq_table

print(freq_table(ios, 11))
6/44:
def freq_table(dataset, index):
    freq_table = {}
    for app in dataset:
        category = app[index]
        if category in freq_table:
            freq_table[category] += 1
        else:
            freq_table[category] = 1

    return freq_table

def freq_table_perc(dataset, index):
    freq_table_perc = {}
    frequency = freq_table(dataset, index)
    for category in frequency:
        percentage = (frequency[category] / len(dataset)) * 100
        freq_table_perc[category] = percentage
    return freq_table_perc

print(freq_table(ios, 11))
print(freq_table_perc(ios, 11))
6/45:
def freq_table(dataset, index):
    freq_table = {}
    for app in dataset:
        category = app[index]
        if category in freq_table:
            freq_table[category] += 1
        else:
            freq_table[category] = 1

    return freq_table

def freq_table_perc(dataset, index):
    freq_table_perc = {}
    frequency = freq_table(dataset, index)
    for category in frequency:
        percentage = (frequency[category] / len(dataset)) * 100
        freq_table_perc[category] = percentage
    return freq_table_perc

print(freq_table(free_ios, 11))
print(freq_table_perc(free_ios, 11))
6/46:
def display_table(dataset, index):
    table = freq_table_perc(dataset, index)
    table_display = []
    for key in table:
        key_val_as_tuple = (table[key], key)
        table_display.append(key_value_as_tuple)
        
    table_sorted = sorted(table_display, reverse = True)
    for entry in table_sorted:
        print(entry[1], ':', entry[0])
        
display_table(free_ios, 11)
6/47:
def display_table(dataset, index):
    table = freq_table_perc(dataset, index)
    table_display = []
    for key in table:
        key_val_as_tuple = (table[key], key)
        table_display.append(key_val_as_tuple)
        
    table_sorted = sorted(table_display, reverse = True)
    for entry in table_sorted:
        print(entry[1], ':', entry[0])
        
display_table(free_ios, 11)
6/48:
def display_table(dataset, index):
    table = freq_table_perc(dataset, index)
    table_display = []
    for key in table:
        key_val_as_tuple = (table[key], key)
        table_display.append(key_val_as_tuple)
        
    table_sorted = sorted(table_display, reverse = True)
    for entry in table_sorted:
        print(entry[1], ':', entry[0])
        
display_table(free_ios, 11)
print('\n')
display_table(free_android, 7)
6/49:
def display_table(dataset, index):
    table = freq_table_perc(dataset, index)
    table_display = []
    for key in table:
        key_val_as_tuple = (table[key], key)
        table_display.append(key_val_as_tuple)
        
    table_sorted = sorted(table_display, reverse = True)
    for entry in table_sorted:
        print(entry[1], ':', entry[0])
        
display_table(free_ios, 11)
print('\n')
display_table(free_android, 9)
6/50:
def display_table(dataset, index):
    table = freq_table_perc(dataset, index)
    table_display = []
    for key in table:
        key_val_as_tuple = (table[key], key)
        table_display.append(key_val_as_tuple)
        
    table_sorted = sorted(table_display, reverse = True)
    for entry in table_sorted:
        print(entry[1], ':', entry[0])
        
display_table(free_ios, 11)
print('\n')
display_table(free_android, 1)
6/51:
def freq_table(dataset, index):
    freq_table = {}
    for app in dataset:
        category = app[index]
        if category in freq_table:
            freq_table[category] += 1
        else:
            freq_table[category] = 1

    freq_table_perc = {}
    for key in freq_table:
        percentage = (freq_table[category] / len(dataset)) * 100
        freq_table_perc[category] = percentage
    return freq_table_perc

print(freq_table(free_ios, 11))
print(freq_table_perc(free_ios, 11))
6/52:
def freq_table(dataset, index):
    freq_table = {}
    for app in dataset:
        category = app[index]
        if category in freq_table:
            freq_table[category] += 1
        else:
            freq_table[category] = 1

    freq_table_perc = {}
    for key in freq_table:
        percentage = (freq_table[key] / len(dataset)) * 100
        freq_table_perc[key = percentage
    return freq_table_perc

print(freq_table(free_ios, 11))
print(freq_table_perc(free_ios, 11))
6/53:
def freq_table(dataset, index):
    freq_table = {}
    for app in dataset:
        category = app[index]
        if category in freq_table:
            freq_table[category] += 1
        else:
            freq_table[category] = 1

    freq_table_perc = {}
    for key in freq_table:
        percentage = (freq_table[key] / len(dataset)) * 100
        freq_table_perc[key] = percentage
    return freq_table_perc

print(freq_table(free_ios, 11))
print(freq_table_perc(free_ios, 11))
6/54:
def freq_table(dataset, index):
    freq_table = {}
    for app in dataset:
        category = app[index]
        if category in freq_table:
            freq_table[category] += 1
        else:
            freq_table[category] = 1

    freq_table_perc = {}
    for key in freq_table:
        percentage = (freq_table[key] / len(dataset)) * 100
        freq_table_perc[key] = percentage
    return freq_table_perc

print(freq_table(free_ios, 11))
6/55:
def display_table(dataset, index):
    table = freq_table(dataset, index)
    table_display = []
    for key in table:
        key_val_as_tuple = (table[key], key)
        table_display.append(key_val_as_tuple)
        
    table_sorted = sorted(table_display, reverse = True)
    for entry in table_sorted:
        print(entry[1], ':', entry[0])
        
display_table(free_ios, 11)
print('\n')
display_table(free_android, 1)
6/56:
def display_table(dataset, index):
    table = freq_table(dataset, index)
    table_display = []
    for key in table:
        key_val_as_tuple = (table[key], key)
        table_display.append(key_val_as_tuple)
        
    table_sorted = sorted(table_display, reverse = True)
    for entry in table_sorted:
        print(entry[1], ':', entry[0])
6/57: display_table(free_ios, 11)
6/58: display_table(free_android, 1)
6/59: display_table(free_android, -4)
6/60:
def freq_table(dataset, index):
    freq_table = {}
    for app in dataset:
        category = app[index]
        if category in freq_table:
            freq_table[category] += 1
        else:
            freq_table[category] = 1

    freq_table_perc = {}
    for key in freq_table:
        percentage = (freq_table[key] / len(dataset)) * 100
        freq_table_perc[key] = percentage
    return freq_table_perc

def display_table(dataset, index):
    table = freq_table(dataset, index)
    table_display = []
    for key in table:
        key_val_as_tuple = (table[key], key)
        table_display.append(key_val_as_tuple)
        
    table_sorted = sorted(table_display, reverse = True)
    for entry in table_sorted:
        print(entry[1], ':', entry[0])
        

print(freq_table(free_ios, 11))
6/61:
def freq_table(dataset, index):
    freq_table = {}
    for app in dataset:
        category = app[index]
        if category in freq_table:
            freq_table[category] += 1
        else:
            freq_table[category] = 1

    freq_table_perc = {}
    for key in freq_table:
        percentage = (freq_table[key] / len(dataset)) * 100
        freq_table_perc[key] = percentage
    return freq_table_perc

def display_table(dataset, index):
    table = freq_table(dataset, index)
    table_display = []
    for key in table:
        key_val_as_tuple = (table[key], key)
        table_display.append(key_val_as_tuple)
        
    table_sorted = sorted(table_display, reverse = True)
    for entry in table_sorted:
        print(entry[1], ':', entry[0])
        

print(freq_table(free_android, -4))
6/62:
def freq_table(dataset, index):
    freq_table = {}
    for app in dataset:
        category = app[index]
        if category in freq_table:
            freq_table[category] += 1
        else:
            freq_table[category] = 1

    freq_table_perc = {}
    for key in freq_table:
        percentage = (freq_table[key] / len(dataset)) * 100
        freq_table_perc[key] = percentage
    return freq_table_perc

def display_table(dataset, index):
    table = freq_table(dataset, index)
    table_display = []
    for key in table:
        key_val_as_tuple = (table[key], key)
        table_display.append(key_val_as_tuple)
        
    table_sorted = sorted(table_display, reverse = True)
    for entry in table_sorted:
        print(entry[1], ':', entry[0])
        

print(freq_table(free_android, 1))
6/63:
def freq_table(dataset, index):
    freq_table = {}
    for app in dataset:
        category = app[index]
        if category in freq_table:
            freq_table[category] += 1
        else:
            freq_table[category] = 1

    freq_table_perc = {}
    for key in freq_table:
        percentage = (freq_table[key] / len(dataset)) * 100
        freq_table_perc[key] = percentage
    return freq_table_perc

def display_table(dataset, index):
    table = freq_table(dataset, index)
    table_display = []
    for key in table:
        key_val_as_tuple = (table[key], key)
        table_display.append(key_val_as_tuple)
        
    table_sorted = sorted(table_display, reverse = True)
    for entry in table_sorted:
        print(entry[1], ':', entry[0])
        

print(freq_table(free_ios, 11))
6/64: display_table(free_ios, 11) # Genres Category
6/65: display_table(free_ios, 11) # Genres
6/66: display_table(free_android, -4) # Genres
6/67: display_table(free_android, 1) # Category
6/68: display_table(free_ios, 7) # Genres
6/69: display_table(free_ios, 5) # Genres
6/70:
rating_count_tot = {'0 - 100': 0, '100 - 10,000': 0, '10,000 - 500,000': 0,
                   '500,000 - 1,000,000': 0, '1,000,000+': 0}
for row in free_ios:
    rating_count = float(row[5])
    if rating_count <= 100:
        rating_count_tot['0 - 100'] += 1
    elif 100 < rating_count <= 10000:
        rating_count_tot['100 - 10,000'] += 1
    elif 10000 < rating_count <= 500000:
        rating_count_tot['10,000 - 500,000'] += 1
        
print(rating_count_tot)
6/71: freq_table(free_ios, 11) # Prime_genres
6/72: genre_ios = freq_table(free_ios, 11) # Prime_genres
6/73:
genre_ios = freq_table(free_ios, 11) # Prime_genres

for genre in genre_ios:
    total = 0
    len_genre = 0
    
    for app in free_ios:
        genre_app = app[11]
        if genre_app == genre:
            user_ratings = float(app[4])
            user_ratings += total
            len_genre += 1
            
    avg_rating = total / len_genre
    
print(avg_rating)
6/74:
genre_ios = freq_table(free_ios, 11) # Prime_genres

for genre in genre_ios:
    total = 0
    len_genre = 0
    
    for app in free_ios:
        genre_app = app[11]
        if genre_app == genre:
            user_ratings = float(app[5])
            user_ratings += total
            len_genre += 1
            
    avg_rating = total / len_genre
    
print(avg_rating)
6/75:
genre_ios = freq_table(free_ios, 11) # Prime_genres

for genre in genre_ios:
    total = 0
    len_genre = 0
    
    for app in free_ios:
        genre_app = app[11]
        if genre_app == genre:
            user_ratings = float(app[5])
            user_ratings += total
            len_genre += 1
            
    avg_rating = total / len_genre
    print(genre,':', avg_rating)
6/76:
genre_ios = freq_table(free_ios, 11) # Prime_genres

for genre in genre_ios:
    total = 0
    len_genre = 0
    
    for app in free_ios:
        genre_app = app[11]
        if genre_app == genre:
            user_ratings = float(app[5])
            total +=  user_ratings
            len_genre += 1
            
    avg_rating = total / len_genre
    print(genre,':', avg_rating)
6/77:
genres_ios = freq_table(free_ios, 11) # Prime_genres

for genre in genres_ios:
    total = 0
    len_genre = 0
    
    for app in free_ios:
        genre_app = app[11]
        if genre_app == genre:
            user_ratings = float(app[5])
            total +=  user_ratings
            len_genre += 1
            
    avg_rating = total / len_genre
    print(genre,':', avg_rating)
6/78: display_table(free_android, 5) # Number of installations
6/79: display_table(free_android, 1)
6/80: freq_table(free_android, 1)
6/81:
for app in free_ios:
    genre = app[11]
    if genre == 'Navigation':
        print(app[1],':', app[5])
6/82:
for app in free_ios:
    genre = app[11]
    if genre == 'Social Networking':
        print(app[1],':', app[5])
6/83: freq_table(free_android, -4)
6/84: freq_table(free_android, 1)
6/85:
android_cat = freq_table(free_android, 1)

for category in android_cat:
    total = 0
    len_category = 0
    
    for app in free_android:
        category_app = app[1]
        if category_app == category:
            n_installs = app[5]
            n_installs = n_installs.replace('+', '')
            n_installs = n_installs.replace(',', '')
            n_installs = float(n_installs)
            total += n_installs
            len_category += 1
    
    avg_installs = total / len_category
    print(app[1], ':', n_installs)
6/86:
android_cat = freq_table(free_android, 1)

for category in android_cat:
    total = 0
    len_category = 0
    
    for app in free_android:
        category_app = app[1]
        if category_app == category:
            n_installs = app[5]
            n_installs = n_installs.replace('+', '')
            n_installs = n_installs.replace(',', '')
            n_installs = float(n_installs)
            total += n_installs
            len_category += 1
    
    avg_installs = total / len_category
    print(app[0], ':', n_installs)
6/87:
android_cat = freq_table(free_android, 1)

for category in android_cat:
    total = 0
    len_category = 0
    
    for app in free_android:
        category_app = app[1]
        if category_app == category:
            n_installs = app[5]
            n_installs = n_installs.replace('+', '')
            n_installs = n_installs.replace(',', '')
            n_installs = float(n_installs)
            total += n_installs
            len_category += 1
    
    avg_installs = total / len_category
    print(app[1], ':', avg_installs)
6/88:
category = freq_table(free_android, 1)

for key in category:
    total = 0
    len_category = 0
    
    for app in free_android:
        category_app = app[1]
        if category_app == category:
            n_installs = app[5]
            n_installs = n_installs.replace('+', '')
            n_installs = n_installs.replace(',', '')
            n_installs = float(n_installs)
            total += n_installs
            len_category += 1
    
    avg_installs = total / len_category
    print(app[1], ':', avg_installs)
6/89:
android_cat = freq_table(free_android, 1)

for category in android_cat:
    total = 0
    len_category = 0
    
    for app in free_android:
        category_app = app[1]
        if category_app == category:
            n_installs = app[5]
            n_installs = n_installs.replace('+', '')
            n_installs = n_installs.replace(',', '')
            n_installs = float(n_installs)
            total += n_installs
            len_category += 1
    
    avg_installs = total / len_category
    print(app[1], ':', avg_installs)
6/90:
android_cat = freq_table(free_android, 1)

for category in android_cat:
    total = 0
    len_category = 0
    
    for app in free_android:
        category_app = app[1]
        if category_app == category:
            n_installs = app[5]
            n_installs = n_installs.replace('+', '')
            n_installs = n_installs.replace(',', '')
            n_installs = float(n_installs)
            total += n_installs
            len_category += 1
    
    avg_installs = total / len_category
print(app[1], ':', avg_installs)
6/91:
android_cat = freq_table(free_android, 1)

for category in android_cat:
    total = 0
    len_category = 0
    
    for app in free_android:
        category_app = app[1]
        if category_app == category:
            n_installs = app[5]
            n_installs = n_installs.replace('+', '')
            n_installs = n_installs.replace(',', '')
            n_installs = float(n_installs)
            total += n_installs
            len_category += 1
    
    avg_installs = total / len_category
    print(app[1], ':', avg_installs)
6/92:
android_cat = freq_table(free_android, 1)

for category in android_cat:
    total = 0
    len_category = 0
    
    for app in free_android:
        category_app = app[1]
        if category_app == category:
            n_installs = app[5]
            n_installs = n_installs.replace('+', '')
            n_installs = n_installs.replace(',', '')
            n_installs = float(n_installs)
            n_installs += total
            len_category += 1
    
    avg_installs = total / len_category
    print(app[1], ':', avg_installs)
6/93:
android_cat = freq_table(free_android, 1)

for category in android_cat:
    total = 0
    len_category = 0
    
    for app in free_android:
        category_app = app[1]
        if category_app == category:
            n_installs = app[5]
            n_installs = n_installs.replace('+', '')
            n_installs = n_installs.replace(',', '')
            n_installs = float(n_installs)
            total += n_installs
            len_category += 1
    
    avg_installs = total / len_category
    print(app[1], ':', avg_installs)
6/94:
android_cat = freq_table(free_android, 1)

for category in android_cat:
    total = 0
    len_category = 0
    
    for app in free_android:
        category_app = app[1]
        if category_app == category:
            n_installs = app[5]
            n_installs = n_installs.replace('+', '')
            n_installs = n_installs.replace(',', '')
            n_installs = float(n_installs)
            total += n_installs
            len_category += 1
    
    avg_installs = total / len_category
    print(category, ':', avg_installs)
6/95:
android_cat = display_table(free_android, 1)

for category in android_cat:
    total = 0
    len_category = 0
    
    for app in free_android:
        category_app = app[1]
        if category_app == category:
            n_installs = app[5]
            n_installs = n_installs.replace('+', '')
            n_installs = n_installs.replace(',', '')
            n_installs = float(n_installs)
            total += n_installs
            len_category += 1
    
    avg_installs = total / len_category
    print(category, ':', avg_installs)
6/96:
android_cat = display_table(free_android, 1)

for category in android_cat:
    total = 0
    len_category = 0
    
    for app in free_android:
        category_app = app[1]
        if category_app == category:
            n_installs = app[5]
            n_installs = n_installs.replace('+', '')
            n_installs = n_installs.replace(',', '')
            n_installs = float(n_installs)
            total += n_installs
            len_category += 1
    
    avg_installs = total / len_category
    print(category, ':', avg_installs)
6/97:
android_cat = freq_table(free_android, 1)

for category in android_cat:
    total = 0
    len_category = 0
    
    for app in free_android:
        category_app = app[1]
        if category_app == category:
            n_installs = app[5]
            n_installs = n_installs.replace('+', '')
            n_installs = n_installs.replace(',', '')
            n_installs = float(n_installs)
            total += n_installs
            len_category += 1
    
    avg_installs = total / len_category
    print(category, ':', avg_installs)
6/98:
android_cat = freq_table(free_android, 1)

for category in android_cat:
    total = 0
    len_category = 0
    
    for app in free_android:
        category_app = app[1]
        if category_app == category:
            n_installs = app[5]
            n_installs = n_installs.replace('+', '')
            n_installs = n_installs.replace(',', '')
            n_installs = float(n_installs)
            total += n_installs
            len_category += 1
    
    avg_installs = total / len_category
    print(sorted(category, ':', avg_installs))
6/99:
android_cat = freq_table(free_android, 1)

for category in android_cat:
    total = 0
    len_category = 0
    
    for app in free_android:
        category_app = app[1]
        if category_app == category:
            n_installs = app[5]
            n_installs = n_installs.replace('+', '')
            n_installs = n_installs.replace(',', '')
            n_installs = float(n_installs)
            total += n_installs
            len_category += 1
    
    avg_installs = total / len_category
    print(category, ':', avg_installs)
6/100:
for app in free_android:
    category = app[1]
    if category == GAME:
        print(app[0], ':', app[5])
6/101:
for app in free_android:
    category = app[1]
    if category == 'GAME':
        print(app[0], ':', app[5])
6/102:
for app in free_android:
    category = app[1]
    if category == 'PRODUCTIVITY':
        print(app[0], ':', app[5])
6/103:
for app in free_android:
    category = app[1]
    if category == 'BOOKS_AND_REFERENCE':
        print(app[0], ':', app[5])
6/104:
for app in free_android:
    category = app[1]
    if category == 'COMMUNICATION':
        print(app[0], ':', app[5])
6/105:
for app in free_android:
    category = app[1]
    if category == 'PHOTOGRAPHY':
        print(app[0], ':', app[5])
6/106:
for app in free_android:
    category = app[1]
    if category == 'SOCIAL':
        print(app[0], ':', app[5])
6/107:
for app in free_android:
    category = app[1]
    if category == 'COMMUNICATION' and (app[5] == '1,000,000,000+'
                                        or app[5] == '500,000,000+'
                                        or app[5] == '1,000,000+':
        print(app[0], ':', app[5])
6/108:
for app in free_android:
    category = app[1]
    if category == 'COMMUNICATION' and (app[5] == '1,000,000,000+'
                                        or app[5] == '500,000,000+'
                                        or app[5] == '1,000,000+'):
        print(app[0], ':', app[5])
6/109:
for app in free_android:
    category = app[1]
    if category == 'COMMUNICATION' and (app[5] == '1,000,000,000+'
                                        or app[5] == '500,000,000+'
                                        or app[5] == '100,000,000+'):
        print(app[0], ':', app[5])
6/110:
# Removing the apps with over 100M installs to see new average

under_100M = []

for app in free_android:
    n_installs = app[5]
    n_installs = n_installs.replace('+', '')
    n_installs = n_installs.replace(',', '')
    n_installs = float(n_installs)
    if (app[1] == 'COMMUNICATION') and (n_installs < 100000000):
        under_100M.append(n_installs)
        
print(sum(under_100M) / len(under_100M))
6/111:
'''Removing the video players 
apps with over 100M installs to see new average'''

under_100M = []

for app in free_android:
    n_installs = app[5]
    n_installs = n_installs.replace('+', '')
    n_installs = n_installs.replace(',', '')
    n_installs = float(n_installs)
    if (app[1] == 'VIDEO_PLAYERS') and (n_installs < 100000000):
        under_100M.append(n_installs)
        
print(sum(under_100M) / len(under_100M))
6/112:
for app in free_android:
    category = app[1]
    if category == 'VIDEO_PLAYERS' and (app[5] == '1,000,000,000+'
                                        or app[5] == '500,000,000+'
                                        or app[5] == '100,000,000+'):
        print(app[0], ':', app[5])
6/113: ## Write conclusion here
15/1:
print(android[10472]) # misses category for this set
if len(android[0]) == len(android[10472]): # We use this to check if a is missing
    print('Yes')
else:
    print('No')
len_first_app = len(android[1])
len_wanted_app = len(android[10472])
print(len_first_app)
print(len_wanted_app)

# Now we delete the app with missen data
# del android[10472] #changed the total number of rows from 10841 to 10840

len(android)
15/2:
## To open ios data
opened_file = open('AppleStore.csv', encoding='utf8')
from csv import reader
read_file = reader(opened_file)
ios = list(read_file)
ios_header = ios[0]
ios = ios[1:]

## To open android data
opened_file = open('googleplaystore.csv', encoding='utf8')
from csv import reader
read_file = reader(opened_file)
android = list(read_file)
android_header = android[0]
android = android[1:]

# ## To open any data set
# def open_data(platform):
#     opened_file = open(platform, encoding='utf8')
#     from csv import reader
#     read_file = reader(opened_file)
#     data_set = list(read_file)
#     dataset_header = data_set[0]
#     data_set = data_set[1:]
#     return data_set
    
# ios = open_data('AppleStore.csv')
# andoird = open_data('googleplaystore.csv')
15/3:
def explore_data(dataset, start, end, rows_and_columns=False):
    dataset_slice = dataset[start:end]    
    for row in dataset_slice:
        print(row)
        print('\n') # adds a new line after each list

    if rows_and_columns:
        print('Number of rows:', len(dataset))
        print('Number of columns:', len(dataset[0]))
        
explore_data(ios, 0, 5, True)
explore_data(android, 0, -1, True)
15/4:
print(ios_header)
print('\n')
print(android_header)
15/5:
print(android[10472]) # misses category for this set
if len(android[0]) == len(android[10472]): # We use this to check if a is missing
    print('Yes')
else:
    print('No')
len_first_app = len(android[1])
len_wanted_app = len(android[10472])
print(len_first_app)
print(len_wanted_app)

# Now we delete the app with missen data
# del android[10472] #changed the total number of rows from 10841 to 10840

len(android)
15/6:
print(android[10472]) # misses category for this set
if len(android[0]) == len(android[10472]): # We use this to check if a is missing
    print('Yes')
else:
    print('No')
len_first_app = len(android[1])
len_wanted_app = len(android[10472])
print(len_first_app)
print(len_wanted_app)

# Now we delete the app with missen data
# del android[10472] #changed the total number of rows from 10841 to 10840

len(android)
17/1: print('test')
17/2: open('AppleStore.csv')
17/3: open_file = open('AppleStore.csv')
17/4: open_file = open('AppleStore.csv')
17/5: open_file = open('AppleStore.csv')
17/6: open_file = open('AppleStore.csv')
17/7: open_file = open('C:\Users\Esosa\Desktop\Data\Projects\AppStore Analysis\AppleStore.csv')
17/8:
open_file = open('C:\Users\Esosa\Desktop\Data\Projects\AppStore Analysis\AppleStore.csv')
open_file
19/1:
open_file = open('C:\Users\Esosa\Desktop\Data\Projects\AppStore Analysis\AppleStore.csv')
open_file
19/2:
open_file = open('C:\Users\Esosa\Desktop\Data\Projects\AppStore Analysis\AppleStore.csv')
open_file
19/3:
open_file = open('AppleStore.csv')
open_file
19/4:
open_file = open('AppleStore.csv',encoding = cp1252)
open_file
19/5:
open_file = open('AppleStore.csv',encoding = utf8)
open_file
20/1:
## To open ios data
opened_file = open('AppleStore.csv', encoding='utf8')
from csv import reader
read_file = reader(opened_file)
ios = list(read_file)
ios_header = ios[0]
ios = ios[1:]

## To open android data
opened_file = open('googleplaystore.csv', encoding='utf8')
from csv import reader
read_file = reader(opened_file)
android = list(read_file)
android_header = android[0]
android = android[1:]

# ## To open any data set
# def open_data(platform):
#     opened_file = open(platform, encoding='utf8')
#     from csv import reader
#     read_file = reader(opened_file)
#     data_set = list(read_file)
#     dataset_header = data_set[0]
#     data_set = data_set[1:]
#     return data_set
    
# ios = open_data('AppleStore.csv')
# andoird = open_data('googleplaystore.csv')
20/2:
## To open ios data
opened_file = open('AppleStore.csv', encoding='utf8')
from csv import reader
read_file = reader(opened_file)
ios = list(read_file)
ios_header = ios[0]
ios = ios[1:]

## To open android data
opened_file = open('googleplaystore.csv', encoding='utf8')
from csv import reader
read_file = reader(opened_file)
android = list(read_file)
android_header = android[0]
android = android[1:]

# ## To open any data set
# def open_data(platform):
#     opened_file = open(platform, encoding='utf8')
#     from csv import reader
#     read_file = reader(opened_file)
#     data_set = list(read_file)
#     dataset_header = data_set[0]
#     data_set = data_set[1:]
#     return data_set
    
# ios = open_data('AppleStore.csv')
# andoird = open_data('googleplaystore.csv')
20/3:
def explore_data(dataset, start, end, rows_and_columns=False):
    dataset_slice = dataset[start:end]    
    for row in dataset_slice:
        print(row)
        print('\n') # adds a new line after each list

    if rows_and_columns:
        print('Number of rows:', len(dataset))
        print('Number of columns:', len(dataset[0]))
        
explore_data(ios, 0, 5, True)
explore_data(android, 0, -1, True)
20/4:
def explore_data(dataset, start, end, rows_and_columns=False):
    dataset_slice = dataset[start:end]    
    for row in dataset_slice:
        print(row)
        print('\n') # adds a new line after each list

    if rows_and_columns:
        print('Number of rows:', len(dataset))
        print('Number of columns:', len(dataset[0]))
        
explore_data(ios, 0, 5, True)
explore_data(android, 0, -1, True)
20/5:
## To open ios data
opened_file = open('AppleStore.csv', encoding='utf8')
from csv import reader
read_file = reader(opened_file)
ios = list(read_file)
ios_header = ios[0]
ios = ios[1:]

## To open android data
opened_file = open('googleplaystore.csv', encoding='utf8')
from csv import reader
read_file = reader(opened_file)
android = list(read_file)
android_header = android[0]
android = android[1:]

# ## To open any data set
# def open_data(platform):
#     opened_file = open(platform, encoding='utf8')
#     from csv import reader
#     read_file = reader(opened_file)
#     data_set = list(read_file)
#     dataset_header = data_set[0]
#     data_set = data_set[1:]
#     return data_set
    
# ios = open_data('AppleStore.csv')
# andoird = open_data('googleplaystore.csv')
20/6:
def explore_data(dataset, start, end, rows_and_columns=False):
    dataset_slice = dataset[start:end]    
    for row in dataset_slice:
        print(row)
        print('\n') # adds a new line after each list

    if rows_and_columns:
        print('Number of rows:', len(dataset))
        print('Number of columns:', len(dataset[0]))
        
explore_data(ios, 0, 5, True)
explore_data(android, 0, -1, True)
20/7:
print(ios_header)
print('\n')
print(android_header)
20/8:
print(android[10472]) # misses category for this set
if len(android[0]) == len(android[10472]): # We use this to check if a is missing
    print('Yes')
else:
    print('No')
len_first_app = len(android[1])
len_wanted_app = len(android[10472])
print(len_first_app)
print(len_wanted_app)

# Now we delete the app with missen data
# del android[10472] #changed the total number of rows from 10841 to 10840

len(android)
21/1:
## To open ios data
opened_file = open('AppleStore.csv', encoding='utf8')
from csv import reader
read_file = reader(opened_file)
ios = list(read_file)
ios_header = ios[0]
ios = ios[1:]

## To open android data
opened_file = open('googleplaystore.csv', encoding='utf8')
from csv import reader
read_file = reader(opened_file)
android = list(read_file)
android_header = android[0]
android = android[1:]

# ## To open any data set
# def open_data(platform):
#     opened_file = open(platform, encoding='utf8')
#     from csv import reader
#     read_file = reader(opened_file)
#     data_set = list(read_file)
#     dataset_header = data_set[0]
#     data_set = data_set[1:]
#     return data_set
    
# ios = open_data('AppleStore.csv')
# andoird = open_data('googleplaystore.csv')
21/2:
def explore_data(dataset, start, end, rows_and_columns=False):
    dataset_slice = dataset[start:end]    
    for row in dataset_slice:
        print(row)
        print('\n') # adds a new line after each list

    if rows_and_columns:
        print('Number of rows:', len(dataset))
        print('Number of columns:', len(dataset[0]))
        
explore_data(ios, 0, 5, True)
explore_data(android, 0, -1, True)
21/3:
print(ios_header)
print('\n')
print(android_header)
21/4:
print(android[10472]) # misses category for this set
if len(android[0]) == len(android[10472]): # We use this to check if a is missing
    print('Yes')
else:
    print('No')
len_first_app = len(android[1])
len_wanted_app = len(android[10472])
print(len_first_app)
print(len_wanted_app)

# Now we delete the app with missen data
# del android[10472] #changed the total number of rows from 10841 to 10840

len(android)
22/1: open_file = open('AppleStore.csv',encoding = utf8)
23/1: open_file = open('AppleStore.csv')
23/2:
open_file = open('AppleStore.csv')
open_file
23/3:

open_file = open('AppleStore.csv')
from csv import reader
read_file = reader(open_file)
data_set = list(read_file)
print(data_Set[:3])
23/4:
open_file = open('AppleStore.csv')

# from csv import reader
# read_file = reader(open_file)
# data_set = list(read_file)
# print(data_Set[:3])
23/5:
open_file = open('C:\Users\Esosa\Desktop\Data\Projects\AppStore Analysis\AppleStore.csv')

# from csv import reader
# read_file = reader(open_file)
# data_set = list(read_file)
# print(data_Set[:3])
23/6:
open_file = open('C:/Users/Esosa/Desktop/Data/Projects/AppStore Analysis/AppleStore.csv')

# from csv import reader
# read_file = reader(open_file)
# data_set = list(read_file)
# print(data_Set[:3])
23/7:
open_file = open('C:/Users/Esosa/Desktop/Data/Projects/AppStore Analysis/AppleStore.csv')

# from csv import reader
# read_file = reader(open_file)
# data_set = list(read_file)
# print(data_Set[:3])
23/8:
open_file = open('C:/Users/Esosa/Desktop/Data/Projects/AppStore Analysis/AppleStore.csv')

from csv import reader
read_file = reader(open_file)
data_set = list(read_file)
print(data_Set[:3])
23/9:
open_file = open('C:/Users/Esosa/Desktop/Data/Projects/AppStore Analysis/AppleStore.csv')

# from csv import reader
# read_file = reader(open_file)
# data_set = list(read_file)
# print(data_Set[:3])
23/10:
open_file = open('C:/Users/Esosa/Desktop/Data/Projects/AppStore Analysis/AppleStore.csv')

# from csv import reader
# read_file = reader(open_file)
# data_set = list(read_file)
# print(data_Set[:3])
25/1: open_file = open('AppleStrore.csv')
25/2: open_file = open('C:\Users\Esosa\Desktop\Data\Projects\AppStore Analysis\AppleStrore.csv')
23/11:
open_file = open('C:\\Users\\Esosa\\Desktop\\Data\\Projects\\AppStore Analysis\\AppleStore.csv')

# from csv import reader
# read_file = reader(open_file)
# data_set = list(read_file)
# print(data_Set[:3])
23/12:
open_file = open('C:\\Users\\Esosa\\Desktop\\Data\\Projects\\AppStore Analysis\\AppleStore.csv')

from csv import reader
read_file = reader(open_file)
data_set = list(read_file)
print(data_Set[:3])
23/13:
open_file = open('C:\\Users\\Esosa\\Desktop\\Data\\Projects\\AppStore Analysis\\AppleStore.csv')

from csv import reader
read_file = reader(open_file)
data_set = list(read_file)
print(data_set[:3])
23/14:
from csv import reader
open_file = open('C:\\Users\\Esosa\\Desktop\\Data\\Projects\\AppStore Analysis\\AppleStore.csv')

read_file = reader(open_file)
data_set = list(read_file)
print(data_set[:3])
23/15:
# from csv import reader
open_file = open('C:\\Users\\Esosa\\Desktop\\Data\\Projects\\AppStore Analysis\\AppleStore.csv')

# read_file = reader(open_file)
# data_set = list(read_file)
# print(data_set[:3])
23/16:
# from csv import reader
open_file = open("C:\\Users\\Esosa\\Desktop\\Data\\Projects\\AppStore Analysis\\AppleStore.csv")

# read_file = reader(open_file)
# data_set = list(read_file)
# print(data_set[:3])
23/17:
open_file = open("C:\\Users\\Esosa\\Desktop\\Data\\Projects\\AppStore Analysis\\AppleStore.csv")

# from csv import reader
# read_file = reader(open_file)
# data_set = list(read_file)
# print(data_set[:3])
23/18:
open_file = open("C:\\Users\\Esosa\\Desktop\\Data\\Projects\\AppStore Analysis\\AppleStore.csv")

from csv import reader
read_file = reader(open_file)
data_set = list(read_file)
print(data_set[:3])
23/19:
open_file = open("C:\\Users\\Esosa\\Desktop\\Data\\Projects\\AppStore Analysis\\AppleStore.csv")

from csv import reader
read_file = reader(open_file)
data_set = list(read_file)
print(data_set[:3])
23/20:
open_file = open("C:\\Users\\Esosa\\Desktop\\Data\\Projects\\AppStore Analysis\\AppleStore.csv")
open_file

# from csv import reader
# read_file = reader(open_file)
# data_set = list(read_file)
# print(data_set[:3])
23/21:
open_file = open("C:\\Users\\Esosa\\Desktop\\Data\\Projects\\AppStore Analysis\\AppleStore.csv",encoding=1252)
open_file

# from csv import reader
# read_file = reader(open_file)
# data_set = list(read_file)
# print(data_set[:3])
23/22:
# open_file = open("C:\\Users\\Esosa\\Desktop\\Data\\Projects\\AppStore Analysis\\AppleStore.csv")
open_file = open('C:\\Users\\Esosa\\Desktop\\Data\\Projects\\AppStore Analysis\\AppleStore.csv')
open_file

# from csv import reader
# read_file = reader(open_file)
# data_set = list(read_file)
# print(data_set[:3])
23/23:
# open_file = open("C:\\Users\\Esosa\\Desktop\\Data\\Projects\\AppStore Analysis\\AppleStore.csv")
open_file = open('C:\\Users\\Esosa\\Desktop\\Data\\Projects\\AppStore Analysis\\AppleStore.csv',encoding=None)
open_file

# from csv import reader
# read_file = reader(open_file)
# data_set = list(read_file)
# print(data_set[:3])
23/24:
# open_file = open("C:\\Users\\Esosa\\Desktop\\Data\\Projects\\AppStore Analysis\\AppleStore.csv")
open_file = open('C:\\Users\\Esosa\\Desktop\\Data\\Projects\\AppStore Analysis\\AppleStore.csv',encoding=None)
open_file

# from csv import reader
# read_file = reader(open_file)
# data_set = list(read_file)
# print(data_set[:3])
23/25:
# open_file = open("C:\\Users\\Esosa\\Desktop\\Data\\Projects\\AppStore Analysis\\AppleStore.csv")
open_file = open('C:\\Users\\Esosa\\Desktop\\Data\\Projects\\AppStore Analysis\\AppleStore.csv',encoding=cp1252)
open_file

# from csv import reader
# read_file = reader(open_file)
# data_set = list(read_file)
# print(data_set[:3])
23/26:
# open_file = open("C:\\Users\\Esosa\\Desktop\\Data\\Projects\\AppStore Analysis\\AppleStore.csv")
open_file = open('C:\\Users\\Esosa\\Desktop\\Data\\Projects\\AppStore Analysis\\AppleStore.csv',encoding=1252)
open_file

# from csv import reader
# read_file = reader(open_file)
# data_set = list(read_file)
# print(data_set[:3])
23/27:
# open_file = open("C:\\Users\\Esosa\\Desktop\\Data\\Projects\\AppStore Analysis\\AppleStore.csv")
open_file = open('C:\\Users\\Esosa\\Desktop\\Data\\Projects\\AppStore Analysis\\AppleStore.csv')
open_file

# from csv import reader
# read_file = reader(open_file)
# data_set = list(read_file)
# print(data_set[:3])
23/28:
# open_file = open("C:\\Users\\Esosa\\Desktop\\Data\\Projects\\AppStore Analysis\\AppleStore.csv")
open_file = open('AppleStore.csv')
open_file

# from csv import reader
# read_file = reader(open_file)
# data_set = list(read_file)
# print(data_set[:3])
23/29:
# open_file = open("C:\\Users\\Esosa\\Desktop\\Data\\Projects\\AppStore Analysis\\AppleStore.csv")
open_file = open('AppleStore.csv')
open_file

# from csv import reader
# read_file = reader(open_file)
# data_set = list(read_file)
# print(data_set[:3])
23/30:
# open_file = open("C:\\Users\\Esosa\\Desktop\\Data\\Projects\\AppStore Analysis\\AppleStore.csv")
open_file = open('AppleStore.csv', 'r')
open_file

# from csv import reader
# read_file = reader(open_file)
# data_set = list(read_file)
# print(data_set[:3])
23/31:
# open_file = open("C:\\Users\\Esosa\\Desktop\\Data\\Projects\\AppStore Analysis\\AppleStore.csv")
open_file = open('AppleStore.csv', 'r')
print(open_file.read())

# from csv import reader
# read_file = reader(open_file)
# data_set = list(read_file)
# print(data_set[:3])
23/32:
# open_file = open("C:\\Users\\Esosa\\Desktop\\Data\\Projects\\AppStore Analysis\\AppleStore.csv")
open_file = open('AppleStore.csv', 'r')
print(open_file.read())

# from csv import reader
# read_file = reader(open_file)
# data_set = list(read_file)
# print(data_set[:3])
23/33:
# open_file = open("C:\\Users\\Esosa\\Desktop\\Data\\Projects\\AppStore Analysis\\AppleStore.csv")
open_file = open('AppleStore.csv')
open_file
# from csv import reader
# read_file = reader(open_file)
# data_set = list(read_file)
# print(data_set[:3])
23/34:
# open_file = open("C:\\Users\\Esosa\\Desktop\\Data\\Projects\\AppStore Analysis\\AppleStore.csv")
open_file = open('AppleStore.csv',mode='r',encoding='utf-8')
open_file
# from csv import reader
# read_file = reader(open_file)
# data_set = list(read_file)
# print(data_set[:3])
23/35:
# open_file = open("C:\\Users\\Esosa\\Desktop\\Data\\Projects\\AppStore Analysis\\AppleStore.csv")
open_file = open('AppleStore.csv',mode='r',encoding='utf-8')
open_file
# from csv import reader
# read_file = reader(open_file)
# data_set = list(read_file)
# print(data_set[:3])
23/36:
# open_file = open("C:\\Users\\Esosa\\Desktop\\Data\\Projects\\AppStore Analysis\\AppleStore.csv")
open_file = open('C:\Users\Esosa\Desktop\Data\Projects\AppStore Analysis\AppleStore.csv',mode='r',encoding='utf-8')
open_file
# from csv import reader
# read_file = reader(open_file)
# data_set = list(read_file)
# print(data_set[:3])
23/37:
# open_file = open("C:\\Users\\Esosa\\Desktop\\Data\\Projects\\AppStore Analysis\\AppleStore.csv")
open_file = open('C:\Users\Esosa\Desktop\Data\Projects\AppStore Analysis\AppleStore.csv',mode='r',encoding='utf-8')
open_file
# from csv import reader
# read_file = reader(open_file)
# data_set = list(read_file)
# print(data_set[:3])
26/1:
# open_file = open("C:\\Users\\Esosa\\Desktop\\Data\\Projects\\AppStore Analysis\\AppleStore.csv")
open_file = open('C:\Users\Esosa\Desktop\Data\Projects\AppStore Analysis\AppleStore.csv',mode='r',encoding='utf-8')
open_file
# from csv import reader
# read_file = reader(open_file)
# data_set = list(read_file)
# print(data_set[:3])
26/2:
# open_file = open("C:\\Users\\Esosa\\Desktop\\Data\\Projects\\AppStore Analysis\\AppleStore.csv")
open_file = open('C:\Users\Esosa\Desktop\Data\Projects\AppStore Analysis\AppleStore.csv',mode='r',encoding='cp1252')
open_file
# from csv import reader
# read_file = reader(open_file)
# data_set = list(read_file)
# print(data_set[:3])
26/3:
# open_file = open("C:\\Users\\Esosa\\Desktop\\Data\\Projects\\AppStore Analysis\\AppleStore.csv")
open_file = open('C:\Users\Esosa\Desktop\Data\Projects\AppStore Analysis\AppleStore.csv',mode='r',encoding='utf-8')
open_file
# from csv import reader
# read_file = reader(open_file)
# data_set = list(read_file)
# print(data_set[:3])
26/4:
# open_file = open("C:\\Users\\Esosa\\Desktop\\Data\\Projects\\AppStore Analysis\\AppleStore.csv")
open_file = open('C:\\Users\\Esosa\\Desktop\\Data\\Projects\\AppStore Analysis\\AppleStore.csv',mode='r',encoding='utf-8')
open_file
# from csv import reader
# read_file = reader(open_file)
# data_set = list(read_file)
# print(data_set[:3])
26/5:
# open_file = open("C:\\Users\\Esosa\\Desktop\\Data\\Projects\\AppStore Analysis\\AppleStore.csv")
open_file = open('C:\\Users\\Esosa\\Desktop\\Data\\Projects\\AppStore Analysis\\AppleStore.csv',mode='r',encoding='utf-8')
open_file
# from csv import reader
# read_file = reader(open_file)
# data_set = list(read_file)
# print(data_set[:3])
26/6:
# open_file = open("C:\\Users\\Esosa\\Desktop\\Data\\Projects\\AppStore Analysis\\AppleStore.csv")
open_file = open('C:\\Users\\Esosa\\Desktop\\Data\\Projects\\AppStore Analysis\\AppleStore.csv',mode='r',encoding='utf-8')
open_file
# from csv import reader
# read_file = reader(open_file)
# data_set = list(read_file)
# print(data_set[:3])
26/7:
# open_file = open("C:\\Users\\Esosa\\Desktop\\Data\\Projects\\AppStore Analysis\\AppleStore.csv")
open_file = open('C:\\Users\\Esosa\\Desktop\\Data\\Projects\\AppStore Analysis\\AppleStore.csv',mode='r',encoding='utf-8')
from csv import reader
read_file = reader(open_file)
data_set = list(read_file)
print(data_set[:3])
27/1:
# open_file = open("C:\\Users\\Esosa\\Desktop\\Data\\Projects\\AppStore Analysis\\AppleStore.csv")
open_file = open('C:\\Users\\Esosa\\Desktop\\Data\\Projects\\AppStore Analysis\\AppleStore.csv',mode='r',encoding='utf-8')
from csv import reader
read_file = reader(open_file)
data_set = list(read_file)
print(data_set[:3])
27/2:
# open_file = open("C:\\Users\\Esosa\\Desktop\\Data\\Projects\\AppStore Analysis\\AppleStore.csv")
open_file = open('C:\\Users\\Esosa\\Desktop\\Data\\Projects\\AppStore Analysis\\AppleStore.csv',encoding='utf-8')
from csv import reader
read_file = reader(open_file)
data_set = list(read_file)
print(data_set[:3])
27/3:
# open_file = open("C:\\Users\\Esosa\\Desktop\\Data\\Projects\\AppStore Analysis\\AppleStore.csv")
open_file = open('C:\\Users\\Esosa\\Desktop\\Data\\Projects\\AppStore Analysis\\AppleStore.csv',encoding='utf-8')
from csv import reader
read_file = reader(open_file)
data_set = list(read_file)
print(data_set[:3])
28/1:
# open_file = open("C:\\Users\\Esosa\\Desktop\\Data\\Projects\\AppStore Analysis\\AppleStore.csv")
open_file = open('C:\\Users\\Esosa\\Desktop\\Data\\Projects\\AppStore Analysis\\AppleStore.csv',encoding='utf-8')
from csv import reader
read_file = reader(open_file)
data_set = list(read_file)
print(data_set[:3])
29/1:
# open_file = open("C:\\Users\\Esosa\\Desktop\\Data\\Projects\\AppStore Analysis\\AppleStore.csv")
open_file = open('C:\\Users\\Esosa\\Desktop\\Data\\Projects\\AppStore Analysis\\AppleStore.csv')
from csv import reader
read_file = reader(open_file)
data_set = list(read_file)
print(data_set[:3])
30/1:
# open_file = open("C:\\Users\\Esosa\\Desktop\\Data\\Projects\\AppStore Analysis\\AppleStore.csv")
open_file = open('C:\\Users\\Esosa\\Desktop\\Data\\Projects\\AppStore Analysis\\AppleStore.csv',encoding='utf-8')
from csv import reader
read_file = reader(open_file)
data_set = list(read_file)
print(data_set[:3])
30/2:
s = [1,2,3,4,5]
r = s[-1:]
30/3:
s = [1,2,3,4,5]
r = s[-1:]
30/4:
s = [1,2,3,4,5]
r = s[-1:]
print(r)
30/5:
s = [1,2,3,4,5]
r = s[:-1]
print(r)
30/6:
s = [1,2,3,4,5]
r = s.reverse()
print(r)
30/7:
s = ['1','2','3','4','5']
r = s.reverse()
print(r)
30/8:
s = ['1','2','3','4','5']
r = s.reverse()
print(r)
30/9:
s = ['1','2','3','4','5']
r = reverse(s)
print(r)
30/10:
s = ['1','2','3','4','5']
r = reversed(s)
print(r)
30/11:
s = ['1','2','3','4','5']
r = s.reversed()
print(r)
30/12:
# open_file = open("C:\\Users\\Esosa\\Desktop\\Data\\Projects\\AppStore Analysis\\AppleStore.csv")
open_file = open('C:\\Users\\Esosa\\Desktop\\Data\\Projects\\AppStore Analysis\\AppleStore.csv')
from csv import reader
read_file = reader(open_file)
data_set = list(read_file)
print(data_set[:3])
30/13:
open_file = open("C:\\Users\\Esosa\\Desktop\\Data\\Projects\\AppStore Analysis\\AppleStore.csv")
# open_file = open('C:\\Users\\Esosa\\Desktop\\Data\\Projects\\AppStore Analysis\\AppleStore.csv',encoding='utf-8')
from csv import reader
read_file = reader(open_file)
data_set = list(read_file)
print(data_set[:3])
30/14:
open_file = open("C:\\Users\\Esosa\\Desktop\\Data\\Projects\\AppStore Analysis\\AppleStore.csv")
# open_file = open('C:\\Users\\Esosa\\Desktop\\Data\\Projects\\AppStore Analysis\\AppleStore.csv',encoding='utf-8')
# from csv import reader
# read_file = reader(open_file)
# data_set = list(read_file)
# print(data_set[:3])
30/15:
open_file = open("C:\\Users\\Esosa\\Desktop\\Data\\Projects\\AppStore Analysis\\AppleStore.csv")
# open_file = open('C:\\Users\\Esosa\\Desktop\\Data\\Projects\\AppStore Analysis\\AppleStore.csv',encoding='utf-8')
# from csv import reader
# read_file = reader(open_file)
# data_set = list(read_file)
# print(data_set[:3])
30/16:
open_file = open("C:/Users/Esosa/Desktop/Data/Projects/AppStore Analysis/AppleStore.csv")
# open_file = open('C:\\Users\\Esosa\\Desktop\\Data\\Projects\\AppStore Analysis\\AppleStore.csv',encoding='utf-8')
# from csv import reader
# read_file = reader(open_file)
# data_set = list(read_file)
# print(data_set[:3])
30/17:
open_file = open("C:/Users/Esosa/Desktop/Data/Projects/AppStore Analysis/AppleStore.csv")
# open_file = open('C:\\Users\\Esosa\\Desktop\\Data\\Projects\\AppStore Analysis\\AppleStore.csv',encoding='utf-8')
# from csv import reader
# read_file = reader(open_file)
# data_set = list(read_file)
# print(data_set[:3])
30/18:
open_file = open("C:/Users/Esosa/Desktop/Data/Projects/AppStore Analysis/AppleStore.csv")
# open_file = open('C:\\Users\\Esosa\\Desktop\\Data\\Projects\\AppStore Analysis\\AppleStore.csv',encoding='utf-8')
from csv import reader
read_file = reader(open_file)
data_set = list(read_file)
print(data_set[:3])
30/19:
open_file = open("AppleStore.csv")
# open_file = open('C:\\Users\\Esosa\\Desktop\\Data\\Projects\\AppStore Analysis\\AppleStore.csv',encoding='utf-8')
# from csv import reader
# read_file = reader(open_file)
# data_set = list(read_file)
# print(data_set[:3])
30/20:
open_file = open("AppleStore.csv")
# open_file = open('C:\\Users\\Esosa\\Desktop\\Data\\Projects\\AppStore Analysis\\AppleStore.csv',encoding='utf-8')
# from csv import reader
# read_file = reader(open_file)
# data_set = list(read_file)
# print(data_set[:3])
30/21:
open_file = open("AppleStore.csv")
# open_file = open('C:\\Users\\Esosa\\Desktop\\Data\\Projects\\AppStore Analysis\\AppleStore.csv',encoding='utf-8')
from csv import reader
read_file = reader(open_file)
data_set = list(read_file)
print(data_set[:3])
30/22:
# open_file = open("C:\\Users\\Esosa\\Desktop\\Data\\Projects\\AppStore Analysis\\AppleStore.csv")
open_file = open('C:\\Users\\Esosa\\Desktop\\Data\\Projects\\AppStore Analysis\\AppleStore.csv',encoding='utf-8')
from csv import reader
read_file = reader(open_file)
data_set = list(read_file)
print(data_set[:3])
31/1:
# open_file = open("C:\\Users\\Esosa\\Desktop\\Data\\Projects\\AppStore Analysis\\AppleStore.csv")
open_file = open('C:\\Users\\Esosa\\Desktop\\Data\\Projects\\AppStore Analysis\\AppleStore.csv',encoding='utf-8')
from csv import reader
read_file = reader(open_file)
data_set = list(read_file)
print(data_set[:3])
31/2:
# open_file = open("C:\\Users\\Esosa\\Desktop\\Data\\Projects\\AppStore Analysis\\AppleStore.csv")
open_file = open('C:\\Users\\Esosa\\Desktop\\Data\\Projects\\AppStore Analysis\\AppleStore.csv',encoding='utf-8')
from csv import reader
read_file = reader(open_file)
data_set = list(read_file)
print(data_set[1],'\n')
print(data_set[3])
31/3:
# Open AppleStore Apps
open_file = open('AppleStore.csv')
from csv import reader
read_file = reader(open_file)
ios_data = list(read_file)
print(ios_data[:3])
31/4:
# Open AppleStore Apps
open_file = open('AppleStore.csv'encoding='utf-8')
from csv import reader
read_file = reader(open_file)
ios_data = list(read_file)
print(ios_data[:3])
31/5:
# Open AppleStore Apps
open_file = open('AppleStore.csv', encoding='utf-8')
from csv import reader
read_file = reader(open_file)
ios_data = list(read_file)
print(ios_data[:3])
31/6:
# open_file = open("C:\\Users\\Esosa\\Desktop\\Data\\Projects\\AppStore Analysis\\AppleStore.csv")
open_file = open('AppleStore.csv',encoding='utf-8')
from csv import reader
read_file = reader(open_file)
data_set = list(read_file)
print(data_set[1],'\n')
print(data_set[3])
31/7:
# Open AppleStore Apps
open_file = open('AppleStore.csv', encoding='utf-8')
from csv import reader
read_file = reader(open_file)
ios_data = list(read_file)
print(ios_data[:3])
31/8:
# Open AppleStore Apps
open_file = open('AppleStore.csv', encoding='utf-8')
from csv import reader
read_file = reader(open_file)
ios = list(read_file)
print(ios[:3])
31/9:
# Open AppleStore Apps
open_file = open('AppleStore.csv', encoding='utf-8')
from csv import reader
read_file = reader(open_file)
ios = list(read_file)
print(ios[:3])
31/10:
# Open Google PlayStore Apps
open_file = open('googleplaystore.csv',encoding='utf-8')
from csv import reader
read_file = reader(open_file)
android = list(read_file)
print(android[:3])
31/11:
# Open Google PlayStore Apps
open_file = open('googleplaystore.csv',encoding='utf-8')
from csv import reader
read_file = reader(open_file)
android = list(read_file)
print(android[:3])
31/12:
def explore_data(dataset, start, end, rows_and_columns = True):
    dataset_slice = dataset[start:end]
    for row in dataset_slice:
        print(row,'\n') #prints row and adds a line after each row
        
    if rows_and_column:
        print('Number of rows:',len(dataset))
        print('Number of column:',len(dataset[0]))
31/13: explore_data(ios,0,5,False)
31/14: explore_data(ios,0,5)
31/15: explore_data(ios,0,5,True)
31/16:
def explore_data(dataset, start, end, rows_and_columns = True):
    dataset_slice = dataset[start:end]
    for row in dataset_slice:
        print(row,'\n') #prints row and adds a line after each row
        
    if rows_and_column:
        print('Number of rows:',len(dataset))
        print('Number of columns:',len(dataset[0]))
31/17: explore_data(ios,0,5)
31/18: explore_data(ios,0,5,rows_and_columns=False)
31/19: explore_data(ios,0,5,rows_and_columns=True)
31/20: explore_data(ios,0,5,rows_and_columns=False)
32/1:
def explore_data(dataset, start, end, rows_and_columns = True):
    dataset_slice = dataset[start:end]
    for row in dataset_slice:
        print(row,'\n') #prints row and adds a line after each row
        
    if rows_and_columns:
        print('Number of rows:',len(dataset))
        print('Number of columns:',len(dataset[0]))
32/2:
def explore_data(dataset, start, end, rows_and_columns = True):
    dataset_slice = dataset[start:end]
    for row in dataset_slice:
        print(row,'\n') #prints row and adds a line after each row
        
    if rows_and_columns:
        print('Number of rows:',len(dataset))
        print('Number of columns:',len(dataset[0]))
32/3:
# Open AppleStore Apps
open_file = open('AppleStore.csv', encoding='utf-8')
from csv import reader
read_file = reader(open_file)
ios = list(read_file)
print(ios[:3])
32/4:
# Open Google PlayStore Apps
open_file = open('googleplaystore.csv',encoding='utf-8')
from csv import reader
read_file = reader(open_file)
android = list(read_file)
print(android[:3])
32/5:
def explore_data(dataset, start, end, rows_and_columns = True):
    dataset_slice = dataset[start:end]
    for row in dataset_slice:
        print(row,'\n') #prints row and adds a line after each row
        
    if rows_and_columns:
        print('Number of rows:',len(dataset))
        print('Number of columns:',len(dataset[0]))
32/6:
def explore_data(dataset, start, end, rows_and_columns = True):
    dataset_slice = dataset[start:end]
    for row in dataset_slice:
        print(row,'\n') #prints row and adds a line after each row
        
    if rows_and_columns:
        print('Number of rows:',len(dataset))
        print('Number of columns:',len(dataset[0]))
33/1: explore_data(ios,0,5,rows_and_columns=False)
33/2:
# Open AppleStore Apps
open_file = open('AppleStore.csv', encoding='utf-8')
from csv import reader
read_file = reader(open_file)
ios = list(read_file)
print(ios[:3])
33/3:
# Open Google PlayStore Apps
open_file = open('googleplaystore.csv',encoding='utf-8')
from csv import reader
read_file = reader(open_file)
android = list(read_file)
print(android[:3])
34/1:
def explore_data(dataset, start, end, rows_and_columns = True):
    dataset_slice = dataset[start:end]
    for row in dataset_slice:
        print(row,'\n') #prints row and adds a line after each row
        
    if rows_and_columns:
        print('Number of rows:',len(dataset))
        print('Number of columns:',len(dataset[0]))
34/2: explore_data(ios,0,5,rows_and_columns=False)
35/1:
# Open AppleStore Apps
open_file = open('AppleStore.csv', encoding='utf-8')
from csv import reader
read_file = reader(open_file)
ios = list(read_file)
print(ios[:3])
35/2:
# Open Google PlayStore Apps
open_file = open('googleplaystore.csv',encoding='utf-8')
from csv import reader
read_file = reader(open_file)
android = list(read_file)
print(android[:3])
35/3:
def explore_data(dataset, start, end, rows_and_columns = True):
    dataset_slice = dataset[start:end]
    for row in dataset_slice:
        print(row,'\n') #prints row and adds a line after each row
        
    if rows_and_columns:
        print('Number of rows:',len(dataset))
        print('Number of columns:',len(dataset[0]))
35/4: explore_data(ios,0,5,rows_and_columns=False)
35/5: explore_data(ios,0,5,rows_and_columns=True)
35/6: explore_data(ios,0,5)
35/7: explore_data(ios,0,5)
35/8: explore_data(ios,0,5,False)
35/9: explore_data(ios,0,5,True)
35/10: explore_data(ios,0,5)
35/11: explore_data(android,0,5)
36/1:
# Open AppleStore Apps
open_file = open('AppleStore.csv', encoding='utf-8')
from csv import reader
read_file = reader(open_file)
ios = list(read_file)
print(ios[:3])
36/2:
# Open Google PlayStore Apps
open_file = open('googleplaystore.csv',encoding='utf-8')
from csv import reader
read_file = reader(open_file)
android = list(read_file)
print(android[:3])
36/3:
def explore_data(dataset, start, end, rows_and_columns = True):
    dataset_slice = dataset[start:end]
    for row in dataset_slice:
        print(row,'\n') #prints row and adds a line after each row
        
    if rows_and_columns:
        print('Number of rows:',len(dataset))
        print('Number of columns:',len(dataset[0]))
36/4: explore_data(ios,0,5)
36/5: explore_data(android,0,5)
36/6:
print(ios[0],'\n')
print(android[0],'\n')
36/7:


# Opening AppleStore Apps
open_file = open('AppleStore.csv', encoding='utf-8')
from csv import reader
read_file = reader(open_file)
ios = list(read_file)
ios_header = ios[0]
ios = ios[1:]

# Opening Google PlayStore Apps
open_file = open('googleplaystore.csv',encoding='utf-8')
from csv import reader
read_file = reader(open_file)
android = list(read_file)
android_header = android[0]
android = android[1:]
36/8:
from csv import reader

# Opening AppleStore Apps
open_file = open('AppleStore.csv', encoding='utf-8')
read_file = reader(open_file)
ios = list(read_file)
ios_header = ios[0]
ios = ios[1:]

# Opening Google PlayStore Apps
open_file = open('googleplaystore.csv',encoding='utf-8')
read_file = reader(open_file)
android = list(read_file)
android_header = android[0]
android = android[1:]
36/9:
def explore_data(dataset, start, end, rows_and_columns = True):
    dataset_slice = dataset[start:end]
    for row in dataset_slice:
        print(row,'\n') #prints row and adds a line after each row
        
    if rows_and_columns:
        print('Number of rows:',len(dataset))
        print('Number of columns:',len(dataset[0]))
        
explore_data(ios,0,5)
explore_data(android,0,5)
36/10: %history -p
37/1:
from csv import reader

# Opening AppleStore Apps
open_file = open('AppleStore.csv', encoding='utf-8')
read_file = reader(open_file)
ios = list(read_file)
ios_header = ios[0]
# ios = ios[1:]

# Opening Google PlayStore Apps
open_file = open('googleplaystore.csv',encoding='utf-8')
read_file = reader(open_file)
android = list(read_file)
android_header = android[0]
android = android[1:]
37/2:
def explore_data(dataset, start, end, rows_and_columns = True):
    dataset_slice = dataset[start:end]
    for row in dataset_slice:
        print(row,'\n') #prints row and adds a linespace after each row
        
    if rows_and_columns:
        print('Number of rows:',len(dataset))
        print('Number of columns:',len(dataset[0]))
        
explore_data(ios,0,5)
explore_data(android,0,5)
37/3:
# Printing column names for both apps
print(ios[0],'\n') 
print(android[0],'\n')
37/4:
# Mostly column 0 to 9 is useful for android apps
# Mostly column 1,2,3,5,6,8
38/1:
from csv import reader

# Opening AppleStore Apps
open_file = open('AppleStore.csv', encoding='utf-8')
read_file = reader(open_file)
ios = list(read_file)
ios_header = ios[0]
ios = ios[1:]

# Opening Google PlayStore Apps
open_file = open('googleplaystore.csv',encoding='utf-8')
read_file = reader(open_file)
android = list(read_file)
android_header = android[0]
android = android[1:]
38/2:
def explore_data(dataset, start, end, rows_and_columns = True):
    dataset_slice = dataset[start:end]
    for row in dataset_slice:
        print(row,'\n') #prints row and adds a linespace after each row
        
    if rows_and_columns:
        print('Number of rows:',len(dataset))
        print('Number of columns:',len(dataset[0]))
        
explore_data(ios,0,5)
explore_data(android,0,5)
38/3:
# Printing column names for both apps
print(ios[0],'\n') 
print(android[0],'\n')
38/4:
# Mostly column 0 to 9 is useful for android apps
# Mostly column 1,2,3,5,6,8
38/5:
# Printing column names for both apps
print(ios_header,'\n') 
print(android_header,'\n')
38/6:
# Printing column names for both apps
print(ios_header,'\n') 
print(android_header,'\n')
38/7:
def explore_data(dataset, start, end, rows_and_columns = True):
    dataset_slice = dataset[start:end]
    for row in dataset_slice:
        print(row,'\n') #prints row and adds a linespace after each row
        
    if rows_and_columns:
        print('Number of rows:',len(dataset))
        print('Number of columns:',len(dataset[0]))
        
explore_data(ios,0,5)
print(ios_header,'\n')
38/8:

explore_data(android,0,5)
print(android_header,'\n')
38/9:
def explore_data(dataset, start, end, rows_and_columns = True):
    dataset_slice = dataset[start:end]
    for row in dataset_slice:
        print(row,'\n') #prints row and adds a linespace after each row
        
    if rows_and_columns:
        print('Number of rows:',len(dataset))
        print('Number of columns:',len(dataset[0]))

print(ios_header,'\n')
explore_data(ios,0,5)
38/10:
print(android_header,'\n')
explore_data(android,0,5)
39/1:
from csv import reader

# Opening AppleStore Apps
open_file = open('AppleStore.csv', encoding='utf-8')
read_file = reader(open_file)
ios = list(read_file)
ios_header = ios[0]
ios = ios[1:]

# Opening Google PlayStore Apps
open_file = open('googleplaystore.csv',encoding='utf-8')
read_file = reader(open_file)
android = list(read_file)
android_header = android[0]
android = android[1:]
39/2:
def explore_data(dataset, start, end, rows_and_columns = True):
    dataset_slice = dataset[start:end]
    for row in dataset_slice:
        print(row,'\n') #prints row and adds a linespace after each row
        
    if rows_and_columns:
        print('Number of rows:',len(dataset))
        print('Number of columns:',len(dataset[0]))

print(ios_header,'\n')
explore_data(ios,0,5)
39/3:
print(android_header,'\n')
explore_data(android,0,5)
39/4: print(android[10472])
39/5: print(android[10472])
39/6:
# Delete this android row with the error and run only ONCE
del android[10472]
print(android[10472])
39/7:
# To check if there are similar errors let us check the length of each row
for app in android:
    if len(app) != len(android_header):
        print(app)
39/8:
# To check if there are similar errors let us check the length of each row
for app in android:
    if len(app) != len(android_header):
        print(app)
        
for App in ios:
    if len(App) != len(ios_header):
        print(App)
40/1:
from csv import reader

# Opening AppleStore Apps
open_file = open('AppleStore.csv', encoding='utf-8')
read_file = reader(open_file)
ios = list(read_file)
ios_header = ios[0]
ios = ios[1:]

# Opening Google PlayStore Apps
open_file = open('googleplaystore.csv',encoding='utf-8')
read_file = reader(open_file)
android = list(read_file)
android_header = android[0]
android = android[1:]
40/2:
def explore_data(dataset, start, end, rows_and_columns = True):
    dataset_slice = dataset[start:end]
    for row in dataset_slice:
        print(row,'\n') #prints row and adds a linespace after each row
        
    if rows_and_columns:
        print('Number of rows:',len(dataset))
        print('Number of columns:',len(dataset[0]))

print(ios_header,'\n')
explore_data(ios,0,5)
40/3:
print(android_header,'\n')
explore_data(android,0,5)
40/4: print(android[10472])
40/5:
# Delete this android row with the error and run only ONCE

# del android[10472]
print(android[10472])
40/6:
# To check if there are similar errors let us check the length of each row
for app in android:
    if len(app) != len(android_header):
        print(app)
        
for App in ios:
    if len(App) != len(ios_header):
        print(App)
        
# No output means the rows are now all equal
41/1:
from csv import reader

# Opening AppleStore Apps
open_file = open('AppleStore.csv', encoding='utf-8')
read_file = reader(open_file)
ios = list(read_file)
ios_header = ios[0]
ios = ios[1:]

# Opening Google PlayStore Apps
open_file = open('googleplaystore.csv',encoding='utf-8')
read_file = reader(open_file)
android = list(read_file)
android_header = android[0]
android = android[1:]
41/2:
def explore_data(dataset, start, end, rows_and_columns = True):
    dataset_slice = dataset[start:end]
    for row in dataset_slice:
        print(row,'\n') #prints row and adds a linespace after each row
        
    if rows_and_columns:
        print('Number of rows:',len(dataset))
        print('Number of columns:',len(dataset[0]))

print(ios_header,'\n')
explore_data(ios,0,5)
41/3:
print(android_header,'\n')
explore_data(android,0,5)
41/4: print(android[10472])
41/5:
# Delete this android row with the error and run only ONCE

del android[10472]
print(android[10472])
41/6:
# To check if there are similar errors let us check the length of each row
for app in android:
    if len(app) != len(android_header):
        print(app)
        
for App in ios:
    if len(App) != len(ios_header):
        print(App)
        
# No output means the rows are now all equal
41/7:
# To check if there are similar errors let us check the length of each row

for app in android:
    if len(app) != len(android_header):
        print(app)
        
for App in ios:
    if len(App) != len(ios_header):
        print(App)
        
# No output means the rows are now all equal
41/8:
# Delete this android row with the error and run only ONCE
print(android_header,'\n')
print(android[10472])
# del android[10472]
print(android[10472])
41/9:
# Delete this android row with the error and run only ONCE
print(android_header,'\n')
print(android[10472],'\n')
# del android[10472]
print(android[10472])
41/10:
# Delete this android row with the error and run only ONCE
print(android_header,'\n')
print(android[10472],'\n')
# del android[10472]
print(android[10472])

print(len(andriod))
41/11:
# Delete this android row with the error and run only ONCE
print(android_header,'\n')
print(android[10472],'\n')
# del android[10472]
print(android[10472])

print(len(android))
41/12:
# Delete this android row with the error and run only ONCE
print(android_header,'\n')
print(android[10472],'\n')
# del android[10472]
print(android[10472],'\n')

print(len(android))
41/13:
# Delete this android row with the error and run only ONCE
print(android_header,'\n')
print(android[10472],'\n')
# del android[10472]
print(android[10472],'\n')

print(len(android)) #the new lenght has been reduced by 1
41/14:
# finding out the number of duplicate apps in ios

for app in android:
    name = app[0]
    if name == 'Instagram':
        print(app)
41/15:
# finding out the number of duplicate apps in android

for app in ios:
    name = app[0]
    if name == 'Instagram':
        print(app)
41/16:
# finding out the number of duplicate apps in android

for app in ios:
    name = app[0]
    if name == 'Instagram':
        print(app)
41/17:
# finding out the number of duplicate apps in android

for app in android:
    name = app[0]
    if name == 'Instagram':
        print(app)
41/18:
# finding out the number of duplicate apps in android

for app in android:
    name = app[0]
    if name == 'Instagram':
        print(app)
41/19:
# Finding the number of duplicate app for android

duplicate_apps = []
unique_apps = []

for app in android:
    name = app[0]
    if name in unique_apps:
        duplicate_apps.append(name)
    else:
        unique_apps.append(name)
        
print('Number of duplicate_apps:', len(duplicate_apps),'\n')
print('Number of unique_apps:', len(unique_apps),'\n')
41/20:
# Finding the number of duplicate app for android

duplicate_apps = []
unique_apps = []

for app in android:
    name = app[0]
    if name in unique_apps:
        duplicate_apps.append(name)
    else:
        unique_apps.append(name)
        
print('Number of duplicate_apps:', len(duplicate_apps),'\n')
print('Number of unique_apps:', len(unique_apps),'\n')
print('Examples of duplicate apps:',duplicate_apps[:5])
41/21:
# Finding the number of duplicate app for android

duplicate_apps = []
unique_apps = []

for app in android:
    name = app[0]
    if name in unique_apps:
        duplicate_apps.append(name)
    else:
        unique_apps.append(name)
        
print('Number of duplicate_apps:', len(duplicate_apps),'\n')
print('Number of unique_apps:', len(unique_apps),'\n')
print('Examples of duplicate apps:',duplicate_apps[:20])
41/22:
app_freq = {}
for app in android:
    name = app[0]
    if name in app_freq:
        app_freq[name] += 1
    else:
        app_freq
        
print(app_freq)
41/23:
app_freq = {}
for app in android:
    name = app[0]
    if name in app_freq:
        app_freq[name] += 1
    else:
        app_freq = 1
        
print(app_freq)
41/24:
app_freq = {}
for app in android:
    name = app[0]
    if name in app_freq:
        app_freq[name] += 1
    else:
        app_freq[name] = 1
        
print(app_freq)
41/25:
app_freq = {}
for app in android:
    name = app[0]
    if name in app_freq:
        app_freq[name] += 1
    else:
        app_freq[name] = 1
        
for app in app_freq:
    if app_freq[app] > 1:
        print(app_freq)
41/26:
app_freq = {}
for app in android:
    name = app[0]
    if name in app_freq:
        app_freq[name] += 1
    else:
        app_freq[name] = 1
        
for app in app_freq:
    if app_freq[app] > 1:
        print(app_freq)
        
print(app_freq)
41/27:
app_freq = {}
for app in android:
    name = app[0]
    if name in app_freq:
        app_freq[name] += 1
    else:
        app_freq[name] = 1
        
# for app in app_freq:
#     if app_freq[app] > 1:
#         print(app_freq)
        
print(app_freq)
41/28:
app_freq = {}
for app in android:
    name = app[0]
    if name in app_freq:
        app_freq[name] += 1
    else:
        app_freq[name] = 1

double_app = {}
for app in app_freq:
    if app_freq[app] > 1:
        print(double_app[app])
        
# for app in app_freq:
#     if app_freq[app] > 1:
#         print(app_freq)
        
# print(app_freq)
41/29:
app_freq = {}
for app in android:
    name = app[0]
    if name in app_freq:
        app_freq[name] += 1
    else:
        app_freq[name] = 1

double_app = {}
for app in app_freq:
    if app_freq[app] > 1:
        double_app[app] += 1
        
# for app in app_freq:
#     if app_freq[app] > 1:
#         print(app_freq)
        
# print(app_freq)
41/30:
app_freq = {}
for app in android:
    name = app[0]
    if name in app_freq:
        app_freq[name] += 1
    else:
        app_freq[name] = 1

double_app = {}
for app in app_freq:
    if app_freq[app] > 1:
        double_app[app] += 1
        
# for app in app_freq:
#     if app_freq[app] > 1:
#         print(app_freq)
        
print(app_freq)
41/31:
app_freq = {}
for app in android:
    name = app[0]
    if name in app_freq:
        app_freq[name] += 1
    else:
        app_freq[name] = 1

# double_app = {}
# for app in app_freq:
#     if app_freq[app] > 1:
#         double_app[app] += 1
        
# for app in app_freq:
#     if app_freq[app] > 1:
#         print(app_freq)
        
print(app_freq)
41/32:
# Showing you that some apps indeed appear more than once
app_freq = {}
for app in android:
    name = app[0]
    if name in app_freq:
        app_freq[name] += 1
    else:
        app_freq[name] = 1
        
print(app_freq)
41/33:
# Showing you that some apps indeed appear more than once

app_freq = {}
for app in android:
    name = app[0]
    if name in app_freq:
        app_freq[name] += 1
    else:
        app_freq[name] = 1
        
# print(app_freq)
41/34: print(len(android)-1181)
41/35: print('Expected length:, len(android)-1181)
41/36: print('Expected length':, len(android)-1181)
41/37: print('Expected length:', len(android)-1181)
41/38: print('Expected length:', len(android)-1181)     #To confirm the observation
41/39:
# Creating the dictionary
reviews_max = {}
for app in android:
    name = app[0]
    n_reviews = float(app[3])
    if name in reviews_max and reviews_max[name] < n_reviews:
        reviews_max[name] += 1
    if name not in reviews_max:
        reviews_max[name] = n_reviews
        
print(reviews_max)
41/40:
# Creating the dictionary
reviews_max = {}
for app in android:
    name = app[0]
    n_reviews = float(app[3])
    if name in reviews_max and reviews_max[name] < n_reviews:
        reviews_max[name] += 1
    if name not in reviews_max:
        reviews_max[name] = n_reviews
        
print(len(reviews_max))
41/41:
# Creating the dictionary
reviews_max = {}
for app in android:
    name = app[0]
    n_reviews = float(app[3])
    if name in reviews_max and reviews_max[name] < n_reviews:
        reviews_max[name] += 1
    if name not in reviews_max:
        reviews_max[name] = n_reviews
    
print(reviews_max)
print(len(reviews_max))
41/42:
# Creating the dictionary
reviews_max = {}
for app in android:
    name = app[0]
    n_reviews = float(app[3])
    if name in reviews_max and reviews_max[name] < n_reviews:
        reviews_max[name] += 1
    if name not in reviews_max:
        reviews_max[name] = n_reviews
    
# print(reviews_max)
print(len(reviews_max))
42/1:
# Creating the dictionary

reviews_max = {}
for app in android:
    name = app[0]
    n_reviews = float(app[3])
    if name in reviews_max and reviews_max[name] < n_reviews:
        reviews_max[name] += 1
    if name not in reviews_max:
        reviews_max[name] = n_reviews
    
# print(reviews_max)
print(len(reviews_max))
42/2:
# Creating the dictionary

reviews_max = {}
for app in android:
    name = app[0]
    n_reviews = float(app[3])
    if name in reviews_max and reviews_max[name] < n_reviews:
        reviews_max[name] += 1
    elif name not in reviews_max:
        reviews_max[name] = n_reviews
    
# print(reviews_max)
print(len(reviews_max))
42/3:
from csv import reader

# Opening AppleStore Apps
open_file = open('AppleStore.csv', encoding='utf-8')
read_file = reader(open_file)
ios = list(read_file)
ios_header = ios[0]
ios = ios[1:]

# Opening Google PlayStore Apps
open_file = open('googleplaystore.csv',encoding='utf-8')
read_file = reader(open_file)
android = list(read_file)
android_header = android[0]
android = android[1:]
42/4:
def explore_data(dataset, start, end, rows_and_columns = True):
    dataset_slice = dataset[start:end]
    for row in dataset_slice:
        print(row,'\n') #prints row and adds a linespace after each row
        
    if rows_and_columns:
        print('Number of rows:',len(dataset))
        print('Number of columns:',len(dataset[0]))

print(ios_header,'\n')
explore_data(ios,0,5)
42/5:
print(android_header,'\n')
explore_data(android,0,5)
42/6:
# Delete this android row with the error and run only ONCE

print(android_header,'\n')
print(android[10472],'\n')
# del android[10472]
print(android[10472],'\n')

print(len(android)) #the new lenght has been reduced by 1
42/7:
# Delete this android row with the error and run only ONCE

print(android_header,'\n')
print(android[10472],'\n')
del android[10472]
print(android[10472],'\n')

print(len(android)) #the new lenght has been reduced by 1
42/8:
# Delete this android row with the error and run only ONCE

print(android_header,'\n')
print(android[10472],'\n')
# del android[10472]
print(android[10472],'\n')

print(len(android)) #the new lenght has been reduced by 1
42/9:
# To check if there are similar errors let us check the length of each row

for app in android:
    if len(app) != len(android_header):
        print(app)
        
for App in ios:
    if len(App) != len(ios_header):
        print(App)
        
# No output means the rows are now all equal
42/10:
# finding out the number of duplicate apps in android

for app in android:
    name = app[0]
    if name == 'Instagram':
        print(app)
42/11:
# Finding the number of duplicate app for android

duplicate_apps = []
unique_apps = []

for app in android:
    name = app[0]
    if name in unique_apps:
        duplicate_apps.append(name)
    else:
        unique_apps.append(name)
        
print('Number of duplicate_apps:', len(duplicate_apps),'\n')
print('Number of unique_apps:', len(unique_apps),'\n')
print('Examples of duplicate apps:',duplicate_apps[:20])
42/12:
# Showing you that some apps indeed appear more than once

app_freq = {}
for app in android:
    name = app[0]
    if name in app_freq:
        app_freq[name] += 1
    else:
        app_freq[name] = 1
        
# print(app_freq)
42/13: print('Expected length:', len(android)-1181)     #To confirm the observation
42/14:
# Creating the dictionary

reviews_max = {}
for app in android:
    name = app[0]
    n_reviews = float(app[3])
    if name in reviews_max and reviews_max[name] < n_reviews:
        reviews_max[name] += 1
    elif name not in reviews_max:
        reviews_max[name] = n_reviews
    
# print(reviews_max)
print(len(reviews_max))
42/15:
# Creating the dictionary

reviews_max = {}
for app in android:
    name = app[0]
    n_reviews = float(app[3])
    if name in reviews_max and reviews_max[name] < n_reviews:
        reviews_max[name] += 1
    elif name not in reviews_max:
        reviews_max[name] = n_reviews
    
print(reviews_max)
print(len(reviews_max))
42/16:
# Creating the dictionary

reviews_max = {}
for app in android:
    name = app[0]
    n_reviews = float(app[3])
    if name in reviews_max and reviews_max[name] < n_reviews:
        reviews_max[name] += 1
    elif name not in reviews_max:
        reviews_max[name] = n_reviews
    
# print(reviews_max)
print(len(reviews_max))
42/17:
# Creating the dictionary

reviews_max = {}
for app in android:
    name = app[0]
    n_reviews = float(app[3])
    if name in reviews_max and reviews_max[name] < n_reviews:
        reviews_max[name] += 1
    elif name not in reviews_max:
        reviews_max[name] = n_reviews
    
print(reviews_max)
print(len(reviews_max))
42/18:
# Creating the dictionary

reviews_max = {}
for app in android:
    name = app[0]
    n_reviews = float(app[3])
    if name in reviews_max and reviews_max[name] < n_reviews:
        reviews_max[name] += 1
    elif name not in reviews_max:
        reviews_max[name] = n_reviews
    
# print(reviews_max)
print(len(reviews_max))
42/19:
# Creating the dictionary

reviews_max = {}
for app in android:
    name = app[0]
    n_reviews = float(app[3])
    if name in reviews_max and reviews_max[name] < n_reviews:
        reviews_max[name] = n_reviews
    elif name not in reviews_max:
        reviews_max[name] = n_reviews
    
# print(reviews_max)
print(len(reviews_max))
42/20:
# Creating the clean data

# android_clean = []
# already_added = []

a = [[s,23],[s,34],[s,20]]
print(a)
42/21:
# Creating the clean data

# android_clean = []
# already_added = []

a = [['s',23],['s',34],['s',20]]
print(a)
42/22:
# Creating the clean data

# android_clean = []
# already_added = []

a = [['s',23],['s',34],['s',20]]
f ={}
for doc in a:
    n = doc[o]
    r = float(doc[1])
    if n in f and f[n] < r:
        f[n] = r
    elif n not in f:
        f[n] = r
42/23:
# Creating the clean data

# android_clean = []
# already_added = []

a = [['s',23],['s',34],['s',20]]
f ={}
for doc in a:
    n = doc[0]
    r = float(doc[1])
    if n in f and f[n] < r:
        f[n] = r
    elif n not in f:
        f[n] = r
42/24:
# Creating the clean data

# android_clean = []
# already_added = []

a = [['s',23],['s',34],['s',20]]
f ={}
for doc in a:
    n = doc[0]
    r = float(doc[1])
    if n in f and f[n] < r:
        f[n] = r
    elif n not in f:
        f[n] = r
42/25:
# Creating the clean data

# android_clean = []
# already_added = []

a = [['s',23],['s',34],['s',20]]
f ={}
for doc in a:
    n = doc[0]
    r = float(doc[1])
    if n in f and f[n] < r:
        f[n] = r
    elif n not in f:
        f[n] = r
print(f)
42/26:
# Creating the clean data

# android_clean = []
# already_added = []

a = [['s',23],['s',34],['s',20]]
f ={}
for doc in a:
    n = doc[0]
    r = float(doc[1])
    if n in f and f[n] < r:
        f[n] = r
    elif n not in f:
        f[n] = r
    print(f)
# print(f)
42/27:
# Creating the clean data

# android_clean = []
# already_added = []

a = [['s',23],['s',34],['s',20],['s',40]]
f ={}
for doc in a:
    n = doc[0]
    r = float(doc[1])
    if n in f and f[n] < r:
        f[n] = r
    elif n not in f:
        f[n] = r
    print(f)
# print(f)
42/28:
# Creating the clean data

# android_clean = []
# already_added = []

a = [['s',23],['s',34],['s',20],['s',40]]
f ={}
for doc in a:
    n = doc[0]
    r = float(doc[1])
    if n in f and f[n] < r:
        print(True)
    elif n not in f:
        print(False)
    print(f)
# print(f)
42/29:
# Creating the clean data

# android_clean = []
# already_added = []

a = [['s',23],['s',34],['s',20],['s',40]]
f ={}
for doc in a:
    n = doc[0]
    r = float(doc[1])
    if n in f and f[n] < r:
        ptint(True)
    elif n not in f:
        f[n] = r
    print(f)
# print(f)
42/30:
# Creating the clean data

# android_clean = []
# already_added = []

a = [['s',23],['s',34],['s',20],['s',40]]
f ={}
for doc in a:
    n = doc[0]
    r = float(doc[1])
    if n in f and f[n] < r:
        print(True)
    elif n not in f:
        f[n] = r
    print(f)
# print(f)
42/31:
# Creating the clean data

# android_clean = []
# already_added = []
42/32:
# Creating the clean data

# android_clean = []
# already_added = []

a = [1,2,3]
if 5 in a:
    print('here')
42/33:
# Creating the clean data

# android_clean = []
# already_added = []

a = [1,2,3]
if 2 in a:
    print('here')
42/34:
# Creating the clean data

# android_clean = []
# already_added = []

a = [1,2,3]
if 5 in a:
    print('here')
42/35:
# Creating the clean data

android_clean = []
already_added = []
for app in android:
    name = app[0]
    n_reviews = float(app[3])
    if n_reviews == review_max[name] and name not in already_added:
        android_clean.append(name)
        already_added.append(name)
        
explore(android_clean,1,5)
explore(android_added,1,5)
42/36:
# Creating the dictionary

reviews_max = {}
for app in android:
    name = app[0]
    n_reviews = float(app[3])
    if name in reviews_max and reviews_max[name] < n_reviews:
        reviews_max[name] = n_reviews
    elif name not in reviews_max:
        reviews_max[name] = n_reviews
    
print(reviews_max[3])
print(len(reviews_max))
42/37:
# Creating the dictionary

reviews_max = {}
for app in android:
    name = app[0]
    n_reviews = float(app[3])
    if name in reviews_max and reviews_max[name] < n_reviews:
        reviews_max[name] = n_reviews
    elif name not in reviews_max:
        reviews_max[name] = n_reviews
    
print(reviews_max)
print(len(reviews_max))
42/38:
# Creating the dictionary

reviews_max = {}
for app in android:
    name = app[0]
    n_reviews = float(app[3])
    if name in reviews_max and reviews_max[name] < n_reviews:
        reviews_max[name] = n_reviews
    elif name not in reviews_max:
        reviews_max[name] = n_reviews
    
print(reviews_max[:3])
print(len(reviews_max))
42/39:
# Creating the dictionary

reviews_max = {}
for app in android:
    name = app[0]
    n_reviews = float(app[3])
    if name in reviews_max and reviews_max[name] < n_reviews:
        reviews_max[name] = n_reviews
    elif name not in reviews_max:
        reviews_max[name] = n_reviews
    
print(reviews_max)
print(len(reviews_max))
42/40:
# Creating the clean data

android_clean = []
already_added = []
for app in android:
    name = app[0]
    n_reviews = float(app[3])
    if n_reviews == reviews_max[name] and name not in already_added:
        android_clean.append(name)
        already_added.append(name)
        
explore(android_clean,1,5)
explore(android_added,1,5)
42/41:
# Creating the clean data

android_clean = []
already_added = []
for app in android:
    name = app[0]
    n_reviews = float(app[3])
    if n_reviews == reviews_max[name] and name not in already_added:
        android_clean.append(name)
        already_added.append(name)
        
explore_data(android_clean,1,5)
explore_data(android_added,1,5)
42/42:
# Creating the clean data

android_clean = []
already_added = []
for app in android:
    name = app[0]
    n_reviews = float(app[3])
    if n_reviews == reviews_max[name] and name not in already_added:
        android_clean.append(name)
        already_added.append(name)
        
explore_data(android_clean,1,5)
explore_data(already_added,1,5)
42/43:
# Creating the clean data

android_clean = []
already_added = []
for app in android:
    name = app[0]
    n_reviews = float(app[3])
    if n_reviews == reviews_max[name] and name not in already_added:
        android_clean.append(name)
        already_added.append(name)
        
explore_data(android_clean,1,5,False)
explore_data(already_added,1,5,False)
42/44:
# Creating the clean data

android_clean = []
already_added = []
for app in android:
    name = app[0]
    n_reviews = float(app[3])
    if n_reviews == reviews_max[name] and name not in already_added:
        android_clean.append(name)
        already_added.append(name)
        
explore_data(android_clean,1,5)
explore_data(already_added,1,5)
42/45:
# Creating the dictionary

reviews_max = {}
for app in android:
    name = app[0]
    n_reviews = float(app[3])
    if name in reviews_max and reviews_max[name] < n_reviews:
        reviews_max[name] = n_reviews
    elif name not in reviews_max:
        reviews_max[name] = n_reviews
    
# print(reviews_max)
print(len(reviews_max))
42/46:
# Creating the clean data

android_clean = []
already_added = []
for app in android:
    name = app[0]
    n_reviews = float(app[3])
    if n_reviews == reviews_max[name] and name not in already_added:
        android_clean.append(app)
        already_added.append(name)
        
explore_data(android_clean,1,5)
explore_data(already_added,1,5)
42/47:
# Creating the clean data

android_clean = []
already_added = []
for app in android:
    name = app[0]
    n_reviews = float(app[3])
    if (n_reviews == reviews_max[name]) and (name not in already_added):
        android_clean.append(app)
        already_added.append(name)
        
explore_data(android_clean,1,5)
explore_data(already_added,1,5)
42/48:
print(ios[813[1]])
print(ios[6731[1]],'\n')
print(android_clean[4412[0]])
print(android_clean[7940[0]])
42/49:
print(ios[813][1])
print(ios[6731][1],'\n')
print(android_clean[4412][0])
print(android_clean[7940][0])
42/50:
from csv import reader

# Opening AppleStore Apps
open_file = open('AppleStore.csv', encoding='utf-8')
read_file = reader(open_file)
ios = list(read_file)
ios_header = ios[0]
ios = ios[1:]

# Opening Google PlayStore Apps
open_file = open('googleplaystore.csv',encoding='utf-8')
read_file = reader(open_file)
android = list(read_file)
android_header = android[0]
android = android[1:]
44/1:
from csv import reader

# Opening AppleStore Apps
open_file = open('AppleStore.csv', encoding='utf-8')
read_file = reader(open_file)
ios = list(read_file)
ios_header = ios[0]
ios = ios[1:]

# Opening Google PlayStore Apps
open_file = open('googleplaystore.csv',encoding='utf-8')
read_file = reader(open_file)
android = list(read_file)
android_header = android[0]
android = android[1:]
44/2:
def explore_data(dataset, start, end, rows_and_columns = True):
    dataset_slice = dataset[start:end]
    for row in dataset_slice:
        print(row,'\n') #prints row and adds a linespace after each row
        
    if rows_and_columns:
        print('Number of rows:',len(dataset))
        print('Number of columns:',len(dataset[0]))

print(ios_header,'\n')
explore_data(ios,0,5)
44/3:
print(android_header,'\n')
explore_data(android,0,5)
44/4:
# Delete this android row with the error and run only ONCE

print(android_header,'\n')
print(android[10472],'\n')
del android[10472]
print(android[10472],'\n')

print(len(android)) #the new lenght has been reduced by 1
44/5:
# To check if there are similar errors let us check the length of each row

for app in android:
    if len(app) != len(android_header):
        print(app)
        
for App in ios:
    if len(App) != len(ios_header):
        print(App)
        
# No output means the rows are now all equal
44/6:
# finding out the number of duplicate apps in android

for app in android:
    name = app[0]
    if name == 'Instagram':
        print(app)
44/7:
# Finding the number of duplicate app for android

duplicate_apps = []
unique_apps = []

for app in android:
    name = app[0]
    if name in unique_apps:
        duplicate_apps.append(name)
    else:
        unique_apps.append(name)
        
print('Number of duplicate_apps:', len(duplicate_apps),'\n')
print('Number of unique_apps:', len(unique_apps),'\n')
print('Examples of duplicate apps:',duplicate_apps[:20])
44/8:
# Showing you that some apps indeed appear more than once

app_freq = {}
for app in android:
    name = app[0]
    if name in app_freq:
        app_freq[name] += 1
    else:
        app_freq[name] = 1
        
# print(app_freq)
44/9: print('Expected length:', len(android)-1181)     #To confirm the observation
44/10:
# Creating the dictionary

reviews_max = {}
for app in android:
    name = app[0]
    n_reviews = float(app[3])
    if name in reviews_max and reviews_max[name] < n_reviews:
        reviews_max[name] = n_reviews
    elif name not in reviews_max:
        reviews_max[name] = n_reviews
    
# print(reviews_max)
print(len(reviews_max))
44/11:
# Creating the clean data

android_clean = []
already_added = []
for app in android:
    name = app[0]
    n_reviews = float(app[3])
    if (n_reviews == reviews_max[name]) and (name not in already_added):
        android_clean.append(app)
        already_added.append(name)
        
explore_data(android_clean,1,5)
explore_data(already_added,1,5)
44/12:
print(ios[813][1])
print(ios[6731][1],'\n')
print(android_clean[4412][0])
print(android_clean[7940][0])
45/1:
from csv import reader

# Opening AppleStore Apps
open_file = open('AppleStore.csv', encoding='utf-8')
read_file = reader(open_file)
ios = list(read_file)
ios_header = ios[0]
ios = ios[1:]

# Opening Google PlayStore Apps
open_file = open('googleplaystore.csv',encoding='utf-8')
read_file = reader(open_file)
android = list(read_file)
android_header = android[0]
android = android[1:]
45/2:
def explore_data(dataset, start, end, rows_and_columns = True):
    dataset_slice = dataset[start:end]
    for row in dataset_slice:
        print(row,'\n') #prints row and adds a linespace after each row
        
    if rows_and_columns:
        print('Number of rows:',len(dataset))
        print('Number of columns:',len(dataset[0]))

print(ios_header,'\n')
explore_data(ios,0,5)
45/3:
print(android_header,'\n')
explore_data(android,0,5)
45/4:
# Delete this android row with the error and run only ONCE

print(android_header,'\n')
print(android[10472],'\n')
# del android[10472]
print(android[10472],'\n')

print(len(android)) #the new lenght has been reduced by 1
45/5:
# To check if there are similar errors let us check the length of each row

for app in android:
    if len(app) != len(android_header):
        print(app)
        
for App in ios:
    if len(App) != len(ios_header):
        print(App)
        
# No output means the rows are now all equal
45/6:
# finding out the number of duplicate apps in android

for app in android:
    name = app[0]
    if name == 'Instagram':
        print(app)
45/7:
# Finding the number of duplicate app for android

duplicate_apps = []
unique_apps = []

for app in android:
    name = app[0]
    if name in unique_apps:
        duplicate_apps.append(name)
    else:
        unique_apps.append(name)
        
print('Number of duplicate_apps:', len(duplicate_apps),'\n')
print('Number of unique_apps:', len(unique_apps),'\n')
print('Examples of duplicate apps:',duplicate_apps[:20])
45/8:
# Showing you that some apps indeed appear more than once

app_freq = {}
for app in android:
    name = app[0]
    if name in app_freq:
        app_freq[name] += 1
    else:
        app_freq[name] = 1
        
# print(app_freq)
45/9: print('Expected length:', len(android)-1181)     #To confirm the observation
45/10:
# Creating the dictionary

reviews_max = {}
for app in android:
    name = app[0]
    n_reviews = float(app[3])
    if name in reviews_max and reviews_max[name] < n_reviews:
        reviews_max[name] = n_reviews
    elif name not in reviews_max:
        reviews_max[name] = n_reviews
    
# print(reviews_max)
print(len(reviews_max))
46/1:
from csv import reader

# Opening AppleStore Apps
open_file = open('AppleStore.csv', encoding='utf-8')
read_file = reader(open_file)
ios = list(read_file)
ios_header = ios[0]
ios = ios[1:]

# Opening Google PlayStore Apps
open_file = open('googleplaystore.csv',encoding='utf-8')
read_file = reader(open_file)
android = list(read_file)
android_header = android[0]
android = android[1:]
46/2:
def explore_data(dataset, start, end, rows_and_columns = True):
    dataset_slice = dataset[start:end]
    for row in dataset_slice:
        print(row,'\n') #prints row and adds a linespace after each row
        
    if rows_and_columns:
        print('Number of rows:',len(dataset))
        print('Number of columns:',len(dataset[0]))

print(ios_header,'\n')
explore_data(ios,0,5)
46/3:
print(android_header,'\n')
explore_data(android,0,5)
46/4:
# Delete this android row with the error and run only ONCE

print(android_header,'\n')
print(android[10472],'\n')
del android[10472]
print(android[10472],'\n')

print(len(android)) #the new lenght has been reduced by 1
46/5:
# To check if there are similar errors let us check the length of each row

for app in android:
    if len(app) != len(android_header):
        print(app)
        
for App in ios:
    if len(App) != len(ios_header):
        print(App)
        
# No output means the rows are now all equal
46/6:
# finding out the number of duplicate apps in android

for app in android:
    name = app[0]
    if name == 'Instagram':
        print(app)
46/7:
# Finding the number of duplicate app for android

duplicate_apps = []
unique_apps = []

for app in android:
    name = app[0]
    if name in unique_apps:
        duplicate_apps.append(name)
    else:
        unique_apps.append(name)
        
print('Number of duplicate_apps:', len(duplicate_apps),'\n')
print('Number of unique_apps:', len(unique_apps),'\n')
print('Examples of duplicate apps:',duplicate_apps[:20])
46/8:
# Showing you that some apps indeed appear more than once

app_freq = {}
for app in android:
    name = app[0]
    if name in app_freq:
        app_freq[name] += 1
    else:
        app_freq[name] = 1
        
# print(app_freq)
46/9: print('Expected length:', len(android)-1181)     #To confirm the observation
46/10:
# Creating the dictionary

reviews_max = {}
for app in android:
    name = app[0]
    n_reviews = float(app[3])
    if name in reviews_max and reviews_max[name] < n_reviews:
        reviews_max[name] = n_reviews
    elif name not in reviews_max:
        reviews_max[name] = n_reviews
    
# print(reviews_max)
print(len(reviews_max))
46/11:
# Creating the clean data

android_clean = []
already_added = []
for app in android:
    name = app[0]
    n_reviews = float(app[3])
    if (n_reviews == reviews_max[name]) and (name not in already_added):
        android_clean.append(app)
        already_added.append(name)
        
explore_data(android_clean,1,5)
explore_data(already_added,1,5)
46/12:
print(ios[813][1])
print(ios[6731][1],'\n')
print(android_clean[4412][0])
print(android_clean[7940][0])
46/13:
# Writing a function that takes in a string and returns True or False

def english(string):
    for character in string:
        if (0 < ord(character) <= 127):
            print(True)
    return print(False)
            
english('name')
46/14:
# Writing a function that takes in a string and returns True or False

def english(string):
    for character in string:
        if (0 < ord(character) <= 127):
            print(True)
    return
            
english('name')
46/15:
# Writing a function that takes in a string and returns True or False

def english(string):
    for character in string:
        if (0 < ord(character) <= 127):
            print(True)
    return
            
english('中国語 AQ')
46/16:
# Writing a function that takes in a string and returns True or False

def english(string):
    for character in string:
        if (0 < ord(character) <= 127):
            print(True)
    return
            
english('中国語')
46/17:
# Writing a function that takes in a string and returns True or False

def english(string):
    for character in string:
        if (ord(character) > 127):
            print(False)
    return
            
english('中国語')
46/18:
# Writing a function that takes in a string and returns True or False

def english(string):
    for character in string:
        if (ord(character) > 127):
            False
    return
            
english('中国語')
46/19:
# Writing a function that takes in a string and returns True or False

def english(string):
    for character in string:
        if (ord(character) > 127):
            False
    return
            
english('中国語')
46/20:
# Writing a function that takes in a string and returns True or False

def english(string):
    for character in string:
        if (ord(character) > 127):
        return False
            
english('中国語')
46/21:
# Writing a function that takes in a string and returns True or False

def english(string):
    for character in string:
        if (ord(character) > 127):
    return False
            
english('中国語')
46/22:
# Writing a function that takes in a string and returns True or False

def english(string):
    for character in string:
        if (ord(character) > 127):
            print(False)
    return
            
english('中国語')
46/23:
# Writing a function that takes in a string and returns True or False

def english():
    for character in string:
        if (ord(character) > 127):
            print(False)
    return
            
english('中国語')
46/24:
# Writing a function that takes in a string and returns True or False

def english(string):
    for character in string:
        if (ord(character) > 127):
            print(False)
    return
            
english('中国語')
46/25:
# Writing a function that takes in a string and returns True or False

def english(string):
    for character in string:
        if (ord(character) > 127):
            print(False)
    return
            
english('name')
46/26:
# Writing a function that takes in a string and returns True or False

def english_check(name):
    for character in name:
        if (ord(character) > 127):
            print(False)
    return
            
english_check('Instagram')
english_check('爱奇艺PPS -《欢乐颂2》电视剧热播')
english_check('Docs To Go™ Free Office Suite')
english_check('Instachat 😜')
46/27:
# Writing a function that takes in a string and returns True or False

def english_check(name):
    for character in name:
        if (ord(character) > 127):
            return False
    return True
            
english_check('Instagram')
english_check('爱奇艺PPS -《欢乐颂2》电视剧热播')
english_check('Docs To Go™ Free Office Suite')
english_check('Instachat 😜')
46/28:
# Writing a function that takes in a string and returns True or False

def english_check(name):
    for character in name:
        if (ord(character) > 127):
            return False
    return True
            
english_check('Instagram')
english_check('爱奇艺PPS -《欢乐颂2》电视剧热播')
english_check('Docs To Go™ Free Office Suite')
english_check('Instachat 😜')
46/29:
# Writing a function that takes in a string and returns True or False

def english_check(name):
    for character in name:
        if ord(character) > 127:
            return False
        
    return True
            
english_check('Instagram')
english_check('爱奇艺PPS -《欢乐颂2》电视剧热播')
english_check('Docs To Go™ Free Office Suite')
english_check('Instachat 😜')
46/30:
# Writing a function that takes in a string and returns True or False

def english_check(name):
    for character in name:
        if ord(character) > 127:
            return False
        
    return True
            
english_check('Instagram')
english_check('爱奇艺PPS -《欢乐颂2》电视剧热播')
# english_check('Docs To Go™ Free Office Suite')
# english_check('Instachat 😜')
46/31:
# Writing a function that takes in a string and returns True or False

def english_check(name):
    for character in name:
        if ord(character) > 127:
            return False
        
    return True
            
print(english_check('Instagram'))
print(english_check('爱奇艺PPS -《欢乐颂2》电视剧热播'))
# english_check('Docs To Go™ Free Office Suite')
# english_check('Instachat 😜')
46/32:
# Writing a function that takes in a string and returns True or False

def english_check(name):
    for character in name:
        if ord(character) > 127:
            return False
        
    return True
            
print(english_check('Instagram'))
print(english_check('爱奇艺PPS -《欢乐颂2》电视剧热播'))
print(english_check('Docs To Go™ Free Office Suite'))
print(english_check('Instachat 😜'))
46/33:
# Writing a function that takes in a string and returns True or False

def english_check(name):
    for character in name:
        if ord(character) > 127:
            return False
        
    return True
            
print(english_check('Instagram'))
print(english_check('爱奇艺PPS -《欢乐颂2》电视剧热播'))
print(english_check('Docs To Go™ Free Office Suite'))
print(english_check('Instachat 😜'))
46/34:
# Updated function for english app

def english_name(name):
    for character in name:
        if (ord(character) > 127) and (len(name) > 3):
            return False
    return True

print(english_name('Instagram'))
print(english_name('爱奇艺PPS -《欢乐颂2》电视剧热播'))
print(english_name('Docs To Go™ Free Office Suite'))
print(english_name('Instachat 😜'))
46/35:
# Updated function for english app

def english_name(name):
    for character in name:
        if (ord(character) > 127) and (len(name) > 3):
            return False
    return True

# print(english_name('Instagram'))
# print(english_name('爱奇艺PPS -《欢乐颂2》电视剧热播'))
# print(english_name('Docs To Go™ Free Office Suite'))
# print(english_name('Instachat 😜'))

print(ord('food'))
46/36:
# Updated function for english app

def english_name(name):
    for character in name:
        if (ord(character) > 127) and (len(name) > 3):
            return False
    return True

# print(english_name('Instagram'))
# print(english_name('爱奇艺PPS -《欢乐颂2》电视剧热播'))
# print(english_name('Docs To Go™ Free Office Suite'))
# print(english_name('Instachat 😜'))

print(ord('a'))
46/37:
# Updated function for english app

def english_name(name):
    for character in name:
        if (ord(character) > 127) and (len(name) > 3):
            return False
    return True

# print(english_name('Instagram'))
# print(english_name('爱奇艺PPS -《欢乐颂2》电视剧热播'))
# print(english_name('Docs To Go™ Free Office Suite'))
# print(english_name('Instachat 😜'))

print(chr('a'))
46/38:
# Updated function for english app

def english_name(name):
    for character in name:
        if (ord(character) > 127) and (len(name) > 3):
            return False
    return True

# print(english_name('Instagram'))
# print(english_name('爱奇艺PPS -《欢乐颂2》电视剧热播'))
# print(english_name('Docs To Go™ Free Office Suite'))
# print(english_name('Instachat 😜'))

print(chr(67))
46/39:
# Updated function for english app

def english_name(name):
    for character in name:
        if (ord(character) > 127) and (len(name) > 3):
            return False
    return True

# print(english_name('Instagram'))
# print(english_name('爱奇艺PPS -《欢乐颂2》电视剧热播'))
# print(english_name('Docs To Go™ Free Office Suite'))
# print(english_name('Instachat 😜'))

print(chr(89))
46/40:
# Updated function for english app

def english_name(name):
    for character in name:
        if (ord(character) > 127) and (len(name) > 3):
            return False
    return True

# print(english_name('Instagram'))
# print(english_name('爱奇艺PPS -《欢乐颂2》电视剧热播'))
# print(english_name('Docs To Go™ Free Office Suite'))
# print(english_name('Instachat 😜'))

print(ord('a'))
46/41:
# Updated function for english app

def english_name(name):
    non_ascii = 0
    for character in name:
        if ord(character) > 127:
            non_ascii += 1
        
        if non_ascii > 3:
            return False
    return True

print(english_name('Instagram'))
print(english_name('爱奇艺PPS -《欢乐颂2》电视剧热播'))
print(english_name('Docs To Go™ Free Office Suite'))
print(english_name('Instachat 😜'))
46/42:
# Updated function for english app

def english_name(name):
    non_ascii = 0
    for character in name:
        if ord(character) > 127:
            non_ascii += 1
        
        if non_ascii > 3:
            return False
    return True

print(english_name('Instagram'))
print(english_name('爱奇艺PPS -《欢乐颂2》电视剧热播'))
print(english_name('Docs To Go™ Free Office Suite'))
print(english_name('Instachat 😜'))
46/43:
# Updated function for english app

def english_name(name):
    non_ascii = 0
    for character in name:
        if ord(character) > 127:
            non_ascii += 1
        
        if non_ascii > 3:
            return False
    return True

print(english_name('Docs To Go™ Free Office Suite'))
print(english_name('Instachat 😜'))
46/44:
# Updated function for english app

def english_name(string):
    non_ascii = 0
    for character in string:
        if ord(character) > 127:
            non_ascii += 1
        
        if non_ascii > 3:
            return False
    return True

print(english_name('Docs To Go™ Free Office Suite'))
print(english_name('Instachat 😜'))
46/45:
# Filtering out non_english apps

ios_english = []
android_english = []

for app in ios:
    name = app[2]
    if english_name(name) == True:
        ios_english.append(app)
        
for app in android_clean:
    name = app[0]
    if english_name(name) == True:
        android_english.append(app)
        
print(len(ios_english))
print(len(android_english))
46/46:
# Filtering out non_english apps

ios_english = []
android_english = []

for app in ios:
    name = app[2]
    if english_name(name) == True:
        ios_english.append(app)
        
for app in android_clean:
    name = app[0]
    if english_name(name) == True:
        android_english.append(app)
        
# print(len(ios_english))
# print(len(android_english))
explore_data(ios_english,1,5)
explore_data(android_english,1,5)
46/47:
# Filtering out non_english apps

ios_english = []
android_english = []

for app in ios:
    name = app[2]
    if english_name(name) == True:
        ios_english.append(app)
        
for app in android_clean:
    name = app[0]
    if english_name(name) == True:
        android_english.append(app)
        
# print(len(ios_english))
# print(len(android_english))
explore_data(ios_english,1,2)
explore_data(android_english,1,2)
46/48:
# Filtering out non_english apps

ios_english = []
android_english = []

for app in ios:
    name = app[2]
    if english_name(name) == True:
        ios_english.append(app)
        
for app in android_clean:
    name = app[0]
    if english_name(name) == True:
        android_english.append(app)
        
# print(len(ios_english))
# print(len(android_english))
explore_data(ios_english,1,3)
explore_data(android_english,1,3)
46/49:
# Creating a new data set consisting of free apps only

ios_free = []
android_free = []

for app in ios_english:
    price = float(app[5])
    if price == 0:
        ios_free.append(app)

for app in android_english:
    price = float(app[7])
    if price == 0:
        android_free.append[app]
        
explore_data(ios_free,1,3)
explore_data(android_free,1,3)
46/50:
# Creating a new data set consisting of free apps only

ios_free = []
android_free = []

for app in ios_english:
    price = float(app[5])
    if price == 0:
        ios_free.append(app)

for app in android_english:
    price = float(app[7])
    if price == 0:
        android_free.append[app]
        
explore_data(ios_free,1,3)
# explore_data(android_free,1,3)
46/51:
# Creating a new data set consisting of free apps only

ios_free = []
android_free = []

for app in ios_english:
    price = float(app[5])
    if price == 0:
        ios_free.append(app)

# for app in android_english:
#     price = float(app[7])
#     if price == 0:
#         android_free.append[app]
        
explore_data(ios_free,1,3)
# explore_data(android_free,1,3)
46/52:
# Creating a new data set consisting of free apps only

ios_free = []
android_free = []

for app in ios_english:
    price = float(app[5])
    if price == 0:
        ios_free.append(app)

for app in android_english:
    price = float(app[7])
    if price == 0:
        android_free.append[app]
        
explore_data(ios_free,1,3)
explore_data(android_free,1,3)
46/53:
# Creating a new data set consisting of free apps only

ios_free = []
android_free = []

for app in ios_english:
    price = float(app[5])
    if price == 0:
        ios_free.append(app)

for app in android_english:
    price = app[6]
    if price == 'Free':
        android_free.append[app]
        
explore_data(ios_free,1,3)
explore_data(android_free,1,3)
46/54:
# Creating a new data set consisting of free apps only

ios_free = []
android_free = []

for app in ios_english:
    price = float(app[5])
    if price == 0:
        ios_free.append(app)

for app in android_english:
    price = )(app[7])
    if price == 0:
        android_free.append(app])
        
explore_data(ios_free,1,3)
explore_data(android_free,1,3)
46/55:
# Creating a new data set consisting of free apps only

ios_free = []
android_free = []

for app in ios_english:
    price = float(app[5])
    if price == 0:
        ios_free.append(app)

for app in android_english:
    price = float(app[7])
    if price == 0:
        android_free.append(app])
        
explore_data(ios_free,1,3)
explore_data(android_free,1,3)
46/56:
# Creating a new data set consisting of free apps only

ios_free = []
android_free = []

for app in ios_english:
    price = float(app[5])
    if price == 0:
        ios_free.append(app)

for app in android_english:
    price = float(app[7])
    if price == 0:
        android_free.append(app)
        
explore_data(ios_free,1,3)
explore_data(android_free,1,3)
46/57:
# Creating a new data set consisting of free apps only

ios_free = []
android_free = []

for app in ios_english:
    price = float(app[5])
    if price == 0:
        ios_free.append(app)

for app in android_english:
    price = app[7]
    if price == 'Free':
        android_free.append(app)
        
explore_data(ios_free,1,3)
explore_data(android_free,1,3)
46/58:
# Creating a new data set consisting of free apps only

ios_free = []
android_free = []

for app in ios_english:
    price = float(app[5])
    if price == 0:
        ios_free.append(app)

for app in android_english:
    price = app[6]
    if price == 'Free':
        android_free.append(app)
        
explore_data(ios_free,1,3)
explore_data(android_free,1,3)
46/59:
# Creating a new data set consisting of free apps only

ios_free = []
android_free = []

for app in ios_english:
    price = app[5]
    if price == '0':
        ios_free.append(app)

for app in android_english:
    price = app[6]
    if price == 'Free':
        android_free.append(app)
        
explore_data(ios_free,1,3)
explore_data(android_free,1,3)
46/60:
# Filtering out non_english apps

ios_english = []
android_english = []

for app in ios:
    name = app[2]
    if english_name(name) == True:
        ios_english.append(app)
        
for app in android_clean:
    name = app[0]
    if english_name(name) == True:
        android_english.append(app)
        
# print(len(ios_english))
# print(len(android_english))
explore_data(ios_english,0,3)
explore_data(android_english,0,3)
46/61:
# Creating a new data set consisting of free apps only

ios_free = []
android_free = []

for app in ios_english:
    price = app[5]
    if price == '0':
        ios_free.append(app)

for app in android_english:
    price = app[6]
    if price == 'Free':
        android_free.append(app)
        
explore_data(ios_free,0,3)
explore_data(android_free,0,3)
46/62:
explore_data(ios_free,0,50)
explore_data(android_free,0,50)
47/1:
from csv import reader

# Opening AppleStore Apps
open_file = open('AppleStore.csv', encoding='utf-8')
read_file = reader(open_file)
ios = list(read_file)
ios_header = ios[0]
ios = ios[1:]

# Opening Google PlayStore Apps
open_file = open('googleplaystore.csv',encoding='utf-8')
read_file = reader(open_file)
android = list(read_file)
android_header = android[0]
android = android[1:]
47/2:
def explore_data(dataset, start, end, rows_and_columns = True):
    dataset_slice = dataset[start:end]
    for row in dataset_slice:
        print(row,'\n') #prints row and adds a linespace after each row
        
    if rows_and_columns:
        print('Number of rows:',len(dataset))
        print('Number of columns:',len(dataset[0]))

print(ios_header,'\n')
explore_data(ios,0,5)
47/3:
def explore_data(dataset, start, end, rows_and_columns = True):
    dataset_slice = dataset[start:end]
    for row in dataset_slice:
        print(row) #prints row and adds a linespace after each row
        
    if rows_and_columns:
        print('Number of rows:',len(dataset))
        print('Number of columns:',len(dataset[0]))

print(ios_header,'\n')
explore_data(ios,0,5)
47/4:
def explore_data(dataset, start, end, rows_and_columns = True):
    dataset_slice = dataset[start:end]
    for row in dataset_slice:
        print(row,'\n') #prints row and adds a linespace after each row
        
    if rows_and_columns:
        print('Number of rows:',len(dataset))
        print('Number of columns:',len(dataset[0]))

print(ios_header,'\n')
explore_data(ios,0,5)
48/1:
from csv import reader

# Opening AppleStore Apps
open_file = open('AppleStore.csv', encoding='utf-8')
read_file = reader(open_file)
ios = list(read_file)
ios_header = ios[0]
ios = ios[1:]

# Opening Google PlayStore Apps
open_file = open('googleplaystore.csv',encoding='utf-8')
read_file = reader(open_file)
android = list(read_file)
android_header = android[0]
android = android[1:]
48/2:
def explore_data(dataset, start, end, rows_and_columns = True):
    dataset_slice = dataset[start:end]
    for row in dataset_slice:
        print(row,'\n') #prints row and adds a linespace after each row
        
    if rows_and_columns:
        print('Number of rows:',len(dataset))
        print('Number of columns:',len(dataset[0]))

print(ios_header,'\n')
explore_data(ios,0,5)
48/3:
print(android_header,'\n')
explore_data(android,0,5)
48/4:
# Delete this android row with the error and run only ONCE

print(android_header,'\n')
print(android[10472],'\n')
del android[10472]
print(android[10472],'\n')

print(len(android)) #the new lenght has been reduced by 1
48/5:
# To check if there are similar errors let us check the length of each row

for app in android:
    if len(app) != len(android_header):
        print(app)
        
for App in ios:
    if len(App) != len(ios_header):
        print(App)
        
# No output means the rows are now all equal
48/6:
# finding out the number of duplicate apps in android

for app in android:
    name = app[0]
    if name == 'Instagram':
        print(app)
48/7:
# Finding the number of duplicate app for android

duplicate_apps = []
unique_apps = []

for app in android:
    name = app[0]
    if name in unique_apps:
        duplicate_apps.append(name)
    else:
        unique_apps.append(name)
        
print('Number of duplicate_apps:', len(duplicate_apps),'\n')
print('Number of unique_apps:', len(unique_apps),'\n')
print('Examples of duplicate apps:',duplicate_apps[:20])
48/8:
# Showing you that some apps indeed appear more than once

app_freq = {}
for app in android:
    name = app[0]
    if name in app_freq:
        app_freq[name] += 1
    else:
        app_freq[name] = 1
        
# print(app_freq)
48/9: print('Expected length:', len(android)-1181)     #To confirm the observation
48/10:
# Creating the dictionary

reviews_max = {}
for app in android:
    name = app[0]
    n_reviews = float(app[3])
    if name in reviews_max and reviews_max[name] < n_reviews:
        reviews_max[name] = n_reviews
    elif name not in reviews_max:
        reviews_max[name] = n_reviews
    
# print(reviews_max)
print(len(reviews_max))
48/11:
# Creating the clean data

android_clean = []
already_added = []
for app in android:
    name = app[0]
    n_reviews = float(app[3])
    if (n_reviews == reviews_max[name]) and (name not in already_added):
        android_clean.append(app)
        already_added.append(name)
        
explore_data(android_clean,1,5)
explore_data(already_added,1,5)
48/12:
print(ios[813][1])
print(ios[6731][1],'\n')
print(android_clean[4412][0])
print(android_clean[7940][0])
48/13:
# Writing a function that takes in a string and returns True or False

def english_check(name):
    for character in name:
        if ord(character) > 127:
            return False
        
    return True
            
print(english_check('Instagram'))
print(english_check('爱奇艺PPS -《欢乐颂2》电视剧热播'))
print(english_check('Docs To Go™ Free Office Suite'))
print(english_check('Instachat 😜'))
48/14:
# Updated function for english app

def english_name(string):
    non_ascii = 0
    for character in string:
        if ord(character) > 127:
            non_ascii += 1
        
        if non_ascii > 3:
            return False
    return True

print(english_name('Docs To Go™ Free Office Suite'))
print(english_name('Instachat 😜'))
48/15:
# Filtering out non_english apps

ios_english = []
android_english = []

for app in ios:
    name = app[2]
    if english_name(name) == True:
        ios_english.append(app)
        
for app in android_clean:
    name = app[0]
    if english_name(name) == True:
        android_english.append(app)
        
# print(len(ios_english))
# print(len(android_english))
explore_data(ios_english,0,3)
explore_data(android_english,0,3)
48/16:
# Creating a new data set consisting of free apps only

ios_free = []
android_free = []

for app in ios_english:
    price = app[5]
    if price == '0':
        ios_free.append(app)

for app in android_english:
    price = app[6]
    if price == 'Free':
        android_free.append(app)
        
explore_data(ios_free,0,3)
explore_data(android_free,0,3)
48/17:
print(ios_header)
print(android_header)
48/18:
print(ios_header,'\n')
print(android_header)
48/19:
table = {'a':5,'b':10,'c':30}
change = list(table)
print(change)
48/20:
table = {'a':5,'b':10,'c':30}
change = tuple(table)
print(change)
48/21:
table = {('a':5),('b':10),('c':30)}
change = tuple(table)
print(change)
48/22:
table = {('a',5),('b',10),('c',30)}
change = list(table)
print(change)
48/23:
table = {('a',5),('b',10),('c',2)}
change = list(table)
print(change)
48/24:
table = {('a',5),('b',10),('c',2)}
change = list(table)
print(sorted(change))
48/25:
table = {('a',5),('b',10),('c',2)}
change = list(table)
print(sorted(change, reverse = True))
48/26:
table = {(5,'a'),(10,'b'),(2,'c')}
change = list(table)
print(sorted(change, reverse = True))
48/27:
table = {(5,'a'),(10,'b'),(2,'c')}
change = list(table)
print(sorted(change, reverse = False))
48/28:
def freq_table(dataset, index):
    frequency = {}
    total = 0
    for app in dataset:
        total += 1
        value = app[index]
        if value in frequency:
            frequency[value] += 1
        else:
            frequency[value] = 1
    
    freq_percentage = {}
    for i in frequency:
        percentage = (frequency[i] * 100) / total
        freq_percentage[i] = percentage
    
    print(frequency,'\n')
        

def display_table(dataset, index):
    table = freq_table(dataset, index)
    table_display = []
    for key in table:
        key_val_as_tuple = (table[key], key)
        table_display.append(key_va_as_tuple)
        
    table_sorted = sorted(table_display, revers = True)
    for entry in table_sorted:
        print(entry[1], ':', entry[0])
48/29:
def freq_table(dataset, index):
    frequency = {}
    total = 0
    for app in dataset:
        total += 1
        value = app[index]
        if value in frequency:
            frequency[value] += 1
        else:
            frequency[value] = 1
    
    freq_percentage = {}
    for i in frequency:
        percentage = (frequency[i] * 100) / total
        freq_percentage[i] = percentage
        

def display_table(dataset, index):
    table = freq_table(dataset, index)
    table_display = []
    for key in table:
        key_val_as_tuple = (table[key], key)
        table_display.append(key_va_as_tuple)
        
    table_sorted = sorted(table_display, revers = True)
    for entry in table_sorted:
        print(entry[1], ':', entry[0],'\n')
48/30: display_table(ios_free,12)
48/31: freq_table(ios_free,12)
48/32: print(freq_table(ios_free,12))
48/33:
def freq_table(dataset, index):
    frequency = {}
    total = 0
    for app in dataset:
        total += 1
        value = app[index]
        if value in frequency:
            frequency[value] += 1
        else:
            frequency[value] = 1
    
    freq_percentage = {}
    for genre in frequency:
        percentage = (frequency[genre] * 100) / total
        freq_percentage[genre] = percentage
        

def display_table(dataset, index):
    table = freq_table(dataset, index)
    table_display = []
    for key in table:
        key_val_as_tuple = (table[key], key)
        table_display.append(key_va_as_tuple)
        
    table_sorted = sorted(table_display, revers = True)
    for entry in table_sorted:
        print(entry[1], ':', entry[0],'\n')
48/34: print(freq_table(ios_free,12))
48/35:
def freq_table(dataset, index):
    frequency = {}
    total = 0
    for app in dataset:
        total += 1
        value = app[index]
        if value in frequency:
            frequency[value] += 1
        else:
            frequency[value] = 1
    
    freq_percentage = {}
    for genre in frequency:
        percentage = (frequency[genre] * 100) / total
        freq_percentage[genre] = percentage
    
    return freq_percentage
        

def display_table(dataset, index):
    table = freq_table(dataset, index)
    table_display = []
    for key in table:
        key_val_as_tuple = (table[key], key)
        table_display.append(key_va_as_tuple)
        
    table_sorted = sorted(table_display, revers = True)
    for entry in table_sorted:
        print(entry[1], ':', entry[0],'\n')
48/36: print(freq_table(ios_free,12))
48/37: display_table(ios_free,12)
48/38:
def freq_table(dataset, index):
    frequency = {}
    total = 0
    for app in dataset:
        total += 1
        value = app[index]
        if value in frequency:
            frequency[value] += 1
        else:
            frequency[value] = 1
    
    freq_percentage = {}
    for genre in frequency:
        percentage = (frequency[genre] * 100) / total
        freq_percentage[genre] = percentage
    
    return freq_percentage
        

def display_table(dataset, index):
    table = freq_table(dataset, index)
    table_display = []
    for key in table:
        key_val_as_tuple = (table[key], key)
        table_display.append(key_val_as_tuple)
        
    table_sorted = sorted(table_display, revers = True)
    for entry in table_sorted:
        print(entry[1], ':', entry[0],'\n')
48/39: display_table(ios_free,12)
48/40:
def freq_table(dataset, index):
    frequency = {}
    total = 0
    for app in dataset:
        total += 1
        value = app[index]
        if value in frequency:
            frequency[value] += 1
        else:
            frequency[value] = 1
    
    freq_percentage = {}
    for genre in frequency:
        percentage = (frequency[genre] * 100) / total
        freq_percentage[genre] = percentage
    
    return freq_percentage
        

def display_table(dataset, index):
    table = freq_table(dataset, index)
    table_display = []
    for key in table:
        key_val_as_tuple = (table[key], key)
        table_display.append(key_val_as_tuple)
        
    table_sorted = sorted(table_display, reverse = True)
    for entry in table_sorted:
        print(entry[1], ':', entry[0],'\n')
48/41: display_table(ios_free,12)
48/42:
def freq_table(dataset, index):
    frequency = {}
    total = 0
    for app in dataset:
        total += 1
        value = app[index]
        if value in frequency:
            frequency[value] += 1
        else:
            frequency[value] = 1
    
    freq_percentage = {}
    for genre in frequency:
        percentage = (frequency[genre] * 100) / total
        freq_percentage[genre] = percentage
    
    return freq_percentage
        

def display_table(dataset, index):
    table = freq_table(dataset, index)
    table_display = []
    for key in table:
        key_val_as_tuple = (table[key], key)
        table_display.append(key_val_as_tuple)
        
    table_sorted = sorted(table_display, reverse = True)
    for entry in table_sorted:
        print(entry[1], ':', entry[0])
48/43: display_table(ios_free,12)
48/44: display_table(ios_free,12) #
48/45: display_table(android_free,1)
48/46: display_table(android_free,9)
48/47: display_table(android_free,9) #Frequency table for Genre
48/48: display_table(android_free,1) #Frequency table for Category
48/49: display_table(ios_free,12) #Frequency table for Prime Genre
48/50: display_table(android_free,9) #Frequency table for Genre
48/51: display_table(android_free,1) #Frequency table for Category
48/52: display_table(android_free,9) #Frequency table for Genre
48/53: display_table(android_free,1) #Frequency table for Category
48/54: print(freq_table(ios_free,12))
48/55: freq_table(ios_free,-5)
48/56: freq_table(ios_free,-5)
48/57: freq_table(ios_free,12)
48/58: freq_table(ios_free,-5)
48/59: print(freq_table(ios_free,-5))
48/60:
genre_freq = freq_table(ios_free,12)

# for app in dataset:
#     total += 1
#     value = app[index]
#     if value in frequency:
#         frequency[value] += 1
#     else:
#         frequency[value] = 1

# freq_percentage = {}
# for genre in frequency:
#     percentage = (frequency[genre] * 100) / total
#     freq_percentage[genre] = percentage

# return freq_percentage
48/61:
genre_freq = freq_table(ios_free,12)
print(genre_freq)
# for app in dataset:
#     total += 1
#     value = app[index]
#     if value in frequency:
#         frequency[value] += 1
#     else:
#         frequency[value] = 1

# freq_percentage = {}
# for genre in frequency:
#     percentage = (frequency[genre] * 100) / total
#     freq_percentage[genre] = percentage

# return freq_percentage
48/62:
genre_freq = freq_table(ios_free,12)

for app in dataset:
    total += 1
    value = app[index]
    if value in frequency:
        frequency[value] += 1
    else:
        frequency[value] = 1

freq_percentage = {}
for genre in frequency:
    percentage = (frequency[genre] * 100) / total
    freq_percentage[genre] = percentage

return freq_percentage
48/63:
genre_freq = freq_table(ios_free,12)

for genre in genre_freq:
    total = 0
    len_genre = 0
    for app in ios_free:
        genre_app = app[-5]
        if genre_app == genre:
            rating = float(app[6])
            total += rating
            len_genre += 1
    
    ratings_avg = total / len_genre
        print(genre_app, ':', rating)

# return freq_percentage
48/64:
genre_freq = freq_table(ios_free,12)

for genre in genre_freq:
    total = 0
    len_genre = 0
    for app in ios_free:
        genre_app = app[-5]
        if genre_app == genre:
            rating = float(app[6])
            total += rating
            len_genre += 1
    
    ratings_avg = total / len_genre
    print(genre_app, ':', rating)

# return freq_percentage
48/65:
genre_freq = freq_table(ios_free,12)

for genre in genre_freq:
    total = 0
    len_genre = 0
    for app in ios_free:
        genre_app = app[-5]
        if genre_app == genre:
            rating = float(app[6])
            total += rating
            len_genre += 1
    
    ratings_avg = total / len_genre
print(genre_app, ':', rating)

# return freq_percentage
48/66:
genre_freq = freq_table(ios_free,12)

for genre in genre_freq:
    total = 0
    len_genre = 0
    for app in ios_free:
        genre_app = app[-5]
        if genre_app == genre:
            rating = float(app[6])
            total += rating
            len_genre += 1
    
    ratings_avg = total / len_genre
    print(genre_app, ':', rating)

# return freq_percentage
48/67:
genre_freq = freq_table(ios_free,12)

for genre in genre_freq:
    total = 0
    len_genre = 0
    for app in ios_free:
        genre_app = app[-5]
        if genre_app == genre:
            rating = float(app[6])
            total += rating
            len_genre += 1
    
    ratings_avg = total / len_genre
return ratings_avg
print(genre_app, ':', rating)

# return freq_percentage
48/68:
genre_freq = freq_table(ios_free,12)

for genre in genre_freq:
    total = 0
    len_genre = 0
    for app in ios_free:
        genre_app = app[-5]
        if genre_app == genre:
            rating = float(app[6])
            total += rating
            len_genre += 1
    
    ratings_avg = total / len_genre
        print(genre_app, ':', rating)

# return freq_percentage
48/69:
genre_freq = freq_table(ios_free,12)

for genre in genre_freq:
    total = 0
    len_genre = 0
    for app in ios_free:
        genre_app = app[-5]
        if genre_app == genre:
            rating = float(app[6])
            total += rating
            len_genre += 1
    
    ratings_avg = total / len_genre
    print(genre_app, ':', rating)

# return freq_percentage
48/70:
genre_freq = freq_table(ios_free,12)

for genre in genre_freq:
    total = 0
    len_genre = 0
    for app in ios_free:
        genre_app = app[-5]
        if genre_app == genre:
            rating = float(app[6])
            total += rating
            len_genre += 1
    
    ratings_avg = total / len_genre
    print(genre_app, ':', ratings_avg)

# return freq_percentage
48/71:
genre_freq = freq_table(ios_free,12)

for genre in genre_freq:
    total = 0
    len_genre = 0
    for app in ios_free:
        genre_app = app[-5]
        if genre_app == genre:
            rating = float(app[6])
            total += rating
            len_genre += 1
    
    ratings_avg = total / len_genre
    print(genre, ':', ratings_avg)

# return freq_percentage
48/72:
genre_freq = freq_table(ios_free,12)

for genre in genre_freq:
    total = 0
    len_genre = 0
    for app in ios_free:
        genre_app = app[-5]
        if genre_app == genre:
            rating = float(app[6])
            total += rating
            len_genre += 1
    
    ratings_avg = sorted(total / len_genre)
    print(genre, ':', ratings_avg)

# return freq_percentage
48/73:
genre_freq = freq_table(ios_free,12)

for genre in genre_freq:
    total = 0
    len_genre = 0
    for app in ios_free:
        genre_app = app[-5]
        if genre_app == genre:
            rating = float(app[6])
            total += rating
            len_genre += 1
    
    ratings_avg = total / len_genre
    print(sorted(genre, ':', ratings_avg))

# return freq_percentage
48/74:
genre_freq = freq_table(ios_free,12)

for genre in genre_freq:
    total = 0
    len_genre = 0
    for app in ios_free:
        genre_app = app[-5]
        if genre_app == genre:
            rating = float(app[6])
            total += rating
            len_genre += 1
    
    ratings_avg = total / len_genre
    print(genre, ':', ratings_avg)

# return freq_percentage
48/75:
genre_freq = freq_table(ios_free,12)

for genre in genre_freq:
    total = 0
    len_genre = 0
    for app in ios_free:
        genre_app = app[-5]
        if genre_app == genre:
            rating = float(app[6])
            total += rating
            len_genre += 1
    
    ratings_avg = total / len_genre
    print(genre, ':', ratings_avg)
48/76:
genre_freq = freq_table(ios_free,12)

for genre in genre_freq:
    total = 0
    len_genre = 0
    for app in ios_free:
        genre_app = app[-5]
        if genre_app == genre:
            rating = float(app[6])
            total += rating
            len_genre += 1
    
    ratings_avg = total / len_genre
    print(genre, ':', ratings_avg)
    print(app, ':', genre)
48/77:
genre_freq = freq_table(ios_free,12)

for genre in genre_freq:
    total = 0
    len_genre = 0
    for app in ios_free:
        genre_app = app[-5]
        if genre_app == genre:
            rating = float(app[6])
            total += rating
            len_genre += 1
    
    ratings_avg = total / len_genre
#     print(genre, ':', ratings_avg)
    print(app, ':', genre)
48/78:
genre_freq = freq_table(ios_free,12)

for genre in genre_freq:
    total = 0
    len_genre = 0
    for app in ios_free:
        genre_app = app[-5]
        if genre_app == genre:
            rating = float(app[6])
            total += rating
            len_genre += 1
    
    ratings_avg = total / len_genre
#     print(genre, ':', ratings_avg)
    print(genre, ':', rating)
48/79:
genre_freq = freq_table(ios_free,12)

for genre in genre_freq:
    total = 0
    len_genre = 0
    for app in ios_free:
        genre_app = app[-5]
        if genre_app == genre:
            rating = float(app[6])
            total += rating
            len_genre += 1
    
    ratings_avg = total / len_genre
48/80:
genre_freq = freq_table(ios_free,12)

for genre in genre_freq:
    total = 0
    len_genre = 0
    for app in ios_free:
        genre_app = app[-5]
        if genre_app == genre:
            rating = float(app[6])
            total += rating
            len_genre += 1
    
    ratings_avg = total / len_genre
    print(genre, ':', ratings_avg)
48/81:
genre_freq = freq_table(ios_free,12)

for genre in genre_freq:
    total = 0
    len_genre = 0
    for app in ios_free:
        genre_app = app[-5]
        if genre_app == genre:
            rating = float(app[6])
            total += rating
            len_genre += 1
    
    ratings_avg = total / len_genre
    print(genre, ':', ratings_avg)
48/82:
genre_freq = freq_table(ios_free,12)

for genre in genre_freq:
    total = 0
    len_genre = 0
    for app in ios_free:
        genre_app = app[-5]
        if genre_app == genre:
            rating = float(app[6])
            total += rating
            len_genre += 1
    
    ratings_avg = total / len_genre
    print(sorted(genre, ':', ratings_avg))
48/83:
genre_freq = freq_table(ios_free,12)

for genre in genre_freq:
    total = 0
    len_genre = 0
    for app in ios_free:
        genre_app = app[-5]
        if genre_app == genre:
            rating = float(app[6])
            total += rating
            len_genre += 1
    
    ratings_avg = total / len_genre
    print(genre, ':', ratings_avg)
48/84:
for app in ios_free:
    genre = app[-5]
    if genre == 'Navigation':
        print(app[2], ':', app[6])
48/85:
for app in ios_free:
    genre = app[-5]
    if genre == 'Navigation':
        print(app[2], ':', app[6]) ## app[2] means name and app[6] means rating
48/86:
for app in ios_free:
    genre = app[-5]
    if genre == 'Reference':
        print(app[2], ':', app[6]) ## app[2] means name and app[6] means rating
48/87:
# This shows that the bible 
for app in ios_free:
    genre = app[-5]
    if genre == 'Reference':
        print(app[2], ':', app[6]) ## app[2] means name and app[6] means rating
48/88:
for app in ios_free:
    genre = app[-5]
    if genre == 'Utilities':
        print(app[2], ':', app[6]) ## app[2] means name and app[6] means rating
48/89:
for app in ios_free:
    genre = app[-5]
    if genre == 'Education':
        print(app[2], ':', app[6]) ## app[2] means name and app[6] means rating
48/90:
for app in ios_free:
    genre = app[-5]
    if genre == 'Productivity':
        print(app[2], ':', app[6]) ## app[2] means name and app[6] means rating
48/91:
for app in ios_free:
    genre = app[-5]
    if genre == 'Productivity':
        print(app[2], ':', app[6]) ## app[2] means name and app[6] means rating
48/92:
for app in ios_free:
    genre = app[-5]
    if genre == 'Book':
        print(app[2], ':', app[6]) ## app[2] means name and app[6] means rating
48/93:
for app in ios_free:
    genre = app[-5]
    if genre == 'Health & Fitness':
        print(app[2], ':', app[6]) ## app[2] means name and app[6] means rating count
48/94:
for app in ios_free:
    genre = app[-5]
    if genre == 'Book':
        print(app[2], ':', app[6]) ## app[2] means name and app[6] means rating count
48/95: display_table(free_android,5) # The installs columns
48/96: display_table(android_free,5) # The installs columns
48/97: category_Freq = freq_table(android_free, 1)
48/98:
category_Freq = freq_table(android_free, 1)
print(category_freq)
48/99:
category_freq = freq_table(android_free, 1)
print(category_freq)
48/100: category_freq = freq_table(android_free, 1)
48/101:
category_freq = freq_table(android_free, 1)

for category in category_freq:
    total = 0
    len_category = 0
    for app in android_free:
        category_app = app[1]
        if category == category_app:
            installs = app[5]
            installs = str.replace('+','')
            installs = str.replace(',','')
            total += installs
            len_category += 1
            
    avg_installs = total/len_category
    print(category, ':', avg_installs)
48/102:
category_freq = freq_table(android_free, 1)

for category in category_freq:
    total = 0
    len_category = 0
    for app in android_free:
        category_app = app[1]
        if category == category_app:
            installs = app[5]
            installs = installs.replace('+','')
            installs = installs.replace(',','')
            total += installs
            len_category += 1
            
    avg_installs = total/len_category
    print(category, ':', avg_installs)
48/103:
category_freq = freq_table(android_free, 1)

for category in category_freq:
    total = 0
    len_category = 0
    for app in android_free:
        category_app = app[1]
        if category == category_app:
            installs = app[5]
            installs = installs.replace('+','')
            installs = installs.replace(',','')
            installs = float(installs)
            total += installs
            len_category += 1
            
    avg_installs = total/len_category
    print(category, ':', avg_installs)
48/104:
category_freq = freq_table(android_free, 1)

for category in category_freq:
    total = 0
    len_category = 0
    for app in android_free:
        category_app = app[1]
        if category == category_app:
            installs = app[5]
            installs = installs.replace('+','')
            installs = float(installs.replace(',',''))
            total += installs
            len_category += 1
            
    avg_installs = total/len_category
    print(category, ':', avg_installs)
48/105:
for app in android_free:
    category = app[1]
    if category == 'Education':
        print(app[0],':',app[5])
48/106:
for app in android_free:
    category = app[1]
    if category == 'Education':
        print(app[0],':',app[5])
48/107:
for app in android_free:
    category = app[1]
    if category == 'EDUCATION':
        print(app[0],':',app[5])
48/108:
for app in android_free:
    category = app[1]
    if category == 'EDUCATION':
        print(sorted(app[0],':',app[5]))
48/109:
for app in android_free:
    category = app[1]
    if category == 'EDUCATION':
        print(app[0],':',app[5])
48/110:
# for app in android_free:
#     category = app[1]
#     if category == 'EDUCATION':
#         print(app[0],':',app[5])
48/111:
for app in android_free:
    category = app[1]
    if category == 'EDUCATION':
        print(app[0],':',app[5])
# installs = {'0 - 10,000':0,'10,000 - 100,000':0,'100,000 - 500,000':0,'500,000 - 1'}
48/112:
for app in android_free:
    category = app[1]
    if category == 'VIDEO_PLAYERS':
        print(app[0],':',app[5])
# installs = {'0 - 10,000':0,'10,000 - 100,000':0,'100,000 - 500,000':0,'500,000 - 1'}
48/113:
for app in android_free:
    category = app[1]
    if category == 'TOOLS':
        print(app[0],':',app[5])
# installs = {'0 - 10,000':0,'10,000 - 100,000':0,'100,000 - 500,000':0,'500,000 - 1'}
48/114:
for app in android_free:
    category = app[1]
    if category == 'COMMUNICATION':
        print(app[0],':',app[5])
        
# installs = {'0 - 10,000':0,'10,000 - 100,000':0,'100,000 - 500,000':0,'500,000 - 1'}
48/115:
for app in android_free:
    category = app[1]
    if category == 'ENTERTAINMENT':
        print(app[0],':',app[5])
48/116:
for app in android_free:
    category = app[1]
    if category == 'COMMUNICATION' and (app[5] == '1,000,000,000+' or app[5] == '500,000,000+'
                                        or app[5] == '100,000,000+'):
        print(app[0],':',app[5])
        
# installs = {'0 - 10,000':0,'10,000 - 100,000':0,'100,000 - 500,000':0,'500,000 - 1'}
48/117:
for app in android_free:
    category = app[1]
    if category == 'ENTERTAINMENT' and (app[5] == '1,000,000,000+' or app[5] == '500,000,000+'
                                        or app[5] == '100,000,000+'):
        print(app[0],':',app[5])
48/118:
for app in android_free:
    category = app[1]
    if category == 'GAME' and (app[5] == '1,000,000,000+' or app[5] == '500,000,000+'
                                        or app[5] == '100,000,000+'):
        print(app[0],':',app[5])
48/119:
for app in android_free:
    category = app[1]
    if category == 'HEALTH_AND_FITNESS' and (app[5] == '1,000,000,000+' or app[5] == '500,000,000+'
                                        or app[5] == '100,000,000+'):
        print(app[0],':',app[5])
48/120:
for app in android_free:
    category = app[1]
    if category == 'TRAVEL_AND_LOCAL' and (app[5] == '1,000,000,000+' or app[5] == '500,000,000+'
                                        or app[5] == '100,000,000+'):
        print(app[0],':',app[5])
48/121:
for app in android_free:
    category = app[1]
    if category == 'PRODUCTIVITY' and (app[5] == '1,000,000,000+' or app[5] == '500,000,000+'
                                        or app[5] == '100,000,000+'):
        print(app[0],':',app[5])
48/122:
for app in android_free:
    category = app[1]
    if category == 'VIDEO_PLAYERS' and (app[5] == '1,000,000,000+' or app[5] == '500,000,000+'
                                        or app[5] == '100,000,000+'):
        print(app[0],':',app[5])
48/123:
for app in android_free:
    category = app[1]
    if category == 'PRODUCTIVITY': 
#         and (app[5] == '1,000,000,000+' or app[5] == '500,000,000+'
#                                         or app[5] == '100,000,000+'):
        print(app[0],':',app[5])
48/124:
for app in android_free:
    category = app[1]
    if category == 'PRODUCTIVITY': 
        and (app[5] == '1,000,000,000+' or app[5] == '500,000,000+'
                                        or app[5] == '100,000,000+'):
        print(app[0],':',app[5])
48/125:
for app in android_free:
    category = app[1]
    if category == 'PRODUCTIVITY' and (app[5] == '1,000,000,000+' or app[5] == '500,000,000+'
                                        or app[5] == '100,000,000+'):
        print(app[0],':',app[5])
48/126:
for app in android_free:
    category = app[1]
    if category == 'VIDEO_PLAYERS' and (app[5] == '1,000,000,000+' or app[5] == '500,000,000+'
                                        or app[5] == '100,000,000+'):
        print(app[0],':',app[5])
48/127:
for app in android_free:
    category = app[1]
    if category == 'PRODUCTIVITY' and (app[5] == '1,000,000+' or app[5] == '5,000,000+'
                                        or app[5] == '10,000,000+' or app[5] == '50,000,000'):
        print(app[0],':',app[5])
48/128:
for app in android_free:
    category = app[1]
    if category == 'TOOLS' and (app[5] == '1,000,000+' or app[5] == '5,000,000+'
                                        or app[5] == '10,000,000+' or app[5] == '50,000,000'):
        print(app[0],':',app[5])
48/129:
for app in android_free:
    category = app['TOOLS' and (app[5] == '1,000,000,000+' or app[5] == '500,000,000+'
                                        or app[5] == '100,000,000+'):
        print(app[0],':',app[5])
48/130:
for app in android_free:
    category = app[1]
    if category == 'PRODUCTIVITY' and (app[5] == '1,000,000,000+' or app[5] == '500,000,000+'
                                        or app[5] == '100,000,000+'):
        print(app[0],':',app[5])
48/131:
for app in android_free:
    category = app[1]
    if category == 'TOOLS' and (app[5] == '1,000,000,000+' or app[5] == '500,000,000+'
                                        or app[5] == '100,000,000+'):
        print(app[0],':',app[5])
48/132:
for app in android_free:
    category = app[1]
    if category == 'EDUCATION' and (app[5] == '1,000,000,000+' or app[5] == '500,000,000+'
                                        or app[5] == '100,000,000+'):
        print(app[0],':',app[5])
48/133:
for app in android_free:
    category = app[1]
    if category == 'EDUCATION' and (app[5] == '1,000,000,000+' or app[5] == '500,000,000+'
                                        or app[5] == '100,000,000+'):
        print(app[0],':',app[5])
48/134:
for app in android_free:
    category = app[1]
    if category == 'EDUCATION' and (app[5] == '1,000,000,000+' or app[5] == '500,000,000+'
                                        or app[5] == '100,000,000+'):
        print(app[0],':',app[5])
48/135:
for app in android_free:
    category = app[1]
    if category == 'PRODUCTIVITY' and (app[5] == '1,000,000+' or app[5] == '5,000,000+'
                                        or app[5] == '10,000,000+' or app[5] == '50,000,000'):
        print(app[0],':',app[5])
48/136:
for app in android_free:
    category = app[1]
    if category == 'EDUCATION' and (app[5] == '1,000,000,000+' or app[5] == '500,000,000+'
                                        or app[5] == '100,000,000+'):
        print(app[0],':',app[5])
48/137:
for app in android_free:
    category = app[1]
    if category == 'EDUCATION' and (app[5] == '1,000,000+' or app[5] == '5,000,000+'
                                        or app[5] == '10,000,000+' or app[5] == '50,000,000'):
        print(app[0],':',app[5])
48/138:
for app in android_free:
    category = app[1]
    if category == 'BOOKS_AND_REFERENCE' and (app[5] == '1,000,000+' or app[5] == '5,000,000+'
                                        or app[5] == '10,000,000+' or app[5] == '50,000,000'):
        print(app[0],':',app[5])
48/139:
for app in android_free:
    category = app[1]
    if category == 'BOOKS_AND_REFERENCE' and (app[5] == '1,000,000,000+' or app[5] == '500,000,000+'
                                        or app[5] == '100,000,000+'):
        print(app[0],':',app[5])
48/140:
for app in android_free:
    category = app[1]
    if category == 'BOOKS_AND_REFERENCE' and (app[5] == '1,000,000+' or app[5] == '5,000,000+'
                                        or app[5] == '10,000,000+' or app[5] == '50,000,000')
        print(app[0],':',app[5])
48/141:
for app in android_free:
    category = app[1]
    if category == 'BOOKS_AND_REFERENCE' and (app[5] == '1,000,000+' or app[5] == '5,000,000+'
                                        or app[5] == '10,000,000+' or app[5] == '50,000,000'):
        print(app[0],':',app[5])
49/1: jupyter notebook list
50/1: history%p -
50/2: history% -p
50/3: %history -p
50/4: %history -g
50/5: %history -g -f AppStore Analysis.ipynb
50/6: %history -g AppStore Analysis.ipynb
50/7: !pwd
50/8: grep "^$(date -d '-2 hour' +'%H')" | grep -a 'android_free'
50/9: grep '^$(date -d '-2 hour' +'%H')' | grep -a 'android_free'
50/10: grep "^$(date -d '-2 hour' +'%H')" | grep -a 'android_free'
   1:
from csv import reader

# Opening AppleStore Apps
open_file = open('AppleStore.csv', encoding='utf-8')
read_file = reader(open_file)
ios = list(read_file)
ios_header = ios[0]
ios = ios[1:]

# Opening Google PlayStore Apps
open_file = open('googleplaystore.csv',encoding='utf-8')
read_file = reader(open_file)
android = list(read_file)
android_header = android[0]
android = android[1:]
   2:
def explore_data(dataset, start, end, rows_and_columns = True):
    dataset_slice = dataset[start:end]
    for row in dataset_slice:
        print(row,'\n') #prints row and adds a linespace after each row
        
    if rows_and_columns:
        print('Number of rows:',len(dataset))
        print('Number of columns:',len(dataset[0]))

print(ios_header,'\n')
explore_data(ios,0,5)
   3:
print(android_header,'\n')
explore_data(android,0,5)
   4:
# Delete this android row with the error and run only ONCE

print(android_header,'\n')
print(android[10472],'\n')
del android[10472]
print(android[10472],'\n')

print(len(android)) #the new lenght has been reduced by 1
   5:
# To check if there are similar errors let us check the length of each row

for app in android:
    if len(app) != len(android_header):
        print(app)
        
for App in ios:
    if len(App) != len(ios_header):
        print(App)
        
# No output means the rows are now all equal
   6:
# finding out the number of duplicate apps in android

for app in android:
    name = app[0]
    if name == 'Instagram':
        print(app)
   7:
# Finding the number of duplicate app for android

duplicate_apps = []
unique_apps = []

for app in android:
    name = app[0]
    if name in unique_apps:
        duplicate_apps.append(name)
    else:
        unique_apps.append(name)
        
print('Number of duplicate_apps:', len(duplicate_apps),'\n')
print('Number of unique_apps:', len(unique_apps),'\n')
print('Examples of duplicate apps:',duplicate_apps[:20])
   8:
# Showing you that some apps indeed appear more than once

app_freq = {}
for app in android:
    name = app[0]
    if name in app_freq:
        app_freq[name] += 1
    else:
        app_freq[name] = 1
        
# print(app_freq)
   9: print('Expected length:', len(android)-1181)     #To confirm the observation
  10:
# Creating the dictionary

reviews_max = {}
for app in android:
    name = app[0]
    n_reviews = float(app[3])
    if name in reviews_max and reviews_max[name] < n_reviews:
        reviews_max[name] = n_reviews
    elif name not in reviews_max:
        reviews_max[name] = n_reviews
    
# print(reviews_max)
print(len(reviews_max))
  11:
# Creating the clean data

android_clean = []
already_added = []
for app in android:
    name = app[0]
    n_reviews = float(app[3])
    if (n_reviews == reviews_max[name]) and (name not in already_added):
        android_clean.append(app)
        already_added.append(name)
        
explore_data(android_clean,1,5)
explore_data(already_added,1,5)
  12:
print(ios[813][1])
print(ios[6731][1],'\n')
print(android_clean[4412][0])
print(android_clean[7940][0])
  13:
# Writing a function that takes in a string and returns True or False

def english_check(name):
    for character in name:
        if ord(character) > 127:
            return False
        
    return True
            
print(english_check('Instagram'))
print(english_check('爱奇艺PPS -《欢乐颂2》电视剧热播'))
print(english_check('Docs To Go™ Free Office Suite'))
print(english_check('Instachat 😜'))
  14:
# Updated function for english app

def english_name(string):
    non_ascii = 0
    for character in string:
        if ord(character) > 127:
            non_ascii += 1
        
        if non_ascii > 3:
            return False
    return True

print(english_name('Docs To Go™ Free Office Suite'))
print(english_name('Instachat 😜'))
  15:
# Filtering out non_english apps

ios_english = []
android_english = []

for app in ios:
    name = app[2]
    if english_name(name) == True:
        ios_english.append(app)
        
for app in android_clean:
    name = app[0]
    if english_name(name) == True:
        android_english.append(app)
        
# print(len(ios_english))
# print(len(android_english))
explore_data(ios_english,0,3)
explore_data(android_english,0,3)
  16:
# Creating a new data set consisting of free apps only

ios_free = []
android_free = []

for app in ios_english:
    price = app[5]
    if price == '0':
        ios_free.append(app)

for app in android_english:
    price = app[6]
    if price == 'Free':
        android_free.append(app)
        
explore_data(ios_free,0,3)
explore_data(android_free,0,3)
  17:
# To see the columns we need
print(ios_header,'\n')
print(android_header)
  18:
def freq_table(dataset, index):
    frequency = {}
    total = 0
    for app in dataset:
        total += 1
        value = app[index]
        if value in frequency:
            frequency[value] += 1
        else:
            frequency[value] = 1
    
    freq_percentage = {}
    for genre in frequency:
        percentage = (frequency[genre] * 100) / total
        freq_percentage[genre] = percentage
    
    return freq_percentage
        

def display_table(dataset, index):
    table = freq_table(dataset, index)
    table_display = []
    for key in table:
        key_val_as_tuple = (table[key], key)
        table_display.append(key_val_as_tuple)
        
    table_sorted = sorted(table_display, reverse = True)
    for entry in table_sorted:
        print(entry[1], ':', entry[0])
  19: display_table(ios_free,12) #Frequency table for Prime Genre
  20: display_table(android_free,1) #Frequency table for Category
  21: display_table(android_free,9) #Frequency table for Genre
  22:
genre_freq = freq_table(ios_free,12)

for genre in genre_freq:
    total = 0
    len_genre = 0
    for app in ios_free:
        genre_app = app[-5]
        if genre_app == genre:
            rating = float(app[6])
            total += rating
            len_genre += 1
    
    ratings_avg = total / len_genre
    print(genre, ':', ratings_avg)
  23: # %history -g
  24:
for app in ios_free:
    genre = app[-5]
    if genre == 'Navigation':
        print(app[2], ':', app[6])
  25:
for app in ios_free:
    genre = app[-5]
    if genre == 'Navigation':
        print(app[2], ':', app[6]) ## app[2] means name and app[6] means rating
  26:
# This shows that the bible 
for app in ios_free:
    genre = app[-5]
    if genre == 'Reference':
        print(app[2], ':', app[6]) ## app[2] means name and app[6] means rating
  27:
for app in ios_free:
    genre = app[-5]
    if genre == 'Productivity':
        print(app[2], ':', app[6]) ## app[2] means name and app[6] means rating
  28: display_table(android_free,5) # The installs columns
  29:
category_freq = freq_table(android_free, 1)

for category in category_freq:
    total = 0
    len_category = 0
    for app in android_free:
        category_app = app[1]
        if category == category_app:
            installs = app[5]
            installs = installs.replace('+','')
            installs = float(installs.replace(',',''))
            total += installs
            len_category += 1
            
    avg_installs = total/len_category
    print(category, ':', avg_installs)
  30:
category_freq = freq_table(android_free, 1)

for category in category_freq:
    total = 0
    len_category = 0
    for app in android_free:
        category_app = app[1]
        if category == category_app:
            installs = app[5]
            installs = installs.replace('+','')
            installs = float(installs.replace(',',''))
            total += installs
            len_category += 1
            
    avg_installs = total/len_category
    print(category, ':', avg_installs)
  31:
for app in android_free:
    category = app[1]
    if category == 'EDUCATION':
        print(app[0],':',app[5])
  32:
for app in android_free:
    category = app[1]
    if category == 'PRODUCTIVITY' and (app[5] == '1,000,000,000+' or app[5] == '500,000,000+'
                                        or app[5] == '100,000,000+'):
        print(app[0],':',app[5])
  33:
for app in android_free:
    category = app[1]
    if category == 'VIDEO_PLAYERS' and (app[5] == '1,000,000,000+' or app[5] == '500,000,000+'
                                        or app[5] == '100,000,000+'):
        print(app[0],':',app[5])
  34:
or app in android_free:
    category = app[1]
    if category == 'PRODUCTIVITY' and (app[5] == '1,000,000+' or app[5] == '5,000,000+'
                                        or app[5] == '10,000,000+' or app[5] == '50,000,000'):
  35:
For app in android_free:
    category = app[1]
    if category == 'PRODUCTIVITY' and (app[5] == '1,000,000+' or app[5] == '5,000,000+'
                                        or app[5] == '10,000,000+' or app[5] == '50,000,000'):
  36:
for app in android_free:
    category = app[1]
    if category == 'PRODUCTIVITY' and (app[5] == '1,000,000+' or app[5] == '5,000,000+'
                                        or app[5] == '10,000,000+' or app[5] == '50,000,000'):
  37:
for app in android_free:
    category = app[1]
    if category == 'PRODUCTIVITY' and (app[5] == '1,000,000+' or app[5] == '5,000,000+'
                                        or app[5] == '10,000,000+' or app[5] == '50,000,000'):
        print(app[0],':',app[5])
  38:
for app in android_free:
    category = app[1]
    if category == 'BOOKS_AND_REFERENCE' and (app[5] == '1,000,000,000+' or app[5] == '500,000,000+'
                                        or app[5] == '100,000,000+'):
        print(app[0],':',app[5])
  39:
for app in android_free:
    category = app[1]
    if category == 'BOOKS_AND_REFERENCE' and (app[5] == '1,000,000,000+' or app[5] == '500,000,000+'
                                        or app[5] == '100,000,000+'):
        print(app[0],':',app[5])
  40:
for app in android_free:
    category = app[1]
    if category == 'BOOKS_AND_REFERENCE' and (app[5] == '1,000,000+' or app[5] == '5,000,000+'
                                        or app[5] == '10,000,000+' or app[5] == '50,000,000'):
        print(app[0],':',app[5])
  41: grep -a
  42: grep -a 'import pandas as pd'
  43: _ih[-15:]
  44: _ih[-50:]
  45: _ih[-100:]
  46: %history -g
  47: %history -g -f recovery.ipynb
